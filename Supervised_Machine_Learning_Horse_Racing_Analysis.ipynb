{
 "cells": [
  {
   "cell_type": "code",
   "execution_count": 1,
   "metadata": {},
   "outputs": [
    {
     "data": {
      "application/javascript": [
       "\n",
       "            setTimeout(function() {\n",
       "                var nbb_cell_id = 1;\n",
       "                var nbb_unformatted_code = \"%reload_ext nb_black\";\n",
       "                var nbb_formatted_code = \"%reload_ext nb_black\";\n",
       "                var nbb_cells = Jupyter.notebook.get_cells();\n",
       "                for (var i = 0; i < nbb_cells.length; ++i) {\n",
       "                    if (nbb_cells[i].input_prompt_number == nbb_cell_id) {\n",
       "                        if (nbb_cells[i].get_text() == nbb_unformatted_code) {\n",
       "                             nbb_cells[i].set_text(nbb_formatted_code);\n",
       "                        }\n",
       "                        break;\n",
       "                    }\n",
       "                }\n",
       "            }, 500);\n",
       "            "
      ],
      "text/plain": [
       "<IPython.core.display.Javascript object>"
      ]
     },
     "metadata": {},
     "output_type": "display_data"
    }
   ],
   "source": [
    "%reload_ext nb_black"
   ]
  },
  {
   "cell_type": "markdown",
   "metadata": {},
   "source": [
    "\"\"\"Example sklearn pipeline workflow\n",
    "\n",
    "1. Create a ColumnTranformer to preprocess data\n",
    "2. Create a Pipeline to fit model\n",
    "3. Fit pipeline using GridSearchCV\n",
    "4. Save best model to file\n",
    "5. Read saved model to predict on new data\n",
    "\"\"\"\n"
   ]
  },
  {
   "cell_type": "code",
   "execution_count": 3,
   "metadata": {
    "scrolled": false
   },
   "outputs": [
    {
     "data": {
      "application/javascript": [
       "\n",
       "            setTimeout(function() {\n",
       "                var nbb_cell_id = 3;\n",
       "                var nbb_unformatted_code = \"import pickle\\n\\nimport pandas as pd\\n\\nfrom sklearn.pipeline import Pipeline\\nfrom sklearn.compose import ColumnTransformer\\nfrom sklearn.model_selection import train_test_split, GridSearchCV\\n\\nfrom sklearn.preprocessing import StandardScaler, OneHotEncoder\\nfrom category_encoders import LeaveOneOutEncoder\\n\\n# Replace with whatever model import(s) you're using\\nfrom sklearn.ensemble import RandomForestClassifier\\n\\nimport warnings\\n\\nwarnings.filterwarnings(\\\"ignore\\\")\";\n",
       "                var nbb_formatted_code = \"import pickle\\n\\nimport pandas as pd\\n\\nfrom sklearn.pipeline import Pipeline\\nfrom sklearn.compose import ColumnTransformer\\nfrom sklearn.model_selection import train_test_split, GridSearchCV\\n\\nfrom sklearn.preprocessing import StandardScaler, OneHotEncoder\\nfrom category_encoders import LeaveOneOutEncoder\\n\\n# Replace with whatever model import(s) you're using\\nfrom sklearn.ensemble import RandomForestClassifier\\n\\nimport warnings\\n\\nwarnings.filterwarnings(\\\"ignore\\\")\";\n",
       "                var nbb_cells = Jupyter.notebook.get_cells();\n",
       "                for (var i = 0; i < nbb_cells.length; ++i) {\n",
       "                    if (nbb_cells[i].input_prompt_number == nbb_cell_id) {\n",
       "                        if (nbb_cells[i].get_text() == nbb_unformatted_code) {\n",
       "                             nbb_cells[i].set_text(nbb_formatted_code);\n",
       "                        }\n",
       "                        break;\n",
       "                    }\n",
       "                }\n",
       "            }, 500);\n",
       "            "
      ],
      "text/plain": [
       "<IPython.core.display.Javascript object>"
      ]
     },
     "metadata": {},
     "output_type": "display_data"
    }
   ],
   "source": [
    "import pickle\n",
    "\n",
    "import pandas as pd\n",
    "\n",
    "from sklearn.pipeline import Pipeline\n",
    "from sklearn.compose import ColumnTransformer\n",
    "from sklearn.model_selection import train_test_split, GridSearchCV\n",
    "\n",
    "from sklearn.preprocessing import StandardScaler, OneHotEncoder\n",
    "from category_encoders import LeaveOneOutEncoder\n",
    "\n",
    "# Replace with whatever model import(s) you're using\n",
    "from sklearn.ensemble import RandomForestClassifier\n",
    "\n",
    "import warnings\n",
    "\n",
    "warnings.filterwarnings(\"ignore\")"
   ]
  },
  {
   "cell_type": "code",
   "execution_count": 4,
   "metadata": {},
   "outputs": [
    {
     "data": {
      "application/javascript": [
       "\n",
       "            setTimeout(function() {\n",
       "                var nbb_cell_id = 4;\n",
       "                var nbb_unformatted_code = \"%matplotlib inline\";\n",
       "                var nbb_formatted_code = \"%matplotlib inline\";\n",
       "                var nbb_cells = Jupyter.notebook.get_cells();\n",
       "                for (var i = 0; i < nbb_cells.length; ++i) {\n",
       "                    if (nbb_cells[i].input_prompt_number == nbb_cell_id) {\n",
       "                        if (nbb_cells[i].get_text() == nbb_unformatted_code) {\n",
       "                             nbb_cells[i].set_text(nbb_formatted_code);\n",
       "                        }\n",
       "                        break;\n",
       "                    }\n",
       "                }\n",
       "            }, 500);\n",
       "            "
      ],
      "text/plain": [
       "<IPython.core.display.Javascript object>"
      ]
     },
     "metadata": {},
     "output_type": "display_data"
    }
   ],
   "source": [
    "%matplotlib inline"
   ]
  },
  {
   "cell_type": "code",
   "execution_count": 5,
   "metadata": {},
   "outputs": [
    {
     "data": {
      "application/javascript": [
       "\n",
       "            setTimeout(function() {\n",
       "                var nbb_cell_id = 5;\n",
       "                var nbb_unformatted_code = \"# Supresses scientific notation\\npd.set_option(\\\"display.float_format\\\", lambda x: \\\"%.2f\\\" % x)\";\n",
       "                var nbb_formatted_code = \"# Supresses scientific notation\\npd.set_option(\\\"display.float_format\\\", lambda x: \\\"%.2f\\\" % x)\";\n",
       "                var nbb_cells = Jupyter.notebook.get_cells();\n",
       "                for (var i = 0; i < nbb_cells.length; ++i) {\n",
       "                    if (nbb_cells[i].input_prompt_number == nbb_cell_id) {\n",
       "                        if (nbb_cells[i].get_text() == nbb_unformatted_code) {\n",
       "                             nbb_cells[i].set_text(nbb_formatted_code);\n",
       "                        }\n",
       "                        break;\n",
       "                    }\n",
       "                }\n",
       "            }, 500);\n",
       "            "
      ],
      "text/plain": [
       "<IPython.core.display.Javascript object>"
      ]
     },
     "metadata": {},
     "output_type": "display_data"
    }
   ],
   "source": [
    "# Supresses scientific notation\n",
    "pd.set_option(\"display.float_format\", lambda x: \"%.2f\" % x)"
   ]
  },
  {
   "cell_type": "markdown",
   "metadata": {},
   "source": [
    "Importing all dataset colums except for man-made metrics. Man-made metrics are subject to change and may include bias and colineraty to the model."
   ]
  },
  {
   "cell_type": "code",
   "execution_count": 6,
   "metadata": {},
   "outputs": [
    {
     "data": {
      "application/javascript": [
       "\n",
       "            setTimeout(function() {\n",
       "                var nbb_cell_id = 6;\n",
       "                var nbb_unformatted_code = \"cols = [\\\"position_again\\\",\\\"bf_odds\\\",\\\"venue_name\\\",\\\"date\\\",\\\"market_name\\\",\\\"condition\\\",\\n          \\\"barrier\\\",\\\"handicap_weight\\\",\\\"last_twenty_starts\\\",\\\"prize_money\\\",\\\"sex\\\",\\n          \\\"age\\\",\\\"jockey_sex\\\",\\\"days_since_last_run\\\",\\\"overall_starts\\\",\\\"overall_wins\\\",\\n          \\\"overall_places\\\",\\\"track_starts\\\",\\\"track_wins\\\",\\\"track_places\\\",\\\"firm_starts\\\",\\n          \\\"firm_wins\\\",\\\"firm_places\\\",\\\"good_starts\\\",\\\"good_wins\\\",\\\"good_places\\\",\\n          \\\"slow_starts\\\",\\\"slow_wins\\\",\\\"slow_places\\\",\\\"soft_starts\\\",\\\"soft_wins\\\",\\n          \\\"soft_places\\\",\\\"heavy_starts\\\",\\\"heavy_wins\\\",\\\"heavy_places\\\",\\\"distance_starts\\\",\\n          \\\"distance_wins\\\",\\\"distance_places\\\"]\";\n",
       "                var nbb_formatted_code = \"cols = [\\n    \\\"position_again\\\",\\n    \\\"bf_odds\\\",\\n    \\\"venue_name\\\",\\n    \\\"date\\\",\\n    \\\"market_name\\\",\\n    \\\"condition\\\",\\n    \\\"barrier\\\",\\n    \\\"handicap_weight\\\",\\n    \\\"last_twenty_starts\\\",\\n    \\\"prize_money\\\",\\n    \\\"sex\\\",\\n    \\\"age\\\",\\n    \\\"jockey_sex\\\",\\n    \\\"days_since_last_run\\\",\\n    \\\"overall_starts\\\",\\n    \\\"overall_wins\\\",\\n    \\\"overall_places\\\",\\n    \\\"track_starts\\\",\\n    \\\"track_wins\\\",\\n    \\\"track_places\\\",\\n    \\\"firm_starts\\\",\\n    \\\"firm_wins\\\",\\n    \\\"firm_places\\\",\\n    \\\"good_starts\\\",\\n    \\\"good_wins\\\",\\n    \\\"good_places\\\",\\n    \\\"slow_starts\\\",\\n    \\\"slow_wins\\\",\\n    \\\"slow_places\\\",\\n    \\\"soft_starts\\\",\\n    \\\"soft_wins\\\",\\n    \\\"soft_places\\\",\\n    \\\"heavy_starts\\\",\\n    \\\"heavy_wins\\\",\\n    \\\"heavy_places\\\",\\n    \\\"distance_starts\\\",\\n    \\\"distance_wins\\\",\\n    \\\"distance_places\\\",\\n]\";\n",
       "                var nbb_cells = Jupyter.notebook.get_cells();\n",
       "                for (var i = 0; i < nbb_cells.length; ++i) {\n",
       "                    if (nbb_cells[i].input_prompt_number == nbb_cell_id) {\n",
       "                        if (nbb_cells[i].get_text() == nbb_unformatted_code) {\n",
       "                             nbb_cells[i].set_text(nbb_formatted_code);\n",
       "                        }\n",
       "                        break;\n",
       "                    }\n",
       "                }\n",
       "            }, 500);\n",
       "            "
      ],
      "text/plain": [
       "<IPython.core.display.Javascript object>"
      ]
     },
     "metadata": {},
     "output_type": "display_data"
    }
   ],
   "source": [
    "cols = [\n",
    "    \"position_again\",\n",
    "    \"bf_odds\",\n",
    "    \"venue_name\",\n",
    "    \"date\",\n",
    "    \"market_name\",\n",
    "    \"condition\",\n",
    "    \"barrier\",\n",
    "    \"handicap_weight\",\n",
    "    \"last_twenty_starts\",\n",
    "    \"prize_money\",\n",
    "    \"sex\",\n",
    "    \"age\",\n",
    "    \"jockey_sex\",\n",
    "    \"days_since_last_run\",\n",
    "    \"overall_starts\",\n",
    "    \"overall_wins\",\n",
    "    \"overall_places\",\n",
    "    \"track_starts\",\n",
    "    \"track_wins\",\n",
    "    \"track_places\",\n",
    "    \"firm_starts\",\n",
    "    \"firm_wins\",\n",
    "    \"firm_places\",\n",
    "    \"good_starts\",\n",
    "    \"good_wins\",\n",
    "    \"good_places\",\n",
    "    \"slow_starts\",\n",
    "    \"slow_wins\",\n",
    "    \"slow_places\",\n",
    "    \"soft_starts\",\n",
    "    \"soft_wins\",\n",
    "    \"soft_places\",\n",
    "    \"heavy_starts\",\n",
    "    \"heavy_wins\",\n",
    "    \"heavy_places\",\n",
    "    \"distance_starts\",\n",
    "    \"distance_wins\",\n",
    "    \"distance_places\",\n",
    "]"
   ]
  },
  {
   "cell_type": "code",
   "execution_count": 7,
   "metadata": {},
   "outputs": [
    {
     "data": {
      "application/javascript": [
       "\n",
       "            setTimeout(function() {\n",
       "                var nbb_cell_id = 7;\n",
       "                var nbb_unformatted_code = \"df = pd.read_csv(\\\"Data/horses_2.csv\\\", usecols=cols, skipinitialspace=True, low_memory=False)\";\n",
       "                var nbb_formatted_code = \"df = pd.read_csv(\\n    \\\"Data/horses_2.csv\\\", usecols=cols, skipinitialspace=True, low_memory=False\\n)\";\n",
       "                var nbb_cells = Jupyter.notebook.get_cells();\n",
       "                for (var i = 0; i < nbb_cells.length; ++i) {\n",
       "                    if (nbb_cells[i].input_prompt_number == nbb_cell_id) {\n",
       "                        if (nbb_cells[i].get_text() == nbb_unformatted_code) {\n",
       "                             nbb_cells[i].set_text(nbb_formatted_code);\n",
       "                        }\n",
       "                        break;\n",
       "                    }\n",
       "                }\n",
       "            }, 500);\n",
       "            "
      ],
      "text/plain": [
       "<IPython.core.display.Javascript object>"
      ]
     },
     "metadata": {},
     "output_type": "display_data"
    }
   ],
   "source": [
    "df = pd.read_csv(\n",
    "    \"Data/horse_race_data.csv\", usecols=cols, skipinitialspace=True, low_memory=False\n",
    ")"
   ]
  },
  {
   "cell_type": "code",
   "execution_count": 9,
   "metadata": {},
   "outputs": [
    {
     "data": {
      "application/javascript": [
       "\n",
       "            setTimeout(function() {\n",
       "                var nbb_cell_id = 9;\n",
       "                var nbb_unformatted_code = \"pd.set_option('display.max_columns', 40)\";\n",
       "                var nbb_formatted_code = \"pd.set_option(\\\"display.max_columns\\\", 40)\";\n",
       "                var nbb_cells = Jupyter.notebook.get_cells();\n",
       "                for (var i = 0; i < nbb_cells.length; ++i) {\n",
       "                    if (nbb_cells[i].input_prompt_number == nbb_cell_id) {\n",
       "                        if (nbb_cells[i].get_text() == nbb_unformatted_code) {\n",
       "                             nbb_cells[i].set_text(nbb_formatted_code);\n",
       "                        }\n",
       "                        break;\n",
       "                    }\n",
       "                }\n",
       "            }, 500);\n",
       "            "
      ],
      "text/plain": [
       "<IPython.core.display.Javascript object>"
      ]
     },
     "metadata": {},
     "output_type": "display_data"
    }
   ],
   "source": [
    "pd.set_option(\"display.max_columns\", 40)"
   ]
  },
  {
   "cell_type": "code",
   "execution_count": 10,
   "metadata": {},
   "outputs": [
    {
     "data": {
      "text/html": [
       "<div>\n",
       "<style scoped>\n",
       "    .dataframe tbody tr th:only-of-type {\n",
       "        vertical-align: middle;\n",
       "    }\n",
       "\n",
       "    .dataframe tbody tr th {\n",
       "        vertical-align: top;\n",
       "    }\n",
       "\n",
       "    .dataframe thead th {\n",
       "        text-align: right;\n",
       "    }\n",
       "</style>\n",
       "<table border=\"1\" class=\"dataframe\">\n",
       "  <thead>\n",
       "    <tr style=\"text-align: right;\">\n",
       "      <th></th>\n",
       "      <th>position_again</th>\n",
       "      <th>bf_odds</th>\n",
       "      <th>venue_name</th>\n",
       "      <th>date</th>\n",
       "      <th>market_name</th>\n",
       "      <th>condition</th>\n",
       "      <th>barrier</th>\n",
       "      <th>handicap_weight</th>\n",
       "      <th>prize_money</th>\n",
       "      <th>sex</th>\n",
       "      <th>age</th>\n",
       "      <th>jockey_sex</th>\n",
       "      <th>last_twenty_starts</th>\n",
       "      <th>days_since_last_run</th>\n",
       "      <th>overall_starts</th>\n",
       "      <th>overall_wins</th>\n",
       "      <th>overall_places</th>\n",
       "      <th>track_starts</th>\n",
       "      <th>track_wins</th>\n",
       "      <th>track_places</th>\n",
       "      <th>firm_starts</th>\n",
       "      <th>firm_wins</th>\n",
       "      <th>firm_places</th>\n",
       "      <th>good_starts</th>\n",
       "      <th>good_wins</th>\n",
       "      <th>good_places</th>\n",
       "      <th>slow_starts</th>\n",
       "      <th>slow_wins</th>\n",
       "      <th>slow_places</th>\n",
       "      <th>soft_starts</th>\n",
       "      <th>soft_wins</th>\n",
       "      <th>soft_places</th>\n",
       "      <th>heavy_starts</th>\n",
       "      <th>heavy_wins</th>\n",
       "      <th>heavy_places</th>\n",
       "      <th>distance_starts</th>\n",
       "      <th>distance_wins</th>\n",
       "      <th>distance_places</th>\n",
       "    </tr>\n",
       "  </thead>\n",
       "  <tbody>\n",
       "    <tr>\n",
       "      <th>0</th>\n",
       "      <td>1.00</td>\n",
       "      <td>2.88</td>\n",
       "      <td>Echuca</td>\n",
       "      <td>2016-06-27</td>\n",
       "      <td>R3 1200m Mdn</td>\n",
       "      <td>HVY9</td>\n",
       "      <td>3.00</td>\n",
       "      <td>58.50</td>\n",
       "      <td>2160.00</td>\n",
       "      <td>Gelding</td>\n",
       "      <td>3.00</td>\n",
       "      <td>Male</td>\n",
       "      <td>f3</td>\n",
       "      <td>14.00</td>\n",
       "      <td>1.00</td>\n",
       "      <td>0.00</td>\n",
       "      <td>1.00</td>\n",
       "      <td>0.00</td>\n",
       "      <td>0.00</td>\n",
       "      <td>0.00</td>\n",
       "      <td>0.00</td>\n",
       "      <td>0.00</td>\n",
       "      <td>0.00</td>\n",
       "      <td>0.00</td>\n",
       "      <td>0.00</td>\n",
       "      <td>0.00</td>\n",
       "      <td>1.00</td>\n",
       "      <td>0.00</td>\n",
       "      <td>1.00</td>\n",
       "      <td>1.00</td>\n",
       "      <td>0.00</td>\n",
       "      <td>1.00</td>\n",
       "      <td>0.00</td>\n",
       "      <td>0.00</td>\n",
       "      <td>0.00</td>\n",
       "      <td>1.00</td>\n",
       "      <td>0.00</td>\n",
       "      <td>1.00</td>\n",
       "    </tr>\n",
       "    <tr>\n",
       "      <th>1</th>\n",
       "      <td>2.00</td>\n",
       "      <td>15.00</td>\n",
       "      <td>Echuca</td>\n",
       "      <td>2016-06-27</td>\n",
       "      <td>R3 1200m Mdn</td>\n",
       "      <td>HVY9</td>\n",
       "      <td>10.00</td>\n",
       "      <td>58.50</td>\n",
       "      <td>21175.00</td>\n",
       "      <td>Gelding</td>\n",
       "      <td>5.00</td>\n",
       "      <td>Male</td>\n",
       "      <td>f0x6x80x2</td>\n",
       "      <td>39.00</td>\n",
       "      <td>5.00</td>\n",
       "      <td>0.00</td>\n",
       "      <td>1.00</td>\n",
       "      <td>0.00</td>\n",
       "      <td>0.00</td>\n",
       "      <td>0.00</td>\n",
       "      <td>0.00</td>\n",
       "      <td>0.00</td>\n",
       "      <td>0.00</td>\n",
       "      <td>2.00</td>\n",
       "      <td>0.00</td>\n",
       "      <td>0.00</td>\n",
       "      <td>2.00</td>\n",
       "      <td>0.00</td>\n",
       "      <td>1.00</td>\n",
       "      <td>2.00</td>\n",
       "      <td>0.00</td>\n",
       "      <td>1.00</td>\n",
       "      <td>1.00</td>\n",
       "      <td>0.00</td>\n",
       "      <td>0.00</td>\n",
       "      <td>1.00</td>\n",
       "      <td>0.00</td>\n",
       "      <td>1.00</td>\n",
       "    </tr>\n",
       "    <tr>\n",
       "      <th>2</th>\n",
       "      <td>3.00</td>\n",
       "      <td>95.00</td>\n",
       "      <td>Echuca</td>\n",
       "      <td>2016-06-27</td>\n",
       "      <td>R3 1200m Mdn</td>\n",
       "      <td>HVY9</td>\n",
       "      <td>6.00</td>\n",
       "      <td>56.50</td>\n",
       "      <td>28855.00</td>\n",
       "      <td>Mare</td>\n",
       "      <td>6.00</td>\n",
       "      <td>Male</td>\n",
       "      <td>f68477579x00</td>\n",
       "      <td>15.00</td>\n",
       "      <td>10.00</td>\n",
       "      <td>0.00</td>\n",
       "      <td>0.00</td>\n",
       "      <td>0.00</td>\n",
       "      <td>0.00</td>\n",
       "      <td>0.00</td>\n",
       "      <td>0.00</td>\n",
       "      <td>0.00</td>\n",
       "      <td>0.00</td>\n",
       "      <td>2.00</td>\n",
       "      <td>0.00</td>\n",
       "      <td>0.00</td>\n",
       "      <td>1.00</td>\n",
       "      <td>0.00</td>\n",
       "      <td>0.00</td>\n",
       "      <td>5.00</td>\n",
       "      <td>0.00</td>\n",
       "      <td>0.00</td>\n",
       "      <td>3.00</td>\n",
       "      <td>0.00</td>\n",
       "      <td>0.00</td>\n",
       "      <td>4.00</td>\n",
       "      <td>0.00</td>\n",
       "      <td>0.00</td>\n",
       "    </tr>\n",
       "    <tr>\n",
       "      <th>3</th>\n",
       "      <td>nan</td>\n",
       "      <td>20.00</td>\n",
       "      <td>Echuca</td>\n",
       "      <td>2016-06-27</td>\n",
       "      <td>R3 1200m Mdn</td>\n",
       "      <td>HVY9</td>\n",
       "      <td>2.00</td>\n",
       "      <td>56.50</td>\n",
       "      <td>1475.00</td>\n",
       "      <td>Filly</td>\n",
       "      <td>3.00</td>\n",
       "      <td>Male</td>\n",
       "      <td>f0</td>\n",
       "      <td>15.00</td>\n",
       "      <td>1.00</td>\n",
       "      <td>0.00</td>\n",
       "      <td>0.00</td>\n",
       "      <td>0.00</td>\n",
       "      <td>0.00</td>\n",
       "      <td>0.00</td>\n",
       "      <td>0.00</td>\n",
       "      <td>0.00</td>\n",
       "      <td>0.00</td>\n",
       "      <td>0.00</td>\n",
       "      <td>0.00</td>\n",
       "      <td>0.00</td>\n",
       "      <td>0.00</td>\n",
       "      <td>0.00</td>\n",
       "      <td>0.00</td>\n",
       "      <td>1.00</td>\n",
       "      <td>0.00</td>\n",
       "      <td>0.00</td>\n",
       "      <td>0.00</td>\n",
       "      <td>0.00</td>\n",
       "      <td>0.00</td>\n",
       "      <td>1.00</td>\n",
       "      <td>0.00</td>\n",
       "      <td>0.00</td>\n",
       "    </tr>\n",
       "    <tr>\n",
       "      <th>4</th>\n",
       "      <td>nan</td>\n",
       "      <td>2.74</td>\n",
       "      <td>Echuca</td>\n",
       "      <td>2016-06-27</td>\n",
       "      <td>R3 1200m Mdn</td>\n",
       "      <td>HVY9</td>\n",
       "      <td>7.00</td>\n",
       "      <td>56.50</td>\n",
       "      <td>1215.00</td>\n",
       "      <td>Filly</td>\n",
       "      <td>3.00</td>\n",
       "      <td>Male</td>\n",
       "      <td>f4x</td>\n",
       "      <td>173.00</td>\n",
       "      <td>1.00</td>\n",
       "      <td>0.00</td>\n",
       "      <td>0.00</td>\n",
       "      <td>0.00</td>\n",
       "      <td>0.00</td>\n",
       "      <td>0.00</td>\n",
       "      <td>0.00</td>\n",
       "      <td>0.00</td>\n",
       "      <td>0.00</td>\n",
       "      <td>1.00</td>\n",
       "      <td>0.00</td>\n",
       "      <td>0.00</td>\n",
       "      <td>0.00</td>\n",
       "      <td>0.00</td>\n",
       "      <td>0.00</td>\n",
       "      <td>0.00</td>\n",
       "      <td>0.00</td>\n",
       "      <td>0.00</td>\n",
       "      <td>0.00</td>\n",
       "      <td>0.00</td>\n",
       "      <td>0.00</td>\n",
       "      <td>1.00</td>\n",
       "      <td>0.00</td>\n",
       "      <td>0.00</td>\n",
       "    </tr>\n",
       "  </tbody>\n",
       "</table>\n",
       "</div>"
      ],
      "text/plain": [
       "   position_again  bf_odds venue_name        date   market_name condition  \\\n",
       "0            1.00     2.88     Echuca  2016-06-27  R3 1200m Mdn      HVY9   \n",
       "1            2.00    15.00     Echuca  2016-06-27  R3 1200m Mdn      HVY9   \n",
       "2            3.00    95.00     Echuca  2016-06-27  R3 1200m Mdn      HVY9   \n",
       "3             nan    20.00     Echuca  2016-06-27  R3 1200m Mdn      HVY9   \n",
       "4             nan     2.74     Echuca  2016-06-27  R3 1200m Mdn      HVY9   \n",
       "\n",
       "   barrier  handicap_weight  prize_money      sex  age jockey_sex  \\\n",
       "0     3.00            58.50      2160.00  Gelding 3.00       Male   \n",
       "1    10.00            58.50     21175.00  Gelding 5.00       Male   \n",
       "2     6.00            56.50     28855.00     Mare 6.00       Male   \n",
       "3     2.00            56.50      1475.00    Filly 3.00       Male   \n",
       "4     7.00            56.50      1215.00    Filly 3.00       Male   \n",
       "\n",
       "  last_twenty_starts  days_since_last_run  overall_starts  overall_wins  \\\n",
       "0                 f3                14.00            1.00          0.00   \n",
       "1          f0x6x80x2                39.00            5.00          0.00   \n",
       "2       f68477579x00                15.00           10.00          0.00   \n",
       "3                 f0                15.00            1.00          0.00   \n",
       "4                f4x               173.00            1.00          0.00   \n",
       "\n",
       "   overall_places  track_starts  track_wins  track_places  firm_starts  \\\n",
       "0            1.00          0.00        0.00          0.00         0.00   \n",
       "1            1.00          0.00        0.00          0.00         0.00   \n",
       "2            0.00          0.00        0.00          0.00         0.00   \n",
       "3            0.00          0.00        0.00          0.00         0.00   \n",
       "4            0.00          0.00        0.00          0.00         0.00   \n",
       "\n",
       "   firm_wins  firm_places  good_starts  good_wins  good_places  slow_starts  \\\n",
       "0       0.00         0.00         0.00       0.00         0.00         1.00   \n",
       "1       0.00         0.00         2.00       0.00         0.00         2.00   \n",
       "2       0.00         0.00         2.00       0.00         0.00         1.00   \n",
       "3       0.00         0.00         0.00       0.00         0.00         0.00   \n",
       "4       0.00         0.00         1.00       0.00         0.00         0.00   \n",
       "\n",
       "   slow_wins  slow_places  soft_starts  soft_wins  soft_places  heavy_starts  \\\n",
       "0       0.00         1.00         1.00       0.00         1.00          0.00   \n",
       "1       0.00         1.00         2.00       0.00         1.00          1.00   \n",
       "2       0.00         0.00         5.00       0.00         0.00          3.00   \n",
       "3       0.00         0.00         1.00       0.00         0.00          0.00   \n",
       "4       0.00         0.00         0.00       0.00         0.00          0.00   \n",
       "\n",
       "   heavy_wins  heavy_places  distance_starts  distance_wins  distance_places  \n",
       "0        0.00          0.00             1.00           0.00             1.00  \n",
       "1        0.00          0.00             1.00           0.00             1.00  \n",
       "2        0.00          0.00             4.00           0.00             0.00  \n",
       "3        0.00          0.00             1.00           0.00             0.00  \n",
       "4        0.00          0.00             1.00           0.00             0.00  "
      ]
     },
     "execution_count": 10,
     "metadata": {},
     "output_type": "execute_result"
    },
    {
     "data": {
      "application/javascript": [
       "\n",
       "            setTimeout(function() {\n",
       "                var nbb_cell_id = 10;\n",
       "                var nbb_unformatted_code = \"df.head()\";\n",
       "                var nbb_formatted_code = \"df.head()\";\n",
       "                var nbb_cells = Jupyter.notebook.get_cells();\n",
       "                for (var i = 0; i < nbb_cells.length; ++i) {\n",
       "                    if (nbb_cells[i].input_prompt_number == nbb_cell_id) {\n",
       "                        if (nbb_cells[i].get_text() == nbb_unformatted_code) {\n",
       "                             nbb_cells[i].set_text(nbb_formatted_code);\n",
       "                        }\n",
       "                        break;\n",
       "                    }\n",
       "                }\n",
       "            }, 500);\n",
       "            "
      ],
      "text/plain": [
       "<IPython.core.display.Javascript object>"
      ]
     },
     "metadata": {},
     "output_type": "display_data"
    }
   ],
   "source": [
    "df.head()"
   ]
  },
  {
   "cell_type": "code",
   "execution_count": 11,
   "metadata": {},
   "outputs": [
    {
     "name": "stdout",
     "output_type": "stream",
     "text": [
      "<class 'pandas.core.frame.DataFrame'>\n",
      "RangeIndex: 241198 entries, 0 to 241197\n",
      "Data columns (total 38 columns):\n",
      " #   Column               Non-Null Count   Dtype  \n",
      "---  ------               --------------   -----  \n",
      " 0   position_again       68984 non-null   float64\n",
      " 1   bf_odds              241198 non-null  float64\n",
      " 2   venue_name           241198 non-null  object \n",
      " 3   date                 241198 non-null  object \n",
      " 4   market_name          241198 non-null  object \n",
      " 5   condition            217218 non-null  object \n",
      " 6   barrier              214901 non-null  float64\n",
      " 7   handicap_weight      214901 non-null  float64\n",
      " 8   prize_money          214399 non-null  float64\n",
      " 9   sex                  214399 non-null  object \n",
      " 10  age                  214399 non-null  float64\n",
      " 11  jockey_sex           214399 non-null  object \n",
      " 12  last_twenty_starts   202406 non-null  object \n",
      " 13  days_since_last_run  214148 non-null  float64\n",
      " 14  overall_starts       214148 non-null  float64\n",
      " 15  overall_wins         214148 non-null  float64\n",
      " 16  overall_places       214148 non-null  float64\n",
      " 17  track_starts         213768 non-null  float64\n",
      " 18  track_wins           213768 non-null  float64\n",
      " 19  track_places         213768 non-null  float64\n",
      " 20  firm_starts          213422 non-null  float64\n",
      " 21  firm_wins            213422 non-null  float64\n",
      " 22  firm_places          213422 non-null  float64\n",
      " 23  good_starts          214122 non-null  float64\n",
      " 24  good_wins            214122 non-null  float64\n",
      " 25  good_places          214122 non-null  float64\n",
      " 26  slow_starts          213817 non-null  float64\n",
      " 27  slow_wins            213817 non-null  float64\n",
      " 28  slow_places          213817 non-null  float64\n",
      " 29  soft_starts          213977 non-null  float64\n",
      " 30  soft_wins            213977 non-null  float64\n",
      " 31  soft_places          213977 non-null  float64\n",
      " 32  heavy_starts         213620 non-null  float64\n",
      " 33  heavy_wins           213620 non-null  float64\n",
      " 34  heavy_places         213620 non-null  float64\n",
      " 35  distance_starts      214074 non-null  float64\n",
      " 36  distance_wins        214074 non-null  float64\n",
      " 37  distance_places      214074 non-null  float64\n",
      "dtypes: float64(31), object(7)\n",
      "memory usage: 69.9+ MB\n"
     ]
    },
    {
     "data": {
      "application/javascript": [
       "\n",
       "            setTimeout(function() {\n",
       "                var nbb_cell_id = 11;\n",
       "                var nbb_unformatted_code = \"df.info()\";\n",
       "                var nbb_formatted_code = \"df.info()\";\n",
       "                var nbb_cells = Jupyter.notebook.get_cells();\n",
       "                for (var i = 0; i < nbb_cells.length; ++i) {\n",
       "                    if (nbb_cells[i].input_prompt_number == nbb_cell_id) {\n",
       "                        if (nbb_cells[i].get_text() == nbb_unformatted_code) {\n",
       "                             nbb_cells[i].set_text(nbb_formatted_code);\n",
       "                        }\n",
       "                        break;\n",
       "                    }\n",
       "                }\n",
       "            }, 500);\n",
       "            "
      ],
      "text/plain": [
       "<IPython.core.display.Javascript object>"
      ]
     },
     "metadata": {},
     "output_type": "display_data"
    }
   ],
   "source": [
    "df.info()"
   ]
  },
  {
   "cell_type": "code",
   "execution_count": 24,
   "metadata": {},
   "outputs": [
    {
     "data": {
      "text/plain": [
       "position_again        0.71\n",
       "bf_odds               0.00\n",
       "venue_name            0.00\n",
       "date                  0.00\n",
       "market_name           0.00\n",
       "condition             0.10\n",
       "barrier               0.11\n",
       "handicap_weight       0.11\n",
       "prize_money           0.11\n",
       "sex                   0.11\n",
       "age                   0.11\n",
       "jockey_sex            0.11\n",
       "last_twenty_starts    0.16\n",
       "days_since_last_run   0.11\n",
       "overall_starts        0.11\n",
       "overall_wins          0.11\n",
       "overall_places        0.11\n",
       "track_starts          0.11\n",
       "track_wins            0.11\n",
       "track_places          0.11\n",
       "firm_starts           0.12\n",
       "firm_wins             0.12\n",
       "firm_places           0.12\n",
       "good_starts           0.11\n",
       "good_wins             0.11\n",
       "good_places           0.11\n",
       "slow_starts           0.11\n",
       "slow_wins             0.11\n",
       "slow_places           0.11\n",
       "soft_starts           0.11\n",
       "soft_wins             0.11\n",
       "soft_places           0.11\n",
       "heavy_starts          0.11\n",
       "heavy_wins            0.11\n",
       "heavy_places          0.11\n",
       "distance_starts       0.11\n",
       "distance_wins         0.11\n",
       "distance_places       0.11\n",
       "dtype: float64"
      ]
     },
     "execution_count": 24,
     "metadata": {},
     "output_type": "execute_result"
    },
    {
     "data": {
      "application/javascript": [
       "\n",
       "            setTimeout(function() {\n",
       "                var nbb_cell_id = 24;\n",
       "                var nbb_unformatted_code = \"df.isna().mean()\";\n",
       "                var nbb_formatted_code = \"df.isna().mean()\";\n",
       "                var nbb_cells = Jupyter.notebook.get_cells();\n",
       "                for (var i = 0; i < nbb_cells.length; ++i) {\n",
       "                    if (nbb_cells[i].input_prompt_number == nbb_cell_id) {\n",
       "                        if (nbb_cells[i].get_text() == nbb_unformatted_code) {\n",
       "                             nbb_cells[i].set_text(nbb_formatted_code);\n",
       "                        }\n",
       "                        break;\n",
       "                    }\n",
       "                }\n",
       "            }, 500);\n",
       "            "
      ],
      "text/plain": [
       "<IPython.core.display.Javascript object>"
      ]
     },
     "metadata": {},
     "output_type": "display_data"
    }
   ],
   "source": [
    "df.isna().mean()"
   ]
  },
  {
   "cell_type": "code",
   "execution_count": 23,
   "metadata": {},
   "outputs": [
    {
     "data": {
      "text/plain": [
       "4187"
      ]
     },
     "execution_count": 23,
     "metadata": {},
     "output_type": "execute_result"
    },
    {
     "data": {
      "application/javascript": [
       "\n",
       "            setTimeout(function() {\n",
       "                var nbb_cell_id = 23;\n",
       "                var nbb_unformatted_code = \"df[\\\"market_name\\\"].nunique()\";\n",
       "                var nbb_formatted_code = \"df[\\\"market_name\\\"].nunique()\";\n",
       "                var nbb_cells = Jupyter.notebook.get_cells();\n",
       "                for (var i = 0; i < nbb_cells.length; ++i) {\n",
       "                    if (nbb_cells[i].input_prompt_number == nbb_cell_id) {\n",
       "                        if (nbb_cells[i].get_text() == nbb_unformatted_code) {\n",
       "                             nbb_cells[i].set_text(nbb_formatted_code);\n",
       "                        }\n",
       "                        break;\n",
       "                    }\n",
       "                }\n",
       "            }, 500);\n",
       "            "
      ],
      "text/plain": [
       "<IPython.core.display.Javascript object>"
      ]
     },
     "metadata": {},
     "output_type": "display_data"
    }
   ],
   "source": [
    "df[\"market_name\"].nunique()"
   ]
  },
  {
   "cell_type": "code",
   "execution_count": null,
   "metadata": {},
   "outputs": [],
   "source": [
    "# Fill out your column datatypes here\n",
    "num_cols = [\"position_again\", \"bf_odds\", \"barrier\", \"handicap_weight\", \"prize_money\", \"age\", \"days_since_last_run\", \"overall_starts\", \"overall_wins\", \"overall_places\", \"track_starts\", \"track_wins\", \"track_places\", \"firm_starts\", \"firm_wins\", \"firm_places\", \"good_starts\", \"good_wins\", \"good_places\", \"slow_starts\", \"slow_wins\", \"slow_places\", \"soft_starts\", \"soft_wins\", \"soft_places\", \"heavy_starts\", \"heavy_wins\", \"heavy_places\", \"distance_starts\", \"distance_wins\", \"distance_places\"]\n",
    "\n",
    "bin_cols = []\n",
    "\n",
    "cat_cols = [\"venue_name\", \"sex\", \"jockey_sex\", ]\n",
    "drop_cats = []\n",
    "\n",
    "# figure out columns: \"date\", \"market_name\", \"condition\", \"last_twenty_starts\""
   ]
  },
  {
   "cell_type": "code",
   "execution_count": null,
   "metadata": {},
   "outputs": [],
   "source": [
    "# fmt: off\n",
    "preprocessing = ColumnTransformer([\n",
    "    # Encode categories\n",
    "    # Potentially use one of the 2 below options\n",
    "    (\"OneHotEncoder\", OneHotEncoder(drop=drop_cats), cat_cols),\n",
    "    # ('leaveoneoutencoder', LeaveOneOutEncoder(), cat_cols),\n",
    "\n",
    "    # Scale numeric columns\n",
    "    # (not needed for all models but can't hurt)\n",
    "    (\"scaler\", StandardScaler(), num_cols)\n",
    "    # bin_cols we'll leave untouch\n",
    "], remainder=\"passthrough\")"
   ]
  },
  {
   "cell_type": "code",
   "execution_count": null,
   "metadata": {},
   "outputs": [],
   "source": [
    "pipeline = Pipeline([\n",
    "    # Apply ColumnTransformer steps\n",
    "    (\"preprocessing\", preprocessing),\n",
    "\n",
    "    # Add other steps as desired\n",
    "    # ('dim_reduction', PCA()),\n",
    "    # ('feature_selection', SelectKBest()),\n",
    "\n",
    "    # Choose your model and put it here\n",
    "    (\"model\", RandomForestClassifier()),\n",
    "])"
   ]
  },
  {
   "cell_type": "code",
   "execution_count": null,
   "metadata": {},
   "outputs": [],
   "source": [
    "grid = {\n",
    "    # Use model__ with hyperprammeter names after\n",
    "    \"model__n_estimators\": [100, 150],\n",
    "\n",
    "    # Add other hyperparameters to tune as desired\n",
    "    # 'dim_reduction__n_components': [2, 3, 4]\n",
    "}\n",
    "# fmt: on"
   ]
  },
  {
   "cell_type": "code",
   "execution_count": null,
   "metadata": {},
   "outputs": [],
   "source": [
    "pipeline_cv = GridSearchCV(pipeline, grid)\n",
    "pipeline_cv.fit(X_train, y_train)\n",
    "\n",
    "print(f\"Train score: {pipeline_cv.score(X_train, y_train):.4f}\")\n",
    "print(f\"Test score: {pipeline_cv.score(X_test, y_test):.4f}\")"
   ]
  },
  {
   "cell_type": "code",
   "execution_count": null,
   "metadata": {},
   "outputs": [],
   "source": [
    "# Evaluate your model using additional appropriate metrics\n",
    "# If doing regression consider:\n",
    "# * Mean Absolute Error\n",
    "# * Mean Absolute Percent Error\n",
    "# * Fitted by Actuals scatter plot\n",
    "\n",
    "# If doing classification consider:\n",
    "# * Confusion matrix\n",
    "# * Classification report\n",
    "\n",
    "# Save to file\n",
    "best_model = pipeline_cv.best_estimator_\n",
    "with open(\"saved_model.pkl\", \"wb\") as f:\n",
    "    pickle.dump(best_model, f)\n",
    "\n",
    "\n",
    "# Load from file\n",
    "with open(\"saved_model.pkl\", \"rb\") as f:\n",
    "    loaded_model = pickle.load(f)\n",
    "\n",
    "preds = loaded_model.predict(new_data)"
   ]
  }
 ],
 "metadata": {
  "kernelspec": {
   "display_name": "Python 3",
   "language": "python",
   "name": "python3"
  },
  "language_info": {
   "codemirror_mode": {
    "name": "ipython",
    "version": 3
   },
   "file_extension": ".py",
   "mimetype": "text/x-python",
   "name": "python",
   "nbconvert_exporter": "python",
   "pygments_lexer": "ipython3",
   "version": "3.8.3"
  }
 },
 "nbformat": 4,
 "nbformat_minor": 4
}
