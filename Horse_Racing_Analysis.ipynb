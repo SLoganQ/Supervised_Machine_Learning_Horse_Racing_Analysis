{
 "cells": [
  {
   "cell_type": "code",
   "execution_count": 1,
   "metadata": {},
   "outputs": [
    {
     "data": {
      "application/javascript": [
       "\n",
       "            setTimeout(function() {\n",
       "                var nbb_cell_id = 1;\n",
       "                var nbb_unformatted_code = \"%reload_ext nb_black\";\n",
       "                var nbb_formatted_code = \"%reload_ext nb_black\";\n",
       "                var nbb_cells = Jupyter.notebook.get_cells();\n",
       "                for (var i = 0; i < nbb_cells.length; ++i) {\n",
       "                    if (nbb_cells[i].input_prompt_number == nbb_cell_id) {\n",
       "                        if (nbb_cells[i].get_text() == nbb_unformatted_code) {\n",
       "                             nbb_cells[i].set_text(nbb_formatted_code);\n",
       "                        }\n",
       "                        break;\n",
       "                    }\n",
       "                }\n",
       "            }, 500);\n",
       "            "
      ],
      "text/plain": [
       "<IPython.core.display.Javascript object>"
      ]
     },
     "metadata": {},
     "output_type": "display_data"
    }
   ],
   "source": [
    "%reload_ext nb_black"
   ]
  },
  {
   "cell_type": "markdown",
   "metadata": {},
   "source": [
    "\"\"\"Example sklearn pipeline workflow\n",
    "\n",
    "1. Create a ColumnTranformer to preprocess data\n",
    "2. Create a Pipeline to fit model\n",
    "3. Fit pipeline using GridSearchCV\n",
    "4. Save best model to file\n",
    "5. Read saved model to predict on new data\n",
    "\"\"\"\n"
   ]
  },
  {
   "cell_type": "markdown",
   "metadata": {},
   "source": [
    "# Imports"
   ]
  },
  {
   "cell_type": "code",
   "execution_count": 2,
   "metadata": {
    "scrolled": false
   },
   "outputs": [
    {
     "data": {
      "application/javascript": [
       "\n",
       "            setTimeout(function() {\n",
       "                var nbb_cell_id = 2;\n",
       "                var nbb_unformatted_code = \"import pickle\\n\\nimport itertools\\nimport numpy as np\\nimport pandas as pd\\nimport seaborn as sns\\nimport matplotlib.pyplot as plt\\n\\nfrom sklearn.pipeline import Pipeline\\nfrom sklearn.compose import ColumnTransformer\\nfrom sklearn.model_selection import train_test_split, GridSearchCV\\n\\nfrom sklearn.feature_selection import SelectKBest\\nfrom sklearn.preprocessing import StandardScaler, OneHotEncoder\\n\\nfrom sklearn.ensemble import RandomForestClassifier, GradientBoostingClassifier\\nfrom sklearn.linear_model import LogisticRegression\\n\\nfrom sklearn.metrics import confusion_matrix, classification_report\\n\\nimport warnings\\n\\nwarnings.filterwarnings(\\\"ignore\\\")\";\n",
       "                var nbb_formatted_code = \"import pickle\\n\\nimport itertools\\nimport numpy as np\\nimport pandas as pd\\nimport seaborn as sns\\nimport matplotlib.pyplot as plt\\n\\nfrom sklearn.pipeline import Pipeline\\nfrom sklearn.compose import ColumnTransformer\\nfrom sklearn.model_selection import train_test_split, GridSearchCV\\n\\nfrom sklearn.feature_selection import SelectKBest\\nfrom sklearn.preprocessing import StandardScaler, OneHotEncoder\\n\\nfrom sklearn.ensemble import RandomForestClassifier, GradientBoostingClassifier\\nfrom sklearn.linear_model import LogisticRegression\\n\\nfrom sklearn.metrics import confusion_matrix, classification_report\\n\\nimport warnings\\n\\nwarnings.filterwarnings(\\\"ignore\\\")\";\n",
       "                var nbb_cells = Jupyter.notebook.get_cells();\n",
       "                for (var i = 0; i < nbb_cells.length; ++i) {\n",
       "                    if (nbb_cells[i].input_prompt_number == nbb_cell_id) {\n",
       "                        if (nbb_cells[i].get_text() == nbb_unformatted_code) {\n",
       "                             nbb_cells[i].set_text(nbb_formatted_code);\n",
       "                        }\n",
       "                        break;\n",
       "                    }\n",
       "                }\n",
       "            }, 500);\n",
       "            "
      ],
      "text/plain": [
       "<IPython.core.display.Javascript object>"
      ]
     },
     "metadata": {},
     "output_type": "display_data"
    }
   ],
   "source": [
    "import pickle\n",
    "\n",
    "import itertools\n",
    "import numpy as np\n",
    "import pandas as pd\n",
    "import seaborn as sns\n",
    "import matplotlib.pyplot as plt\n",
    "\n",
    "from sklearn.pipeline import Pipeline\n",
    "from sklearn.compose import ColumnTransformer\n",
    "from sklearn.model_selection import train_test_split, GridSearchCV\n",
    "\n",
    "from sklearn.feature_selection import SelectKBest\n",
    "from sklearn.preprocessing import StandardScaler, OneHotEncoder\n",
    "\n",
    "from sklearn.ensemble import RandomForestClassifier, GradientBoostingClassifier\n",
    "from sklearn.linear_model import LogisticRegression\n",
    "\n",
    "from sklearn.metrics import confusion_matrix, classification_report\n",
    "\n",
    "import warnings\n",
    "\n",
    "warnings.filterwarnings(\"ignore\")"
   ]
  },
  {
   "cell_type": "code",
   "execution_count": 3,
   "metadata": {},
   "outputs": [
    {
     "data": {
      "application/javascript": [
       "\n",
       "            setTimeout(function() {\n",
       "                var nbb_cell_id = 3;\n",
       "                var nbb_unformatted_code = \"%matplotlib inline\";\n",
       "                var nbb_formatted_code = \"%matplotlib inline\";\n",
       "                var nbb_cells = Jupyter.notebook.get_cells();\n",
       "                for (var i = 0; i < nbb_cells.length; ++i) {\n",
       "                    if (nbb_cells[i].input_prompt_number == nbb_cell_id) {\n",
       "                        if (nbb_cells[i].get_text() == nbb_unformatted_code) {\n",
       "                             nbb_cells[i].set_text(nbb_formatted_code);\n",
       "                        }\n",
       "                        break;\n",
       "                    }\n",
       "                }\n",
       "            }, 500);\n",
       "            "
      ],
      "text/plain": [
       "<IPython.core.display.Javascript object>"
      ]
     },
     "metadata": {},
     "output_type": "display_data"
    }
   ],
   "source": [
    "%matplotlib inline"
   ]
  },
  {
   "cell_type": "code",
   "execution_count": 4,
   "metadata": {},
   "outputs": [
    {
     "data": {
      "text/html": [
       "<div>\n",
       "<style scoped>\n",
       "    .dataframe tbody tr th:only-of-type {\n",
       "        vertical-align: middle;\n",
       "    }\n",
       "\n",
       "    .dataframe tbody tr th {\n",
       "        vertical-align: top;\n",
       "    }\n",
       "\n",
       "    .dataframe thead th {\n",
       "        text-align: right;\n",
       "    }\n",
       "</style>\n",
       "<table border=\"1\" class=\"dataframe\">\n",
       "  <thead>\n",
       "    <tr style=\"text-align: right;\">\n",
       "      <th></th>\n",
       "      <th>track</th>\n",
       "      <th>card_id</th>\n",
       "      <th>race_date</th>\n",
       "      <th>breed</th>\n",
       "      <th>name</th>\n",
       "      <th>weight</th>\n",
       "      <th>age</th>\n",
       "      <th>sex</th>\n",
       "      <th>meds_and_equip</th>\n",
       "      <th>jockey</th>\n",
       "      <th>dollar_odds</th>\n",
       "      <th>program_number</th>\n",
       "      <th>post_position</th>\n",
       "      <th>claim_price</th>\n",
       "      <th>start_position</th>\n",
       "      <th>finish_position</th>\n",
       "      <th>finish_time</th>\n",
       "      <th>speed_rating</th>\n",
       "      <th>trainer</th>\n",
       "      <th>owner</th>\n",
       "      <th>win_payoff</th>\n",
       "      <th>place_payoff</th>\n",
       "      <th>show_payoff</th>\n",
       "      <th>weather</th>\n",
       "      <th>distance</th>\n",
       "      <th>race_type</th>\n",
       "      <th>track_conditions</th>\n",
       "    </tr>\n",
       "  </thead>\n",
       "  <tbody>\n",
       "    <tr>\n",
       "      <th>0</th>\n",
       "      <td>WO</td>\n",
       "      <td>D</td>\n",
       "      <td>2014-10-24 00:00:00</td>\n",
       "      <td>TB</td>\n",
       "      <td>Shogun Rua</td>\n",
       "      <td>119</td>\n",
       "      <td>6</td>\n",
       "      <td>G</td>\n",
       "      <td>L</td>\n",
       "      <td>J I Alderson</td>\n",
       "      <td>1.50</td>\n",
       "      <td>3.0</td>\n",
       "      <td>3</td>\n",
       "      <td>6000</td>\n",
       "      <td>4.0</td>\n",
       "      <td>1.0</td>\n",
       "      <td>0.0</td>\n",
       "      <td>71.0</td>\n",
       "      <td>McKnight Norman</td>\n",
       "      <td>Bruno Schickedanz</td>\n",
       "      <td>5.0</td>\n",
       "      <td>3.3</td>\n",
       "      <td>3.1</td>\n",
       "      <td>Cloudy</td>\n",
       "      <td>600.0</td>\n",
       "      <td>Claiming</td>\n",
       "      <td>FT</td>\n",
       "    </tr>\n",
       "    <tr>\n",
       "      <th>1</th>\n",
       "      <td>WO</td>\n",
       "      <td>D</td>\n",
       "      <td>2014-11-22 00:00:00</td>\n",
       "      <td>TB</td>\n",
       "      <td>Josai's Angel</td>\n",
       "      <td>121</td>\n",
       "      <td>4</td>\n",
       "      <td>M</td>\n",
       "      <td>L</td>\n",
       "      <td>T Wong</td>\n",
       "      <td>58.15</td>\n",
       "      <td>4.0</td>\n",
       "      <td>4</td>\n",
       "      <td>9500</td>\n",
       "      <td>9.0</td>\n",
       "      <td>10.0</td>\n",
       "      <td>0.0</td>\n",
       "      <td>25.0</td>\n",
       "      <td>Pottins Judith R</td>\n",
       "      <td>Shortstop Stable and Zahreddine, Ramez</td>\n",
       "      <td>0.0</td>\n",
       "      <td>0.0</td>\n",
       "      <td>0.0</td>\n",
       "      <td>Cloudy</td>\n",
       "      <td>500.0</td>\n",
       "      <td>Maiden Claiming</td>\n",
       "      <td>FT</td>\n",
       "    </tr>\n",
       "    <tr>\n",
       "      <th>2</th>\n",
       "      <td>WO</td>\n",
       "      <td>D</td>\n",
       "      <td>2014-11-23 00:00:00</td>\n",
       "      <td>TB</td>\n",
       "      <td>My Girl Madison</td>\n",
       "      <td>121</td>\n",
       "      <td>5</td>\n",
       "      <td>M</td>\n",
       "      <td>Lf</td>\n",
       "      <td>S Ryan</td>\n",
       "      <td>17.05</td>\n",
       "      <td>1.0</td>\n",
       "      <td>1</td>\n",
       "      <td>0</td>\n",
       "      <td>2.0</td>\n",
       "      <td>7.0</td>\n",
       "      <td>0.0</td>\n",
       "      <td>51.0</td>\n",
       "      <td>Fournier Mark</td>\n",
       "      <td>Bruno Schickedanz</td>\n",
       "      <td>0.0</td>\n",
       "      <td>0.0</td>\n",
       "      <td>0.0</td>\n",
       "      <td>Cloudy</td>\n",
       "      <td>600.0</td>\n",
       "      <td>Allowance</td>\n",
       "      <td>FT</td>\n",
       "    </tr>\n",
       "  </tbody>\n",
       "</table>\n",
       "</div>"
      ],
      "text/plain": [
       "  track card_id            race_date breed             name  weight  age sex  \\\n",
       "0   WO        D  2014-10-24 00:00:00    TB       Shogun Rua     119    6   G   \n",
       "1   WO        D  2014-11-22 00:00:00    TB    Josai's Angel     121    4   M   \n",
       "2   WO        D  2014-11-23 00:00:00    TB  My Girl Madison     121    5   M   \n",
       "\n",
       "  meds_and_equip        jockey  dollar_odds  program_number  post_position  \\\n",
       "0              L  J I Alderson         1.50             3.0              3   \n",
       "1              L        T Wong        58.15             4.0              4   \n",
       "2             Lf        S Ryan        17.05             1.0              1   \n",
       "\n",
       "   claim_price  start_position  finish_position  finish_time  speed_rating  \\\n",
       "0         6000             4.0              1.0          0.0          71.0   \n",
       "1         9500             9.0             10.0          0.0          25.0   \n",
       "2            0             2.0              7.0          0.0          51.0   \n",
       "\n",
       "            trainer                                   owner  win_payoff  \\\n",
       "0   McKnight Norman                       Bruno Schickedanz         5.0   \n",
       "1  Pottins Judith R  Shortstop Stable and Zahreddine, Ramez         0.0   \n",
       "2     Fournier Mark                       Bruno Schickedanz         0.0   \n",
       "\n",
       "   place_payoff  show_payoff weather  distance        race_type  \\\n",
       "0           3.3          3.1  Cloudy     600.0         Claiming   \n",
       "1           0.0          0.0  Cloudy     500.0  Maiden Claiming   \n",
       "2           0.0          0.0  Cloudy     600.0        Allowance   \n",
       "\n",
       "  track_conditions  \n",
       "0               FT  \n",
       "1               FT  \n",
       "2               FT  "
      ]
     },
     "execution_count": 4,
     "metadata": {},
     "output_type": "execute_result"
    },
    {
     "data": {
      "application/javascript": [
       "\n",
       "            setTimeout(function() {\n",
       "                var nbb_cell_id = 4;\n",
       "                var nbb_unformatted_code = \"# Import the data and check the head\\nfull_df = pd.read_csv(\\n    \\\"Data/woodbine_horses.csv\\\", skipinitialspace=True, low_memory=False\\n)\\npd.set_option(\\\"display.max_columns\\\", 100)\\npd.set_option(\\\"display.max_rows\\\", 500)\\nfull_df.head(3)\";\n",
       "                var nbb_formatted_code = \"# Import the data and check the head\\nfull_df = pd.read_csv(\\n    \\\"Data/woodbine_horses.csv\\\", skipinitialspace=True, low_memory=False\\n)\\npd.set_option(\\\"display.max_columns\\\", 100)\\npd.set_option(\\\"display.max_rows\\\", 500)\\nfull_df.head(3)\";\n",
       "                var nbb_cells = Jupyter.notebook.get_cells();\n",
       "                for (var i = 0; i < nbb_cells.length; ++i) {\n",
       "                    if (nbb_cells[i].input_prompt_number == nbb_cell_id) {\n",
       "                        if (nbb_cells[i].get_text() == nbb_unformatted_code) {\n",
       "                             nbb_cells[i].set_text(nbb_formatted_code);\n",
       "                        }\n",
       "                        break;\n",
       "                    }\n",
       "                }\n",
       "            }, 500);\n",
       "            "
      ],
      "text/plain": [
       "<IPython.core.display.Javascript object>"
      ]
     },
     "metadata": {},
     "output_type": "display_data"
    }
   ],
   "source": [
    "# Import the data and check the head\n",
    "full_df = pd.read_csv(\n",
    "    \"Data/woodbine_horses.csv\", skipinitialspace=True, low_memory=False\n",
    ")\n",
    "pd.set_option(\"display.max_columns\", 100)\n",
    "pd.set_option(\"display.max_rows\", 500)\n",
    "full_df.head(3)"
   ]
  },
  {
   "cell_type": "markdown",
   "metadata": {},
   "source": [
    "# Choose Data"
   ]
  },
  {
   "cell_type": "code",
   "execution_count": 5,
   "metadata": {},
   "outputs": [
    {
     "data": {
      "application/javascript": [
       "\n",
       "            setTimeout(function() {\n",
       "                var nbb_cell_id = 5;\n",
       "                var nbb_unformatted_code = \"# This is a list of colums to drop from the analysis beacause they will not be useful\\ndrop_cols = [\\n    \\\"track\\\",  # Same for every row\\n    \\\"card_id\\\",  # Same for every row\\n    \\\"race_date\\\",  # Provides little value to model\\n    \\\"breed\\\",  # Same for every row\\n    \\\"name\\\",  # There are almost 2000 different names with the max enteries per name = 12\\n    \\\"program_number\\\",  # Ambiguous catagorical information\\n    \\\"finish_time\\\",  # Same for every row\\n    \\\"win_payoff\\\",  # Provides little value to model\\n    \\\"place_payoff\\\",  # Provides little value to model\\n    \\\"show_payoff\\\",  # Provides little value to model\\n    \\\"start_position\\\",  # Info gained after race start is not useful for future predictions\\n    \\\"dollar_odds\\\",  # Man made odds metric, useful for prediction evaluation\\n]\";\n",
       "                var nbb_formatted_code = \"# This is a list of colums to drop from the analysis beacause they will not be useful\\ndrop_cols = [\\n    \\\"track\\\",  # Same for every row\\n    \\\"card_id\\\",  # Same for every row\\n    \\\"race_date\\\",  # Provides little value to model\\n    \\\"breed\\\",  # Same for every row\\n    \\\"name\\\",  # There are almost 2000 different names with the max enteries per name = 12\\n    \\\"program_number\\\",  # Ambiguous catagorical information\\n    \\\"finish_time\\\",  # Same for every row\\n    \\\"win_payoff\\\",  # Provides little value to model\\n    \\\"place_payoff\\\",  # Provides little value to model\\n    \\\"show_payoff\\\",  # Provides little value to model\\n    \\\"start_position\\\",  # Info gained after race start is not useful for future predictions\\n    \\\"dollar_odds\\\",  # Man made odds metric, useful for prediction evaluation\\n]\";\n",
       "                var nbb_cells = Jupyter.notebook.get_cells();\n",
       "                for (var i = 0; i < nbb_cells.length; ++i) {\n",
       "                    if (nbb_cells[i].input_prompt_number == nbb_cell_id) {\n",
       "                        if (nbb_cells[i].get_text() == nbb_unformatted_code) {\n",
       "                             nbb_cells[i].set_text(nbb_formatted_code);\n",
       "                        }\n",
       "                        break;\n",
       "                    }\n",
       "                }\n",
       "            }, 500);\n",
       "            "
      ],
      "text/plain": [
       "<IPython.core.display.Javascript object>"
      ]
     },
     "metadata": {},
     "output_type": "display_data"
    }
   ],
   "source": [
    "# This is a list of colums to drop from the analysis beacause they will not be useful\n",
    "drop_cols = [\n",
    "    \"track\",  # Same for every row\n",
    "    \"card_id\",  # Same for every row\n",
    "    \"race_date\",  # Provides little value to model\n",
    "    \"breed\",  # Same for every row\n",
    "    \"name\",  # There are almost 2000 different names with the max enteries per name = 12\n",
    "    \"program_number\",  # Ambiguous catagorical information\n",
    "    \"finish_time\",  # Same for every row\n",
    "    \"win_payoff\",  # Provides little value to model\n",
    "    \"place_payoff\",  # Provides little value to model\n",
    "    \"show_payoff\",  # Provides little value to model\n",
    "    \"start_position\",  # Info gained after race start is not useful for future predictions\n",
    "    \"dollar_odds\",  # Man made odds metric, useful for prediction evaluation\n",
    "]"
   ]
  },
  {
   "cell_type": "code",
   "execution_count": 6,
   "metadata": {},
   "outputs": [
    {
     "data": {
      "application/javascript": [
       "\n",
       "            setTimeout(function() {\n",
       "                var nbb_cell_id = 6;\n",
       "                var nbb_unformatted_code = \"df = full_df.drop(drop_cols, axis=1)\";\n",
       "                var nbb_formatted_code = \"df = full_df.drop(drop_cols, axis=1)\";\n",
       "                var nbb_cells = Jupyter.notebook.get_cells();\n",
       "                for (var i = 0; i < nbb_cells.length; ++i) {\n",
       "                    if (nbb_cells[i].input_prompt_number == nbb_cell_id) {\n",
       "                        if (nbb_cells[i].get_text() == nbb_unformatted_code) {\n",
       "                             nbb_cells[i].set_text(nbb_formatted_code);\n",
       "                        }\n",
       "                        break;\n",
       "                    }\n",
       "                }\n",
       "            }, 500);\n",
       "            "
      ],
      "text/plain": [
       "<IPython.core.display.Javascript object>"
      ]
     },
     "metadata": {},
     "output_type": "display_data"
    }
   ],
   "source": [
    "df = full_df.drop(drop_cols, axis=1)"
   ]
  },
  {
   "cell_type": "code",
   "execution_count": 7,
   "metadata": {},
   "outputs": [
    {
     "data": {
      "text/html": [
       "<div>\n",
       "<style scoped>\n",
       "    .dataframe tbody tr th:only-of-type {\n",
       "        vertical-align: middle;\n",
       "    }\n",
       "\n",
       "    .dataframe tbody tr th {\n",
       "        vertical-align: top;\n",
       "    }\n",
       "\n",
       "    .dataframe thead th {\n",
       "        text-align: right;\n",
       "    }\n",
       "</style>\n",
       "<table border=\"1\" class=\"dataframe\">\n",
       "  <thead>\n",
       "    <tr style=\"text-align: right;\">\n",
       "      <th></th>\n",
       "      <th>weight</th>\n",
       "      <th>age</th>\n",
       "      <th>sex</th>\n",
       "      <th>meds_and_equip</th>\n",
       "      <th>jockey</th>\n",
       "      <th>post_position</th>\n",
       "      <th>claim_price</th>\n",
       "      <th>finish_position</th>\n",
       "      <th>speed_rating</th>\n",
       "      <th>trainer</th>\n",
       "      <th>owner</th>\n",
       "      <th>weather</th>\n",
       "      <th>distance</th>\n",
       "      <th>race_type</th>\n",
       "      <th>track_conditions</th>\n",
       "    </tr>\n",
       "  </thead>\n",
       "  <tbody>\n",
       "    <tr>\n",
       "      <th>0</th>\n",
       "      <td>119</td>\n",
       "      <td>6</td>\n",
       "      <td>G</td>\n",
       "      <td>L</td>\n",
       "      <td>J I Alderson</td>\n",
       "      <td>3</td>\n",
       "      <td>6000</td>\n",
       "      <td>1.0</td>\n",
       "      <td>71.0</td>\n",
       "      <td>McKnight Norman</td>\n",
       "      <td>Bruno Schickedanz</td>\n",
       "      <td>Cloudy</td>\n",
       "      <td>600.0</td>\n",
       "      <td>Claiming</td>\n",
       "      <td>FT</td>\n",
       "    </tr>\n",
       "    <tr>\n",
       "      <th>1</th>\n",
       "      <td>121</td>\n",
       "      <td>4</td>\n",
       "      <td>M</td>\n",
       "      <td>L</td>\n",
       "      <td>T Wong</td>\n",
       "      <td>4</td>\n",
       "      <td>9500</td>\n",
       "      <td>10.0</td>\n",
       "      <td>25.0</td>\n",
       "      <td>Pottins Judith R</td>\n",
       "      <td>Shortstop Stable and Zahreddine, Ramez</td>\n",
       "      <td>Cloudy</td>\n",
       "      <td>500.0</td>\n",
       "      <td>Maiden Claiming</td>\n",
       "      <td>FT</td>\n",
       "    </tr>\n",
       "    <tr>\n",
       "      <th>2</th>\n",
       "      <td>121</td>\n",
       "      <td>5</td>\n",
       "      <td>M</td>\n",
       "      <td>Lf</td>\n",
       "      <td>S Ryan</td>\n",
       "      <td>1</td>\n",
       "      <td>0</td>\n",
       "      <td>7.0</td>\n",
       "      <td>51.0</td>\n",
       "      <td>Fournier Mark</td>\n",
       "      <td>Bruno Schickedanz</td>\n",
       "      <td>Cloudy</td>\n",
       "      <td>600.0</td>\n",
       "      <td>Allowance</td>\n",
       "      <td>FT</td>\n",
       "    </tr>\n",
       "  </tbody>\n",
       "</table>\n",
       "</div>"
      ],
      "text/plain": [
       "   weight  age sex meds_and_equip        jockey  post_position  claim_price  \\\n",
       "0     119    6   G              L  J I Alderson              3         6000   \n",
       "1     121    4   M              L        T Wong              4         9500   \n",
       "2     121    5   M             Lf        S Ryan              1            0   \n",
       "\n",
       "   finish_position  speed_rating           trainer  \\\n",
       "0              1.0          71.0   McKnight Norman   \n",
       "1             10.0          25.0  Pottins Judith R   \n",
       "2              7.0          51.0     Fournier Mark   \n",
       "\n",
       "                                    owner weather  distance        race_type  \\\n",
       "0                       Bruno Schickedanz  Cloudy     600.0         Claiming   \n",
       "1  Shortstop Stable and Zahreddine, Ramez  Cloudy     500.0  Maiden Claiming   \n",
       "2                       Bruno Schickedanz  Cloudy     600.0        Allowance   \n",
       "\n",
       "  track_conditions  \n",
       "0               FT  \n",
       "1               FT  \n",
       "2               FT  "
      ]
     },
     "execution_count": 7,
     "metadata": {},
     "output_type": "execute_result"
    },
    {
     "data": {
      "application/javascript": [
       "\n",
       "            setTimeout(function() {\n",
       "                var nbb_cell_id = 7;\n",
       "                var nbb_unformatted_code = \"df.head(3)\";\n",
       "                var nbb_formatted_code = \"df.head(3)\";\n",
       "                var nbb_cells = Jupyter.notebook.get_cells();\n",
       "                for (var i = 0; i < nbb_cells.length; ++i) {\n",
       "                    if (nbb_cells[i].input_prompt_number == nbb_cell_id) {\n",
       "                        if (nbb_cells[i].get_text() == nbb_unformatted_code) {\n",
       "                             nbb_cells[i].set_text(nbb_formatted_code);\n",
       "                        }\n",
       "                        break;\n",
       "                    }\n",
       "                }\n",
       "            }, 500);\n",
       "            "
      ],
      "text/plain": [
       "<IPython.core.display.Javascript object>"
      ]
     },
     "metadata": {},
     "output_type": "display_data"
    }
   ],
   "source": [
    "df.head(3)"
   ]
  },
  {
   "cell_type": "markdown",
   "metadata": {},
   "source": [
    "## Handle Null Values"
   ]
  },
  {
   "cell_type": "code",
   "execution_count": 8,
   "metadata": {},
   "outputs": [
    {
     "name": "stdout",
     "output_type": "stream",
     "text": [
      "<class 'pandas.core.frame.DataFrame'>\n",
      "RangeIndex: 8113 entries, 0 to 8112\n",
      "Data columns (total 15 columns):\n",
      " #   Column            Non-Null Count  Dtype  \n",
      "---  ------            --------------  -----  \n",
      " 0   weight            8113 non-null   int64  \n",
      " 1   age               8113 non-null   int64  \n",
      " 2   sex               7522 non-null   object \n",
      " 3   meds_and_equip    7264 non-null   object \n",
      " 4   jockey            7522 non-null   object \n",
      " 5   post_position     8113 non-null   int64  \n",
      " 6   claim_price       8113 non-null   int64  \n",
      " 7   finish_position   8113 non-null   float64\n",
      " 8   speed_rating      7522 non-null   float64\n",
      " 9   trainer           7522 non-null   object \n",
      " 10  owner             7522 non-null   object \n",
      " 11  weather           8113 non-null   object \n",
      " 12  distance          8113 non-null   float64\n",
      " 13  race_type         8113 non-null   object \n",
      " 14  track_conditions  8113 non-null   object \n",
      "dtypes: float64(3), int64(4), object(8)\n",
      "memory usage: 950.9+ KB\n"
     ]
    },
    {
     "data": {
      "application/javascript": [
       "\n",
       "            setTimeout(function() {\n",
       "                var nbb_cell_id = 8;\n",
       "                var nbb_unformatted_code = \"df.info()\";\n",
       "                var nbb_formatted_code = \"df.info()\";\n",
       "                var nbb_cells = Jupyter.notebook.get_cells();\n",
       "                for (var i = 0; i < nbb_cells.length; ++i) {\n",
       "                    if (nbb_cells[i].input_prompt_number == nbb_cell_id) {\n",
       "                        if (nbb_cells[i].get_text() == nbb_unformatted_code) {\n",
       "                             nbb_cells[i].set_text(nbb_formatted_code);\n",
       "                        }\n",
       "                        break;\n",
       "                    }\n",
       "                }\n",
       "            }, 500);\n",
       "            "
      ],
      "text/plain": [
       "<IPython.core.display.Javascript object>"
      ]
     },
     "metadata": {},
     "output_type": "display_data"
    }
   ],
   "source": [
    "df.info()"
   ]
  },
  {
   "cell_type": "code",
   "execution_count": 9,
   "metadata": {},
   "outputs": [
    {
     "name": "stdout",
     "output_type": "stream",
     "text": [
      "<class 'pandas.core.frame.DataFrame'>\n",
      "Int64Index: 7522 entries, 0 to 8112\n",
      "Data columns (total 15 columns):\n",
      " #   Column            Non-Null Count  Dtype  \n",
      "---  ------            --------------  -----  \n",
      " 0   weight            7522 non-null   int64  \n",
      " 1   age               7522 non-null   int64  \n",
      " 2   sex               7522 non-null   object \n",
      " 3   meds_and_equip    7264 non-null   object \n",
      " 4   jockey            7522 non-null   object \n",
      " 5   post_position     7522 non-null   int64  \n",
      " 6   claim_price       7522 non-null   int64  \n",
      " 7   finish_position   7522 non-null   float64\n",
      " 8   speed_rating      7522 non-null   float64\n",
      " 9   trainer           7522 non-null   object \n",
      " 10  owner             7522 non-null   object \n",
      " 11  weather           7522 non-null   object \n",
      " 12  distance          7522 non-null   float64\n",
      " 13  race_type         7522 non-null   object \n",
      " 14  track_conditions  7522 non-null   object \n",
      "dtypes: float64(3), int64(4), object(8)\n",
      "memory usage: 940.2+ KB\n"
     ]
    },
    {
     "data": {
      "application/javascript": [
       "\n",
       "            setTimeout(function() {\n",
       "                var nbb_cell_id = 9;\n",
       "                var nbb_unformatted_code = \"# Remove 7% of the rows that have nulls in 5 colums\\ndf = df[df[\\\"sex\\\"].notna()]\\ndf.info()\";\n",
       "                var nbb_formatted_code = \"# Remove 7% of the rows that have nulls in 5 colums\\ndf = df[df[\\\"sex\\\"].notna()]\\ndf.info()\";\n",
       "                var nbb_cells = Jupyter.notebook.get_cells();\n",
       "                for (var i = 0; i < nbb_cells.length; ++i) {\n",
       "                    if (nbb_cells[i].input_prompt_number == nbb_cell_id) {\n",
       "                        if (nbb_cells[i].get_text() == nbb_unformatted_code) {\n",
       "                             nbb_cells[i].set_text(nbb_formatted_code);\n",
       "                        }\n",
       "                        break;\n",
       "                    }\n",
       "                }\n",
       "            }, 500);\n",
       "            "
      ],
      "text/plain": [
       "<IPython.core.display.Javascript object>"
      ]
     },
     "metadata": {},
     "output_type": "display_data"
    }
   ],
   "source": [
    "# Remove 7% of the rows that have nulls in 5 colums\n",
    "df = df[df[\"sex\"].notna()]\n",
    "df.info()"
   ]
  },
  {
   "cell_type": "code",
   "execution_count": 10,
   "metadata": {},
   "outputs": [
    {
     "name": "stdout",
     "output_type": "stream",
     "text": [
      "<class 'pandas.core.frame.DataFrame'>\n",
      "Int64Index: 7522 entries, 0 to 8112\n",
      "Data columns (total 15 columns):\n",
      " #   Column            Non-Null Count  Dtype  \n",
      "---  ------            --------------  -----  \n",
      " 0   weight            7522 non-null   int64  \n",
      " 1   age               7522 non-null   int64  \n",
      " 2   sex               7522 non-null   object \n",
      " 3   meds_and_equip    7522 non-null   object \n",
      " 4   jockey            7522 non-null   object \n",
      " 5   post_position     7522 non-null   int64  \n",
      " 6   claim_price       7522 non-null   int64  \n",
      " 7   finish_position   7522 non-null   float64\n",
      " 8   speed_rating      7522 non-null   float64\n",
      " 9   trainer           7522 non-null   object \n",
      " 10  owner             7522 non-null   object \n",
      " 11  weather           7522 non-null   object \n",
      " 12  distance          7522 non-null   float64\n",
      " 13  race_type         7522 non-null   object \n",
      " 14  track_conditions  7522 non-null   object \n",
      "dtypes: float64(3), int64(4), object(8)\n",
      "memory usage: 940.2+ KB\n"
     ]
    },
    {
     "data": {
      "application/javascript": [
       "\n",
       "            setTimeout(function() {\n",
       "                var nbb_cell_id = 10;\n",
       "                var nbb_unformatted_code = \"# Replace nulls in `meds_and_equip` with \\\"NA\\\" for now\\ndf[\\\"meds_and_equip\\\"].fillna(\\\"N\\\", inplace=True)\\ndf.info()\";\n",
       "                var nbb_formatted_code = \"# Replace nulls in `meds_and_equip` with \\\"NA\\\" for now\\ndf[\\\"meds_and_equip\\\"].fillna(\\\"N\\\", inplace=True)\\ndf.info()\";\n",
       "                var nbb_cells = Jupyter.notebook.get_cells();\n",
       "                for (var i = 0; i < nbb_cells.length; ++i) {\n",
       "                    if (nbb_cells[i].input_prompt_number == nbb_cell_id) {\n",
       "                        if (nbb_cells[i].get_text() == nbb_unformatted_code) {\n",
       "                             nbb_cells[i].set_text(nbb_formatted_code);\n",
       "                        }\n",
       "                        break;\n",
       "                    }\n",
       "                }\n",
       "            }, 500);\n",
       "            "
      ],
      "text/plain": [
       "<IPython.core.display.Javascript object>"
      ]
     },
     "metadata": {},
     "output_type": "display_data"
    }
   ],
   "source": [
    "# Replace nulls in `meds_and_equip` with \"NA\" for now\n",
    "df[\"meds_and_equip\"].fillna(\"N\", inplace=True)\n",
    "df.info()"
   ]
  },
  {
   "cell_type": "markdown",
   "metadata": {},
   "source": [
    "# Feature Engineering"
   ]
  },
  {
   "cell_type": "code",
   "execution_count": 11,
   "metadata": {},
   "outputs": [
    {
     "data": {
      "text/plain": [
       "L       3050\n",
       "Lb      3046\n",
       "Lbf      409\n",
       "Lf       386\n",
       "N        258\n",
       "b        246\n",
       "Lv        27\n",
       "Ly        15\n",
       "bf        14\n",
       "f         13\n",
       "y         12\n",
       "Lfy        8\n",
       "Lr         7\n",
       "Lvf        7\n",
       "Lby        7\n",
       "by         5\n",
       "v          4\n",
       "Lbr        3\n",
       "Lyf        1\n",
       "bfy        1\n",
       "Lbfy       1\n",
       "Lvr        1\n",
       "Lbfr       1\n",
       "Name: meds_and_equip, dtype: int64"
      ]
     },
     "execution_count": 11,
     "metadata": {},
     "output_type": "execute_result"
    },
    {
     "data": {
      "application/javascript": [
       "\n",
       "            setTimeout(function() {\n",
       "                var nbb_cell_id = 11;\n",
       "                var nbb_unformatted_code = \"df[\\\"meds_and_equip\\\"].value_counts()\";\n",
       "                var nbb_formatted_code = \"df[\\\"meds_and_equip\\\"].value_counts()\";\n",
       "                var nbb_cells = Jupyter.notebook.get_cells();\n",
       "                for (var i = 0; i < nbb_cells.length; ++i) {\n",
       "                    if (nbb_cells[i].input_prompt_number == nbb_cell_id) {\n",
       "                        if (nbb_cells[i].get_text() == nbb_unformatted_code) {\n",
       "                             nbb_cells[i].set_text(nbb_formatted_code);\n",
       "                        }\n",
       "                        break;\n",
       "                    }\n",
       "                }\n",
       "            }, 500);\n",
       "            "
      ],
      "text/plain": [
       "<IPython.core.display.Javascript object>"
      ]
     },
     "metadata": {},
     "output_type": "display_data"
    }
   ],
   "source": [
    "df[\"meds_and_equip\"].value_counts()"
   ]
  },
  {
   "cell_type": "code",
   "execution_count": 12,
   "metadata": {},
   "outputs": [
    {
     "data": {
      "application/javascript": [
       "\n",
       "            setTimeout(function() {\n",
       "                var nbb_cell_id = 12;\n",
       "                var nbb_unformatted_code = \"# Create catagorical columns to encode `meds_and_equip` into\\ndf[\\\"L\\\"] = 0\\ndf[\\\"b\\\"] = 0\\ndf[\\\"f\\\"] = 0\\ndf[\\\"r\\\"] = 0\\ndf[\\\"y\\\"] = 0\\ndf[\\\"v\\\"] = 0\\ndf[\\\"N\\\"] = 0\";\n",
       "                var nbb_formatted_code = \"# Create catagorical columns to encode `meds_and_equip` into\\ndf[\\\"L\\\"] = 0\\ndf[\\\"b\\\"] = 0\\ndf[\\\"f\\\"] = 0\\ndf[\\\"r\\\"] = 0\\ndf[\\\"y\\\"] = 0\\ndf[\\\"v\\\"] = 0\\ndf[\\\"N\\\"] = 0\";\n",
       "                var nbb_cells = Jupyter.notebook.get_cells();\n",
       "                for (var i = 0; i < nbb_cells.length; ++i) {\n",
       "                    if (nbb_cells[i].input_prompt_number == nbb_cell_id) {\n",
       "                        if (nbb_cells[i].get_text() == nbb_unformatted_code) {\n",
       "                             nbb_cells[i].set_text(nbb_formatted_code);\n",
       "                        }\n",
       "                        break;\n",
       "                    }\n",
       "                }\n",
       "            }, 500);\n",
       "            "
      ],
      "text/plain": [
       "<IPython.core.display.Javascript object>"
      ]
     },
     "metadata": {},
     "output_type": "display_data"
    }
   ],
   "source": [
    "# Create catagorical columns to encode `meds_and_equip` into\n",
    "df[\"L\"] = 0\n",
    "df[\"b\"] = 0\n",
    "df[\"f\"] = 0\n",
    "df[\"r\"] = 0\n",
    "df[\"y\"] = 0\n",
    "df[\"v\"] = 0\n",
    "df[\"N\"] = 0"
   ]
  },
  {
   "cell_type": "code",
   "execution_count": 13,
   "metadata": {},
   "outputs": [
    {
     "data": {
      "text/plain": [
       "array(['L', 'Lf', 'Lb', 'Lr', 'Lbf', 'N', 'b', 'Ly', 'Lv', 'y', 'Lvf',\n",
       "       'Lbr', 'f', 'by', 'Lyf', 'Lby', 'bf', 'Lvr', 'Lfy', 'Lbfy', 'v',\n",
       "       'bfy', 'Lbfr'], dtype=object)"
      ]
     },
     "execution_count": 13,
     "metadata": {},
     "output_type": "execute_result"
    },
    {
     "data": {
      "application/javascript": [
       "\n",
       "            setTimeout(function() {\n",
       "                var nbb_cell_id = 13;\n",
       "                var nbb_unformatted_code = \"meds_and_equip_unique = df[\\\"meds_and_equip\\\"].unique()\\nmeds_and_equip_unique\";\n",
       "                var nbb_formatted_code = \"meds_and_equip_unique = df[\\\"meds_and_equip\\\"].unique()\\nmeds_and_equip_unique\";\n",
       "                var nbb_cells = Jupyter.notebook.get_cells();\n",
       "                for (var i = 0; i < nbb_cells.length; ++i) {\n",
       "                    if (nbb_cells[i].input_prompt_number == nbb_cell_id) {\n",
       "                        if (nbb_cells[i].get_text() == nbb_unformatted_code) {\n",
       "                             nbb_cells[i].set_text(nbb_formatted_code);\n",
       "                        }\n",
       "                        break;\n",
       "                    }\n",
       "                }\n",
       "            }, 500);\n",
       "            "
      ],
      "text/plain": [
       "<IPython.core.display.Javascript object>"
      ]
     },
     "metadata": {},
     "output_type": "display_data"
    }
   ],
   "source": [
    "meds_and_equip_unique = df[\"meds_and_equip\"].unique()\n",
    "meds_and_equip_unique"
   ]
  },
  {
   "cell_type": "code",
   "execution_count": 14,
   "metadata": {},
   "outputs": [
    {
     "data": {
      "application/javascript": [
       "\n",
       "            setTimeout(function() {\n",
       "                var nbb_cell_id = 14;\n",
       "                var nbb_unformatted_code = \"def char_list(string):\\n    return [char for char in string]\";\n",
       "                var nbb_formatted_code = \"def char_list(string):\\n    return [char for char in string]\";\n",
       "                var nbb_cells = Jupyter.notebook.get_cells();\n",
       "                for (var i = 0; i < nbb_cells.length; ++i) {\n",
       "                    if (nbb_cells[i].input_prompt_number == nbb_cell_id) {\n",
       "                        if (nbb_cells[i].get_text() == nbb_unformatted_code) {\n",
       "                             nbb_cells[i].set_text(nbb_formatted_code);\n",
       "                        }\n",
       "                        break;\n",
       "                    }\n",
       "                }\n",
       "            }, 500);\n",
       "            "
      ],
      "text/plain": [
       "<IPython.core.display.Javascript object>"
      ]
     },
     "metadata": {},
     "output_type": "display_data"
    }
   ],
   "source": [
    "def char_list(string):\n",
    "    return [char for char in string]"
   ]
  },
  {
   "cell_type": "code",
   "execution_count": 15,
   "metadata": {},
   "outputs": [
    {
     "data": {
      "application/javascript": [
       "\n",
       "            setTimeout(function() {\n",
       "                var nbb_cell_id = 15;\n",
       "                var nbb_unformatted_code = \"for value in meds_and_equip_unique:\\n    df.loc[df.meds_and_equip == value, char_list(value)] = 1\";\n",
       "                var nbb_formatted_code = \"for value in meds_and_equip_unique:\\n    df.loc[df.meds_and_equip == value, char_list(value)] = 1\";\n",
       "                var nbb_cells = Jupyter.notebook.get_cells();\n",
       "                for (var i = 0; i < nbb_cells.length; ++i) {\n",
       "                    if (nbb_cells[i].input_prompt_number == nbb_cell_id) {\n",
       "                        if (nbb_cells[i].get_text() == nbb_unformatted_code) {\n",
       "                             nbb_cells[i].set_text(nbb_formatted_code);\n",
       "                        }\n",
       "                        break;\n",
       "                    }\n",
       "                }\n",
       "            }, 500);\n",
       "            "
      ],
      "text/plain": [
       "<IPython.core.display.Javascript object>"
      ]
     },
     "metadata": {},
     "output_type": "display_data"
    }
   ],
   "source": [
    "for value in meds_and_equip_unique:\n",
    "    df.loc[df.meds_and_equip == value, char_list(value)] = 1"
   ]
  },
  {
   "cell_type": "code",
   "execution_count": 16,
   "metadata": {},
   "outputs": [
    {
     "data": {
      "text/html": [
       "<div>\n",
       "<style scoped>\n",
       "    .dataframe tbody tr th:only-of-type {\n",
       "        vertical-align: middle;\n",
       "    }\n",
       "\n",
       "    .dataframe tbody tr th {\n",
       "        vertical-align: top;\n",
       "    }\n",
       "\n",
       "    .dataframe thead th {\n",
       "        text-align: right;\n",
       "    }\n",
       "</style>\n",
       "<table border=\"1\" class=\"dataframe\">\n",
       "  <thead>\n",
       "    <tr style=\"text-align: right;\">\n",
       "      <th></th>\n",
       "      <th>weight</th>\n",
       "      <th>age</th>\n",
       "      <th>sex</th>\n",
       "      <th>meds_and_equip</th>\n",
       "      <th>jockey</th>\n",
       "      <th>post_position</th>\n",
       "      <th>claim_price</th>\n",
       "      <th>finish_position</th>\n",
       "      <th>speed_rating</th>\n",
       "      <th>trainer</th>\n",
       "      <th>owner</th>\n",
       "      <th>weather</th>\n",
       "      <th>distance</th>\n",
       "      <th>race_type</th>\n",
       "      <th>track_conditions</th>\n",
       "      <th>L</th>\n",
       "      <th>b</th>\n",
       "      <th>f</th>\n",
       "      <th>r</th>\n",
       "      <th>y</th>\n",
       "      <th>v</th>\n",
       "      <th>N</th>\n",
       "    </tr>\n",
       "  </thead>\n",
       "  <tbody>\n",
       "    <tr>\n",
       "      <th>0</th>\n",
       "      <td>119</td>\n",
       "      <td>6</td>\n",
       "      <td>G</td>\n",
       "      <td>L</td>\n",
       "      <td>J I Alderson</td>\n",
       "      <td>3</td>\n",
       "      <td>6000</td>\n",
       "      <td>1.0</td>\n",
       "      <td>71.0</td>\n",
       "      <td>McKnight Norman</td>\n",
       "      <td>Bruno Schickedanz</td>\n",
       "      <td>Cloudy</td>\n",
       "      <td>600.0</td>\n",
       "      <td>Claiming</td>\n",
       "      <td>FT</td>\n",
       "      <td>1</td>\n",
       "      <td>0</td>\n",
       "      <td>0</td>\n",
       "      <td>0</td>\n",
       "      <td>0</td>\n",
       "      <td>0</td>\n",
       "      <td>0</td>\n",
       "    </tr>\n",
       "    <tr>\n",
       "      <th>1</th>\n",
       "      <td>121</td>\n",
       "      <td>4</td>\n",
       "      <td>M</td>\n",
       "      <td>L</td>\n",
       "      <td>T Wong</td>\n",
       "      <td>4</td>\n",
       "      <td>9500</td>\n",
       "      <td>10.0</td>\n",
       "      <td>25.0</td>\n",
       "      <td>Pottins Judith R</td>\n",
       "      <td>Shortstop Stable and Zahreddine, Ramez</td>\n",
       "      <td>Cloudy</td>\n",
       "      <td>500.0</td>\n",
       "      <td>Maiden Claiming</td>\n",
       "      <td>FT</td>\n",
       "      <td>1</td>\n",
       "      <td>0</td>\n",
       "      <td>0</td>\n",
       "      <td>0</td>\n",
       "      <td>0</td>\n",
       "      <td>0</td>\n",
       "      <td>0</td>\n",
       "    </tr>\n",
       "    <tr>\n",
       "      <th>2</th>\n",
       "      <td>121</td>\n",
       "      <td>5</td>\n",
       "      <td>M</td>\n",
       "      <td>Lf</td>\n",
       "      <td>S Ryan</td>\n",
       "      <td>1</td>\n",
       "      <td>0</td>\n",
       "      <td>7.0</td>\n",
       "      <td>51.0</td>\n",
       "      <td>Fournier Mark</td>\n",
       "      <td>Bruno Schickedanz</td>\n",
       "      <td>Cloudy</td>\n",
       "      <td>600.0</td>\n",
       "      <td>Allowance</td>\n",
       "      <td>FT</td>\n",
       "      <td>1</td>\n",
       "      <td>0</td>\n",
       "      <td>1</td>\n",
       "      <td>0</td>\n",
       "      <td>0</td>\n",
       "      <td>0</td>\n",
       "      <td>0</td>\n",
       "    </tr>\n",
       "    <tr>\n",
       "      <th>3</th>\n",
       "      <td>123</td>\n",
       "      <td>4</td>\n",
       "      <td>M</td>\n",
       "      <td>Lb</td>\n",
       "      <td>S R Bahen</td>\n",
       "      <td>4</td>\n",
       "      <td>0</td>\n",
       "      <td>6.0</td>\n",
       "      <td>60.0</td>\n",
       "      <td>Mattine John</td>\n",
       "      <td>RCC Racing Stable Ltd.</td>\n",
       "      <td>Cloudy</td>\n",
       "      <td>600.0</td>\n",
       "      <td>Maiden Special Weight</td>\n",
       "      <td>FT</td>\n",
       "      <td>1</td>\n",
       "      <td>1</td>\n",
       "      <td>0</td>\n",
       "      <td>0</td>\n",
       "      <td>0</td>\n",
       "      <td>0</td>\n",
       "      <td>0</td>\n",
       "    </tr>\n",
       "    <tr>\n",
       "      <th>4</th>\n",
       "      <td>121</td>\n",
       "      <td>7</td>\n",
       "      <td>H</td>\n",
       "      <td>Lr</td>\n",
       "      <td>R M Hernandez</td>\n",
       "      <td>2</td>\n",
       "      <td>0</td>\n",
       "      <td>5.0</td>\n",
       "      <td>76.0</td>\n",
       "      <td>Neubauer Michaela</td>\n",
       "      <td>Charles E. Fipke</td>\n",
       "      <td>Cloudy</td>\n",
       "      <td>1100.0</td>\n",
       "      <td>Allowance Optional Claiming</td>\n",
       "      <td>FM</td>\n",
       "      <td>1</td>\n",
       "      <td>0</td>\n",
       "      <td>0</td>\n",
       "      <td>1</td>\n",
       "      <td>0</td>\n",
       "      <td>0</td>\n",
       "      <td>0</td>\n",
       "    </tr>\n",
       "  </tbody>\n",
       "</table>\n",
       "</div>"
      ],
      "text/plain": [
       "   weight  age sex meds_and_equip         jockey  post_position  claim_price  \\\n",
       "0     119    6   G              L   J I Alderson              3         6000   \n",
       "1     121    4   M              L         T Wong              4         9500   \n",
       "2     121    5   M             Lf         S Ryan              1            0   \n",
       "3     123    4   M             Lb      S R Bahen              4            0   \n",
       "4     121    7   H             Lr  R M Hernandez              2            0   \n",
       "\n",
       "   finish_position  speed_rating            trainer  \\\n",
       "0              1.0          71.0    McKnight Norman   \n",
       "1             10.0          25.0   Pottins Judith R   \n",
       "2              7.0          51.0      Fournier Mark   \n",
       "3              6.0          60.0       Mattine John   \n",
       "4              5.0          76.0  Neubauer Michaela   \n",
       "\n",
       "                                    owner weather  distance  \\\n",
       "0                       Bruno Schickedanz  Cloudy     600.0   \n",
       "1  Shortstop Stable and Zahreddine, Ramez  Cloudy     500.0   \n",
       "2                       Bruno Schickedanz  Cloudy     600.0   \n",
       "3                  RCC Racing Stable Ltd.  Cloudy     600.0   \n",
       "4                        Charles E. Fipke  Cloudy    1100.0   \n",
       "\n",
       "                     race_type track_conditions  L  b  f  r  y  v  N  \n",
       "0                     Claiming               FT  1  0  0  0  0  0  0  \n",
       "1              Maiden Claiming               FT  1  0  0  0  0  0  0  \n",
       "2                    Allowance               FT  1  0  1  0  0  0  0  \n",
       "3        Maiden Special Weight               FT  1  1  0  0  0  0  0  \n",
       "4  Allowance Optional Claiming               FM  1  0  0  1  0  0  0  "
      ]
     },
     "execution_count": 16,
     "metadata": {},
     "output_type": "execute_result"
    },
    {
     "data": {
      "application/javascript": [
       "\n",
       "            setTimeout(function() {\n",
       "                var nbb_cell_id = 16;\n",
       "                var nbb_unformatted_code = \"df.head(5)\";\n",
       "                var nbb_formatted_code = \"df.head(5)\";\n",
       "                var nbb_cells = Jupyter.notebook.get_cells();\n",
       "                for (var i = 0; i < nbb_cells.length; ++i) {\n",
       "                    if (nbb_cells[i].input_prompt_number == nbb_cell_id) {\n",
       "                        if (nbb_cells[i].get_text() == nbb_unformatted_code) {\n",
       "                             nbb_cells[i].set_text(nbb_formatted_code);\n",
       "                        }\n",
       "                        break;\n",
       "                    }\n",
       "                }\n",
       "            }, 500);\n",
       "            "
      ],
      "text/plain": [
       "<IPython.core.display.Javascript object>"
      ]
     },
     "metadata": {},
     "output_type": "display_data"
    }
   ],
   "source": [
    "df.head(5)"
   ]
  },
  {
   "cell_type": "markdown",
   "metadata": {},
   "source": [
    "Sucessfully encoded `meds_and_equip` into seperate features. Just need to drop the temporary N column since the rows that were previously null are now represented by zeros in the new catagories."
   ]
  },
  {
   "cell_type": "code",
   "execution_count": 17,
   "metadata": {},
   "outputs": [
    {
     "data": {
      "application/javascript": [
       "\n",
       "            setTimeout(function() {\n",
       "                var nbb_cell_id = 17;\n",
       "                var nbb_unformatted_code = \"df = df.drop([\\\"meds_and_equip\\\", \\\"N\\\"], axis=1)\";\n",
       "                var nbb_formatted_code = \"df = df.drop([\\\"meds_and_equip\\\", \\\"N\\\"], axis=1)\";\n",
       "                var nbb_cells = Jupyter.notebook.get_cells();\n",
       "                for (var i = 0; i < nbb_cells.length; ++i) {\n",
       "                    if (nbb_cells[i].input_prompt_number == nbb_cell_id) {\n",
       "                        if (nbb_cells[i].get_text() == nbb_unformatted_code) {\n",
       "                             nbb_cells[i].set_text(nbb_formatted_code);\n",
       "                        }\n",
       "                        break;\n",
       "                    }\n",
       "                }\n",
       "            }, 500);\n",
       "            "
      ],
      "text/plain": [
       "<IPython.core.display.Javascript object>"
      ]
     },
     "metadata": {},
     "output_type": "display_data"
    }
   ],
   "source": [
    "df = df.drop([\"meds_and_equip\", \"N\"], axis=1)"
   ]
  },
  {
   "cell_type": "markdown",
   "metadata": {},
   "source": [
    "Now to make a binary column for the first place through third place victors and drop `finish_position`"
   ]
  },
  {
   "cell_type": "code",
   "execution_count": 18,
   "metadata": {},
   "outputs": [
    {
     "data": {
      "application/javascript": [
       "\n",
       "            setTimeout(function() {\n",
       "                var nbb_cell_id = 18;\n",
       "                var nbb_unformatted_code = \"df[\\\"win\\\"] = 0\\ndf.loc[df.finish_position.isin([1.0, 2.0, 3.0]), \\\"win\\\"] = 1\\ndf = df.drop(\\\"finish_position\\\", axis=1)\";\n",
       "                var nbb_formatted_code = \"df[\\\"win\\\"] = 0\\ndf.loc[df.finish_position.isin([1.0, 2.0, 3.0]), \\\"win\\\"] = 1\\ndf = df.drop(\\\"finish_position\\\", axis=1)\";\n",
       "                var nbb_cells = Jupyter.notebook.get_cells();\n",
       "                for (var i = 0; i < nbb_cells.length; ++i) {\n",
       "                    if (nbb_cells[i].input_prompt_number == nbb_cell_id) {\n",
       "                        if (nbb_cells[i].get_text() == nbb_unformatted_code) {\n",
       "                             nbb_cells[i].set_text(nbb_formatted_code);\n",
       "                        }\n",
       "                        break;\n",
       "                    }\n",
       "                }\n",
       "            }, 500);\n",
       "            "
      ],
      "text/plain": [
       "<IPython.core.display.Javascript object>"
      ]
     },
     "metadata": {},
     "output_type": "display_data"
    }
   ],
   "source": [
    "df[\"win\"] = 0\n",
    "df.loc[df.finish_position.isin([1.0, 2.0, 3.0]), \"win\"] = 1\n",
    "df = df.drop(\"finish_position\", axis=1)"
   ]
  },
  {
   "cell_type": "code",
   "execution_count": 19,
   "metadata": {},
   "outputs": [
    {
     "data": {
      "text/plain": [
       "0    4782\n",
       "1    2740\n",
       "Name: win, dtype: int64"
      ]
     },
     "execution_count": 19,
     "metadata": {},
     "output_type": "execute_result"
    },
    {
     "data": {
      "application/javascript": [
       "\n",
       "            setTimeout(function() {\n",
       "                var nbb_cell_id = 19;\n",
       "                var nbb_unformatted_code = \"df[\\\"win\\\"].value_counts()\";\n",
       "                var nbb_formatted_code = \"df[\\\"win\\\"].value_counts()\";\n",
       "                var nbb_cells = Jupyter.notebook.get_cells();\n",
       "                for (var i = 0; i < nbb_cells.length; ++i) {\n",
       "                    if (nbb_cells[i].input_prompt_number == nbb_cell_id) {\n",
       "                        if (nbb_cells[i].get_text() == nbb_unformatted_code) {\n",
       "                             nbb_cells[i].set_text(nbb_formatted_code);\n",
       "                        }\n",
       "                        break;\n",
       "                    }\n",
       "                }\n",
       "            }, 500);\n",
       "            "
      ],
      "text/plain": [
       "<IPython.core.display.Javascript object>"
      ]
     },
     "metadata": {},
     "output_type": "display_data"
    }
   ],
   "source": [
    "df[\"win\"].value_counts()"
   ]
  },
  {
   "cell_type": "code",
   "execution_count": 20,
   "metadata": {},
   "outputs": [
    {
     "name": "stdout",
     "output_type": "stream",
     "text": [
      "<class 'pandas.core.frame.DataFrame'>\n",
      "Int64Index: 7522 entries, 0 to 8112\n",
      "Data columns (total 20 columns):\n",
      " #   Column            Non-Null Count  Dtype  \n",
      "---  ------            --------------  -----  \n",
      " 0   weight            7522 non-null   int64  \n",
      " 1   age               7522 non-null   int64  \n",
      " 2   sex               7522 non-null   object \n",
      " 3   jockey            7522 non-null   object \n",
      " 4   post_position     7522 non-null   int64  \n",
      " 5   claim_price       7522 non-null   int64  \n",
      " 6   speed_rating      7522 non-null   float64\n",
      " 7   trainer           7522 non-null   object \n",
      " 8   owner             7522 non-null   object \n",
      " 9   weather           7522 non-null   object \n",
      " 10  distance          7522 non-null   float64\n",
      " 11  race_type         7522 non-null   object \n",
      " 12  track_conditions  7522 non-null   object \n",
      " 13  L                 7522 non-null   int64  \n",
      " 14  b                 7522 non-null   int64  \n",
      " 15  f                 7522 non-null   int64  \n",
      " 16  r                 7522 non-null   int64  \n",
      " 17  y                 7522 non-null   int64  \n",
      " 18  v                 7522 non-null   int64  \n",
      " 19  win               7522 non-null   int64  \n",
      "dtypes: float64(2), int64(11), object(7)\n",
      "memory usage: 1.2+ MB\n"
     ]
    },
    {
     "data": {
      "application/javascript": [
       "\n",
       "            setTimeout(function() {\n",
       "                var nbb_cell_id = 20;\n",
       "                var nbb_unformatted_code = \"df.info()\";\n",
       "                var nbb_formatted_code = \"df.info()\";\n",
       "                var nbb_cells = Jupyter.notebook.get_cells();\n",
       "                for (var i = 0; i < nbb_cells.length; ++i) {\n",
       "                    if (nbb_cells[i].input_prompt_number == nbb_cell_id) {\n",
       "                        if (nbb_cells[i].get_text() == nbb_unformatted_code) {\n",
       "                             nbb_cells[i].set_text(nbb_formatted_code);\n",
       "                        }\n",
       "                        break;\n",
       "                    }\n",
       "                }\n",
       "            }, 500);\n",
       "            "
      ],
      "text/plain": [
       "<IPython.core.display.Javascript object>"
      ]
     },
     "metadata": {},
     "output_type": "display_data"
    }
   ],
   "source": [
    "df.info()"
   ]
  },
  {
   "cell_type": "code",
   "execution_count": 21,
   "metadata": {},
   "outputs": [
    {
     "data": {
      "text/html": [
       "<div>\n",
       "<style scoped>\n",
       "    .dataframe tbody tr th:only-of-type {\n",
       "        vertical-align: middle;\n",
       "    }\n",
       "\n",
       "    .dataframe tbody tr th {\n",
       "        vertical-align: top;\n",
       "    }\n",
       "\n",
       "    .dataframe thead th {\n",
       "        text-align: right;\n",
       "    }\n",
       "</style>\n",
       "<table border=\"1\" class=\"dataframe\">\n",
       "  <thead>\n",
       "    <tr style=\"text-align: right;\">\n",
       "      <th></th>\n",
       "      <th>weight</th>\n",
       "      <th>age</th>\n",
       "      <th>sex</th>\n",
       "      <th>jockey</th>\n",
       "      <th>post_position</th>\n",
       "      <th>claim_price</th>\n",
       "      <th>speed_rating</th>\n",
       "      <th>trainer</th>\n",
       "      <th>owner</th>\n",
       "      <th>weather</th>\n",
       "      <th>distance</th>\n",
       "      <th>race_type</th>\n",
       "      <th>track_conditions</th>\n",
       "      <th>L</th>\n",
       "      <th>b</th>\n",
       "      <th>f</th>\n",
       "      <th>r</th>\n",
       "      <th>y</th>\n",
       "      <th>v</th>\n",
       "      <th>win</th>\n",
       "    </tr>\n",
       "  </thead>\n",
       "  <tbody>\n",
       "    <tr>\n",
       "      <th>0</th>\n",
       "      <td>119</td>\n",
       "      <td>6</td>\n",
       "      <td>G</td>\n",
       "      <td>J I Alderson</td>\n",
       "      <td>3</td>\n",
       "      <td>6000</td>\n",
       "      <td>71.0</td>\n",
       "      <td>McKnight Norman</td>\n",
       "      <td>Bruno Schickedanz</td>\n",
       "      <td>Cloudy</td>\n",
       "      <td>600.0</td>\n",
       "      <td>Claiming</td>\n",
       "      <td>FT</td>\n",
       "      <td>1</td>\n",
       "      <td>0</td>\n",
       "      <td>0</td>\n",
       "      <td>0</td>\n",
       "      <td>0</td>\n",
       "      <td>0</td>\n",
       "      <td>1</td>\n",
       "    </tr>\n",
       "    <tr>\n",
       "      <th>1</th>\n",
       "      <td>121</td>\n",
       "      <td>4</td>\n",
       "      <td>M</td>\n",
       "      <td>T Wong</td>\n",
       "      <td>4</td>\n",
       "      <td>9500</td>\n",
       "      <td>25.0</td>\n",
       "      <td>Pottins Judith R</td>\n",
       "      <td>Shortstop Stable and Zahreddine, Ramez</td>\n",
       "      <td>Cloudy</td>\n",
       "      <td>500.0</td>\n",
       "      <td>Maiden Claiming</td>\n",
       "      <td>FT</td>\n",
       "      <td>1</td>\n",
       "      <td>0</td>\n",
       "      <td>0</td>\n",
       "      <td>0</td>\n",
       "      <td>0</td>\n",
       "      <td>0</td>\n",
       "      <td>0</td>\n",
       "    </tr>\n",
       "    <tr>\n",
       "      <th>2</th>\n",
       "      <td>121</td>\n",
       "      <td>5</td>\n",
       "      <td>M</td>\n",
       "      <td>S Ryan</td>\n",
       "      <td>1</td>\n",
       "      <td>0</td>\n",
       "      <td>51.0</td>\n",
       "      <td>Fournier Mark</td>\n",
       "      <td>Bruno Schickedanz</td>\n",
       "      <td>Cloudy</td>\n",
       "      <td>600.0</td>\n",
       "      <td>Allowance</td>\n",
       "      <td>FT</td>\n",
       "      <td>1</td>\n",
       "      <td>0</td>\n",
       "      <td>1</td>\n",
       "      <td>0</td>\n",
       "      <td>0</td>\n",
       "      <td>0</td>\n",
       "      <td>0</td>\n",
       "    </tr>\n",
       "  </tbody>\n",
       "</table>\n",
       "</div>"
      ],
      "text/plain": [
       "   weight  age sex        jockey  post_position  claim_price  speed_rating  \\\n",
       "0     119    6   G  J I Alderson              3         6000          71.0   \n",
       "1     121    4   M        T Wong              4         9500          25.0   \n",
       "2     121    5   M        S Ryan              1            0          51.0   \n",
       "\n",
       "            trainer                                   owner weather  distance  \\\n",
       "0   McKnight Norman                       Bruno Schickedanz  Cloudy     600.0   \n",
       "1  Pottins Judith R  Shortstop Stable and Zahreddine, Ramez  Cloudy     500.0   \n",
       "2     Fournier Mark                       Bruno Schickedanz  Cloudy     600.0   \n",
       "\n",
       "         race_type track_conditions  L  b  f  r  y  v  win  \n",
       "0         Claiming               FT  1  0  0  0  0  0    1  \n",
       "1  Maiden Claiming               FT  1  0  0  0  0  0    0  \n",
       "2        Allowance               FT  1  0  1  0  0  0    0  "
      ]
     },
     "execution_count": 21,
     "metadata": {},
     "output_type": "execute_result"
    },
    {
     "data": {
      "application/javascript": [
       "\n",
       "            setTimeout(function() {\n",
       "                var nbb_cell_id = 21;\n",
       "                var nbb_unformatted_code = \"df.head(3)\";\n",
       "                var nbb_formatted_code = \"df.head(3)\";\n",
       "                var nbb_cells = Jupyter.notebook.get_cells();\n",
       "                for (var i = 0; i < nbb_cells.length; ++i) {\n",
       "                    if (nbb_cells[i].input_prompt_number == nbb_cell_id) {\n",
       "                        if (nbb_cells[i].get_text() == nbb_unformatted_code) {\n",
       "                             nbb_cells[i].set_text(nbb_formatted_code);\n",
       "                        }\n",
       "                        break;\n",
       "                    }\n",
       "                }\n",
       "            }, 500);\n",
       "            "
      ],
      "text/plain": [
       "<IPython.core.display.Javascript object>"
      ]
     },
     "metadata": {},
     "output_type": "display_data"
    }
   ],
   "source": [
    "df.head(3)"
   ]
  },
  {
   "cell_type": "markdown",
   "metadata": {},
   "source": [
    "Check out the rest of the catagorical data"
   ]
  },
  {
   "cell_type": "code",
   "execution_count": 22,
   "metadata": {
    "scrolled": true
   },
   "outputs": [
    {
     "data": {
      "text/plain": [
       "G    3373\n",
       "F    1890\n",
       "M    1714\n",
       "C     307\n",
       "H     210\n",
       "R      28\n",
       "Name: sex, dtype: int64"
      ]
     },
     "execution_count": 22,
     "metadata": {},
     "output_type": "execute_result"
    },
    {
     "data": {
      "application/javascript": [
       "\n",
       "            setTimeout(function() {\n",
       "                var nbb_cell_id = 22;\n",
       "                var nbb_unformatted_code = \"df[\\\"sex\\\"].value_counts()\";\n",
       "                var nbb_formatted_code = \"df[\\\"sex\\\"].value_counts()\";\n",
       "                var nbb_cells = Jupyter.notebook.get_cells();\n",
       "                for (var i = 0; i < nbb_cells.length; ++i) {\n",
       "                    if (nbb_cells[i].input_prompt_number == nbb_cell_id) {\n",
       "                        if (nbb_cells[i].get_text() == nbb_unformatted_code) {\n",
       "                             nbb_cells[i].set_text(nbb_formatted_code);\n",
       "                        }\n",
       "                        break;\n",
       "                    }\n",
       "                }\n",
       "            }, 500);\n",
       "            "
      ],
      "text/plain": [
       "<IPython.core.display.Javascript object>"
      ]
     },
     "metadata": {},
     "output_type": "display_data"
    }
   ],
   "source": [
    "df[\"sex\"].value_counts()"
   ]
  },
  {
   "cell_type": "code",
   "execution_count": 23,
   "metadata": {
    "scrolled": true
   },
   "outputs": [
    {
     "data": {
      "text/plain": [
       "E R Da Silva      569\n",
       "L Contreras       547\n",
       "R M Hernandez     477\n",
       "J M Campbell      474\n",
       "G Boulanger       468\n",
       "D Moran           447\n",
       "P Husbands        405\n",
       "E Wilson          389\n",
       "S Ryan            310\n",
       "J I Alderson      305\n",
       "A Garcia          291\n",
       "G Olguin          260\n",
       "S Singh           252\n",
       "S R Bahen         212\n",
       "J Crawford        200\n",
       "K Johnson         199\n",
       "O Moreno          194\n",
       "J V Bridgmohan    190\n",
       "S P Husbands      165\n",
       "J McAleney        138\n",
       "T Wong            114\n",
       "I E Mosqueira     111\n",
       "A D Auger          84\n",
       "M Rainford         75\n",
       "F Crausaz          55\n",
       "S Chernetz         48\n",
       "T Maragh           47\n",
       "E Ramsammy         46\n",
       "D Johnson          45\n",
       "M Z Buchanan       42\n",
       "S Callaghan        28\n",
       "T Husbands         27\n",
       "C Defreitas        26\n",
       "D Garcia           20\n",
       "K Pizarro          19\n",
       "M Pinto            18\n",
       "C Jordan           17\n",
       "C Griffith         16\n",
       "T Wolfe-Bell       13\n",
       "J R Leparoux       13\n",
       "B A Alderson       12\n",
       "D Nelson           12\n",
       "B A Duchaine       10\n",
       "J Rosario           9\n",
       "M Badal             8\n",
       "F Geroux            8\n",
       "H Villa-Gomez       8\n",
       "H M Vanek           7\n",
       "D Stimpson          7\n",
       "J Castellano        6\n",
       "R Dacosta           5\n",
       "J L Ortiz           5\n",
       "I Ortiz Jr          5\n",
       "C Spataro           4\n",
       "P Morales           4\n",
       "F Prat              4\n",
       "E S Prado           4\n",
       "B A Cheyne          4\n",
       "C H Marquez Jr      3\n",
       "R Zenteno Jr        3\n",
       "J Valdivia Jr       3\n",
       "H F Newell          3\n",
       "C P DeCarlo         2\n",
       "A Badel             2\n",
       "E T Baird           2\n",
       "G Rodriguez         2\n",
       "T Phillips          2\n",
       "R L Moore           2\n",
       "J P Spencer         2\n",
       "A Atzeni            2\n",
       "K Robinson          1\n",
       "R Maragh            1\n",
       "S Sanjur            1\n",
       "T B Rice            1\n",
       "A Cox               1\n",
       "M G Pino            1\n",
       "D O'Neill           1\n",
       "R Albarado          1\n",
       "W T Buick           1\n",
       "U Rispoli           1\n",
       "D Davis             1\n",
       "O Murphy            1\n",
       "M Murrill           1\n",
       "S Pasquier          1\n",
       "G Mosse             1\n",
       "J R Velazquez       1\n",
       "Name: jockey, dtype: int64"
      ]
     },
     "execution_count": 23,
     "metadata": {},
     "output_type": "execute_result"
    },
    {
     "data": {
      "application/javascript": [
       "\n",
       "            setTimeout(function() {\n",
       "                var nbb_cell_id = 23;\n",
       "                var nbb_unformatted_code = \"df[\\\"jockey\\\"].value_counts()  # Make min = 20\";\n",
       "                var nbb_formatted_code = \"df[\\\"jockey\\\"].value_counts()  # Make min = 20\";\n",
       "                var nbb_cells = Jupyter.notebook.get_cells();\n",
       "                for (var i = 0; i < nbb_cells.length; ++i) {\n",
       "                    if (nbb_cells[i].input_prompt_number == nbb_cell_id) {\n",
       "                        if (nbb_cells[i].get_text() == nbb_unformatted_code) {\n",
       "                             nbb_cells[i].set_text(nbb_formatted_code);\n",
       "                        }\n",
       "                        break;\n",
       "                    }\n",
       "                }\n",
       "            }, 500);\n",
       "            "
      ],
      "text/plain": [
       "<IPython.core.display.Javascript object>"
      ]
     },
     "metadata": {},
     "output_type": "display_data"
    }
   ],
   "source": [
    "df[\"jockey\"].value_counts()  # Make min = 20"
   ]
  },
  {
   "cell_type": "code",
   "execution_count": 24,
   "metadata": {},
   "outputs": [
    {
     "data": {
      "text/plain": [
       "Casse Mark E                322\n",
       "Attard Kevin                214\n",
       "De Paulo Michael P          190\n",
       "McKnight Norman             171\n",
       "Doyle Michael J             165\n",
       "Gonzalez Nicholas           159\n",
       "Attard Sid C                150\n",
       "Vella Daniel J              146\n",
       "Tiller Robert P             142\n",
       "Brnjas Ashlee               129\n",
       "Baker Reade                 127\n",
       "Attfield Roger L            117\n",
       "Biamonte Ralph J            112\n",
       "Buttigieg Paul M            108\n",
       "McClachrie Denyse           101\n",
       "Cotey David                  95\n",
       "Carroll Josie                89\n",
       "Mattine Michael              89\n",
       "Drexler Martin               82\n",
       "Sadler Ronald H              78\n",
       "Tharrenos William            77\n",
       "Miller Blair A               76\n",
       "Nosowenko Nicholas           70\n",
       "Pierce Malcolm               69\n",
       "Fairlie Scott H              67\n",
       "Di Pasquale Sam              66\n",
       "Minshall Barbara J           65\n",
       "Simon Stuart C               64\n",
       "Banach Darwin D              64\n",
       "Mattine John                 62\n",
       "Day Phillips Catherine       61\n",
       "Armata Vito                  61\n",
       "Katryan Abraham R            60\n",
       "Armata W V                   60\n",
       "Burry Lisa                   57\n",
       "Gerl Robert                  56\n",
       "Black Ian                    53\n",
       "Fournier Mark                52\n",
       "Jolin Chris                  51\n",
       "Charalambous John            49\n",
       "Huarte Frank                 48\n",
       "Ross John A                  45\n",
       "Pion Sylvain                 44\n",
       "Attard Paul                  43\n",
       "Armata Ross                  43\n",
       "Gracey W Phillip             42\n",
       "Parente Pat                  42\n",
       "LeBlanc Jr Jr John P         42\n",
       "Halden Rachel                40\n",
       "Silvera Laurie               40\n",
       "Cardella John                40\n",
       "Rombis Debra E               39\n",
       "Griffith Ricky               39\n",
       "Dominguez Jr Ramon           38\n",
       "Keogh Michael                37\n",
       "Chircop Steven               36\n",
       "Bell David R                 36\n",
       "Rose Robert J                35\n",
       "Robinson Lorenzo             35\n",
       "Attard Tino                  35\n",
       "Carey Julia                  34\n",
       "Smith Robert Charles         34\n",
       "Perkins Lorna M              34\n",
       "Colbourne Gordon C           34\n",
       "Buntain Angus                33\n",
       "Ladouceur Harold             33\n",
       "Birtch Daniel R              33\n",
       "Potts Jr Ron G               33\n",
       "Squires Nathan               33\n",
       "Billers George               33\n",
       "Attard Steve                 32\n",
       "Wright Michael W             32\n",
       "Lopez Shana                  32\n",
       "Glennon Darren C             32\n",
       "Attard Jamie                 32\n",
       "Ensom Jim                    31\n",
       "Shafer Jennifer              31\n",
       "Vassilieva Katerina          31\n",
       "Patton Kathy                 30\n",
       "Owens Steve                  30\n",
       "Patykewich Alexander P       30\n",
       "Lynch Brian A                30\n",
       "Frostad Mark R               29\n",
       "Keen Howard                  29\n",
       "Cappuccitti Larry            29\n",
       "Delmas Analisa M             29\n",
       "Grant Carlos                 29\n",
       "Richards Lorne               28\n",
       "Dominguez Sandra             27\n",
       "Wills Daniel                 27\n",
       "Nixon Justin J               27\n",
       "Cox Greg D                   27\n",
       "DeSouza Bancroft             26\n",
       "McDonald Michael K           26\n",
       "Krcmar Zeljko                26\n",
       "Crook Alison                 26\n",
       "Drake Suzanne M              26\n",
       "O'Callaghan Danny M          26\n",
       "Cox Gail                     26\n",
       "Marrocco Jason               26\n",
       "Fehr Alec                    26\n",
       "Singh Ricky                  25\n",
       "Williams Mario               25\n",
       "Brooks Cary                  24\n",
       "Howard Ian                   24\n",
       "MacRae Donald C              23\n",
       "Maynard Desmond              23\n",
       "LeBlanc Warren               22\n",
       "Chubb Beverley               22\n",
       "Mesic Marko                  21\n",
       "Berringer Peter              21\n",
       "England Deborah              21\n",
       "Cole Krista                  21\n",
       "McPherson Alexander F        21\n",
       "Tracy Greg                   21\n",
       "Holder Renaldo               20\n",
       "Neubauer Michaela            19\n",
       "Ferris Preston               19\n",
       "Armata Jr Ross               19\n",
       "Seymour Gerald E             18\n",
       "Pottins Judith R             18\n",
       "Jones Roy C                  18\n",
       "Belhumeur Julie              17\n",
       "Steve Chris                  17\n",
       "Polsinelli Dominic J         17\n",
       "Love Michelle M              16\n",
       "Smither Bruce R              15\n",
       "Carston Lorna                15\n",
       "Barnett Robert Earl          15\n",
       "Ezra Daryl G                 15\n",
       "Ranford Kathryn              15\n",
       "Zita Danny                   14\n",
       "Regan Timothy                14\n",
       "Blouin Marc A                14\n",
       "Knight Edwin F               13\n",
       "Elder Elizabeth R            13\n",
       "Woods Ronald A               13\n",
       "Smith James J                13\n",
       "Wilcox Warren                12\n",
       "Walls Joseph F               12\n",
       "Crean Robert F               12\n",
       "Bennett Cole                 12\n",
       "Loney A Radlie               12\n",
       "Hinds Austin                 11\n",
       "Abela Silvio                 11\n",
       "Diodoro Robertino            11\n",
       "Eshelman Bonnie              11\n",
       "Brown Chad C                 11\n",
       "O'Keefe Thomas               11\n",
       "Samulak Julia A              11\n",
       "Fung Paul                    11\n",
       "Callaghan Kelly L            11\n",
       "Mott William I               10\n",
       "Armata Francesca             10\n",
       "Leslie Sue                   10\n",
       "Gonzalez Jr Nicholas J       10\n",
       "Villeneuve Francine A        10\n",
       "Cathcart Steven              10\n",
       "Desruisseaux Dale A          10\n",
       "Thompson Randy O             10\n",
       "Wells-Scott N                10\n",
       "Hinckson Martin              10\n",
       "Iglar Joanna                 10\n",
       "Gentner Dorothy              10\n",
       "Maker Michael J              10\n",
       "Belaire Conrad A             10\n",
       "Capi Louis M                  9\n",
       "Robillard Julie               9\n",
       "Denney Margaret               9\n",
       "Hasmatali Daryl               8\n",
       "McEwin Cathy A                8\n",
       "Chudobiak Gary                8\n",
       "Coryat John A                 8\n",
       "England Phillip               8\n",
       "Adamo Anthony                 8\n",
       "Thompson David Anthony        8\n",
       "Davis Richard M               8\n",
       "Ollivierre Sylvester          8\n",
       "Learn Shane                   8\n",
       "Fitzgerald Shelley E          8\n",
       "Gattellaro Tony Michael       8\n",
       "Hayes Breeda                  7\n",
       "Mayers Amber                  7\n",
       "Miller Jr Henry M             7\n",
       "McMullen Marilyn G            7\n",
       "Desruisseaux Allen            7\n",
       "Newland George                7\n",
       "Wells Stephen R               7\n",
       "McHugh Saul                   7\n",
       "Dickinson Michael W           7\n",
       "Murphy Conor                  7\n",
       "Schembri Albert               7\n",
       "Clement Christophe            7\n",
       "Motion H Graham               7\n",
       "O'Connor David M              6\n",
       "Philpott Stephen              6\n",
       "Yu Danny                      6\n",
       "Creer Jennifer                5\n",
       "DeFrancesco Nando             5\n",
       "Borsk David                   5\n",
       "Kennedy Richard W             5\n",
       "Bland Thomas                  5\n",
       "Corrales Jose                 5\n",
       "Attard Larry                  5\n",
       "Blake Michael J               5\n",
       "Pollock Bruce M               5\n",
       "Abraham Clint                 5\n",
       "Greer Brandon Evan            5\n",
       "Giliforte Layne S             5\n",
       "Katryan Ken J                 5\n",
       "Walsh Ryan D                  5\n",
       "Concessi Armand               4\n",
       "Ward Wesley A                 4\n",
       "Fuoco Carlo                   4\n",
       "Robillard Joshua              4\n",
       "Thompson Valerie              4\n",
       "Hamm Timothy E                4\n",
       "Staples John                  4\n",
       "Rivelli Larry                 4\n",
       "Shirley Luthia                4\n",
       "Harty Eoin G                  4\n",
       "Stidham Michael               4\n",
       "Lough Jr Thomas               4\n",
       "Loescher Paula                4\n",
       "Wright Jr Michael             3\n",
       "Humber Joseph                 3\n",
       "Morris Neil R                 3\n",
       "Parro Sam                     3\n",
       "Walsh Brendan P               3\n",
       "Buttigieg P J Bosco           3\n",
       "Cohen Michael V               3\n",
       "Goodlet Mark D                3\n",
       "Cameron Anne                  3\n",
       "Delorey Laura                 3\n",
       "Gordon Cleveland A            3\n",
       "Bond H James                  3\n",
       "Wismer Troy S                 3\n",
       "Bird Alan F                   3\n",
       "McMahon William G             3\n",
       "Colebrook Ben                 3\n",
       "O'Brien Aidan P               2\n",
       "Walker Emily                  2\n",
       "Corbett Brian                 2\n",
       "Lynch Cathal A                2\n",
       "Mohabir Chetram               2\n",
       "Husbands Anthony              2\n",
       "De la cerda Armando           2\n",
       "Pletcher Todd A               2\n",
       "Rideout Shawn                 2\n",
       "Brueggemann Roger A           2\n",
       "Hoad Lindsey                  2\n",
       "O'Connor Ray L                2\n",
       "McLaughlin Kiaran P           2\n",
       "Alderson Anthony J            2\n",
       "Johnston Robert JW            2\n",
       "Medina Santiago               2\n",
       "Simms John                    2\n",
       "Weaver George                 2\n",
       "Sharman Kyle                  2\n",
       "Englehart Jeremiah C          2\n",
       "Rubley Kelly                  1\n",
       "Rice Kevin                    1\n",
       "Tyler Anthony A               1\n",
       "Lewars Michael                1\n",
       "Wohler Andreas                1\n",
       "Pleterski Don                 1\n",
       "Ness Jamie                    1\n",
       "Rohaut Francois               1\n",
       "Davis Liane P                 1\n",
       "Albertrani Thomas             1\n",
       "Channon Mick R                1\n",
       "Walker Ed                     1\n",
       "Varian Roger                  1\n",
       "Williams Noel A               1\n",
       "Smith Andrew                  1\n",
       "Scherer Richard R             1\n",
       "Paterson Marjorie A           1\n",
       "Stoute Sir Michael R          1\n",
       "Graham Edward L               1\n",
       "Block Chris M                 1\n",
       "Caramori Eduardo C            1\n",
       "Carnegie Luke                 1\n",
       "Haggas William J              1\n",
       "Smaga David                   1\n",
       "McNeely Frances               1\n",
       "Cannizzo David A              1\n",
       "Silva Carlos H                1\n",
       "Rice Wayne W                  1\n",
       "Peery Chuck                   1\n",
       "Kierans Renee D               1\n",
       "Devin H F                     1\n",
       "Connelly Teresa               1\n",
       "Helmbrecht William R          1\n",
       "Hickst Waldemar               1\n",
       "Pottinger Anthony             1\n",
       "Benson Liam Daniel            1\n",
       "Catalano Wayne M              1\n",
       "Keefe Timothy L               1\n",
       "Graffard Francis - Henri      1\n",
       "Terranova II John P           1\n",
       "Giuliani Craig                1\n",
       "Proctor Thomas F              1\n",
       "Chapple-Hyam Peter W          1\n",
       "Gosden John H M               1\n",
       "Acorn Danny J                 1\n",
       "Drysdale Neil D               1\n",
       "Cox Brad H                    1\n",
       "Van Meter William B           1\n",
       "DiPaola Santino C             1\n",
       "Hau Kai Wing                  1\n",
       "Simcock David                 1\n",
       "Doumen Francois               1\n",
       "Williamson Brian              1\n",
       "Name: trainer, dtype: int64"
      ]
     },
     "execution_count": 24,
     "metadata": {},
     "output_type": "execute_result"
    },
    {
     "data": {
      "application/javascript": [
       "\n",
       "            setTimeout(function() {\n",
       "                var nbb_cell_id = 24;\n",
       "                var nbb_unformatted_code = \"df[\\\"trainer\\\"].value_counts()  # Make min = 20\";\n",
       "                var nbb_formatted_code = \"df[\\\"trainer\\\"].value_counts()  # Make min = 20\";\n",
       "                var nbb_cells = Jupyter.notebook.get_cells();\n",
       "                for (var i = 0; i < nbb_cells.length; ++i) {\n",
       "                    if (nbb_cells[i].input_prompt_number == nbb_cell_id) {\n",
       "                        if (nbb_cells[i].get_text() == nbb_unformatted_code) {\n",
       "                             nbb_cells[i].set_text(nbb_formatted_code);\n",
       "                        }\n",
       "                        break;\n",
       "                    }\n",
       "                }\n",
       "            }, 500);\n",
       "            "
      ],
      "text/plain": [
       "<IPython.core.display.Javascript object>"
      ]
     },
     "metadata": {},
     "output_type": "display_data"
    }
   ],
   "source": [
    "df[\"trainer\"].value_counts()  # Make min = 20"
   ]
  },
  {
   "cell_type": "code",
   "execution_count": 25,
   "metadata": {},
   "outputs": [
    {
     "data": {
      "text/plain": [
       "Colebrook Farms                                         126\n",
       "Bruno Schickedanz                                       112\n",
       "Chiefswood Stable                                        90\n",
       "Joey Gee Thoroughbreds                                   90\n",
       "Tucci Stables                                            78\n",
       "Conquest Stables, LLC                                    78\n",
       "Chesney, Stephen and Hoffman, Cory S.                    71\n",
       "Ryan Shane Kerbel                                        70\n",
       "Dura Racing and M. J. Doyle Racing Stables Ltd.          69\n",
       "Buttigieg Training Centre                                67\n",
       "Frank D. Di Giulio, Jr.                                  61\n",
       "Kanny Ng                                                 60\n",
       "Stronach Stables                                         60\n",
       "Sam-Son Farm                                             58\n",
       "1824782 Ontario Inc.                                     54\n",
       "Norseman Racing Stable                                   54\n",
       "Linmac Farms                                             45\n",
       "Solo Racing Ltd                                          45\n",
       "C. E. C. Farms                                           43\n",
       "Ruvee Stables                                            42\n",
       "Charles E. Fipke                                         40\n",
       "Maplehaven Equestrian Center                             38\n",
       "Gary Barber                                              36\n",
       "Ivan Dalos                                               35\n",
       "Bear Stables, Ltd.                                       33\n",
       "Debra E. Rombis                                          33\n",
       "Gustav Schickedanz                                       33\n",
       "Oak Run Racing Inc.                                      33\n",
       "S. A. Racing Stable, Inc.                                32\n",
       "Hill, Jim and Susan                                      32\n",
       "Dominion Bloodstock and Butzer, Barry                    30\n",
       "Stacey Van Camp                                          30\n",
       "Mary E. Biamonte                                         30\n",
       "Alexander P. Patykewich                                  30\n",
       "Greenoaks Farm                                           30\n",
       "Horse'n Around Racing Stable and Gonzalez, Martha K.     30\n",
       "Laurie Silvera                                           29\n",
       "Michael Wright Racing Stable, Inc.                       28\n",
       "True North Stable                                        28\n",
       "Nicholas Nosowenko                                       28\n",
       "Conrad Farms                                             28\n",
       "4U Thoroughbred Racing Stable Inc                        26\n",
       "Birtch Daniel and Birtch Ryan                            25\n",
       "Gabe Grossberg                                           25\n",
       "Natural Eight Stable                                     25\n",
       "Fieldstone Farms                                         25\n",
       "Joshua J. Attard                                         25\n",
       "John C. Oxley                                            24\n",
       "Attard, Kevin and Mehta, Soli                            24\n",
       "The Elkstone Group LLC                                   24\n",
       "Terra Racing Stable                                      24\n",
       "Curraghmore Farm                                         24\n",
       "Heste Sport, Inc.                                        23\n",
       "Lee, Ken, Mitchell, Dennis, Bell, Don and Bell, Gaye     23\n",
       "J.R. Racing Stable Inc.                                  23\n",
       "Rolph A. Davis                                           23\n",
       "D'Amato Carlo and Van Camp Stacey                        23\n",
       "Connie Patton                                            23\n",
       "Brooks Cary and Phillip                                  23\n",
       "John Cardella                                            22\n",
       "Tequesta Racing Inc. and AAA Racing Stable               22\n",
       "Equus Holdings                                           21\n",
       "Douglas J. Reddington                                    21\n",
       "Bradscot Farms                                           21\n",
       "Ferreira Stables                                         21\n",
       "R.M.C. Stable                                            21\n",
       "Minshall Farms                                           20\n",
       "Empress Stable                                           20\n",
       "Nosowenko, Mike and Nick                                 20\n",
       "M. J. Doyle Racing Stable, Ltd.                          20\n",
       "Lickrish, Elizabeth and Gordon                           20\n",
       "Gerald F. Pike                                           20\n",
       "Annecchini, Frank and D'Alimonte Holdings, Inc.          20\n",
       "C. Scott Abbott Racing Stable Ltd.                       20\n",
       "Debmar Stables                                           19\n",
       "Frank P. Russo                                           19\n",
       "York Tech Racing Stable                                  19\n",
       "L. R. Deakins Racing Stable                              19\n",
       "Theodore F. Burnett                                      19\n",
       "Sheldon Pettle                                           18\n",
       "Ricky Singh                                              18\n",
       "Lorna M. Perkins                                         18\n",
       "Janet Jeanpierre                                         18\n",
       "Derek Chin                                               17\n",
       "Chris Steve                                              17\n",
       "Carlo D'Amato                                            17\n",
       "David R. Bell                                            16\n",
       "Tricia Greer                                             16\n",
       "Ace Racing Stable, Inc.                                  16\n",
       "Ronald H. Sadler                                         16\n",
       "Live Oak Plantation                                      16\n",
       "Randy Exelby                                             16\n",
       "A and G Racing Stable                                    16\n",
       "Josephine DePaulo                                        16\n",
       "William A. Sorokolit, Sr.                                16\n",
       "Andrew V. Fredericks                                     16\n",
       "Trinity Racing Stables, Inc.                             16\n",
       "McCallum-Smith, Lisa and Cox, C.                         16\n",
       "Latina Racing Stable                                     16\n",
       "Racer's Edge Inc and McMaster Gary                       16\n",
       "Radcliffe Racing Stable                                  15\n",
       "Donver Stable                                            15\n",
       "George Bigliardi                                         15\n",
       "James Redekop                                            15\n",
       "Sam Passero                                              15\n",
       "Alpine Stable Ltd.                                       15\n",
       "Ericka Rusnak                                            14\n",
       "Benjamin Hutzel                                          14\n",
       "Shortstop Stable                                         14\n",
       "Michele J. Newell                                        14\n",
       "UN Stable                                                14\n",
       "Phoenix Racing                                           14\n",
       "William Diamant                                          14\n",
       "Peter Armata                                             14\n",
       "Gierkink, Ron and William                                14\n",
       "Fullthrottle Racing Stables                              14\n",
       "Marc Berzins                                             14\n",
       "Hillsbrook Farms                                         14\n",
       "Lorenzo Robinson                                         13\n",
       "Suda Stables                                             13\n",
       "RCC Racing Stable Ltd and Realm Racing Stables           13\n",
       "Lay Michael Loughry Mike and D Mac Racing Stable Inc     13\n",
       "Trinity Racing Stables Inc and Racer's Edge Inc          13\n",
       "Michelle M Olsson                                        13\n",
       "Lunsford Bruce and Minshall Barbara J                    13\n",
       "Twin Bullets Stable                                      13\n",
       "Spring Lakes Farm                                        13\n",
       "Cirillo, Frank and Chircop, Steven                       13\n",
       "Edwin F. Knight                                          13\n",
       "Russell, John and Schramm, George                        12\n",
       "Wilcox, Warren and Murray, C.                            12\n",
       "R. I. Clarkson                                           12\n",
       "Greenwood Lodge Farm, Inc.                               12\n",
       "Langcrest Farm                                           12\n",
       "Charles Boyd                                             12\n",
       "Menary, John and Cox, Gail                               12\n",
       "Windhaven Farms Inc.                                     12\n",
       "Hugh W. Blackmore                                        12\n",
       "Paul Mouttet                                             12\n",
       "Andrae J. Gordon                                         12\n",
       "Philip D Budhoo                                          12\n",
       "Bruce Lunsford                                           12\n",
       "C S Dowson Farms                                         12\n",
       "Robert Harvey                                            12\n",
       "Walnut Ridge Farm                                        12\n",
       "A and A Farms                                            12\n",
       "Eaton Hall Farm                                          12\n",
       "Hopefield Farm                                           12\n",
       "Jordan Miller                                            11\n",
       "Tino Attard                                              11\n",
       "Name: owner, dtype: int64"
      ]
     },
     "execution_count": 25,
     "metadata": {},
     "output_type": "execute_result"
    },
    {
     "data": {
      "application/javascript": [
       "\n",
       "            setTimeout(function() {\n",
       "                var nbb_cell_id = 25;\n",
       "                var nbb_unformatted_code = \"df[\\\"owner\\\"].value_counts().head(150)  # Make min = 20\";\n",
       "                var nbb_formatted_code = \"df[\\\"owner\\\"].value_counts().head(150)  # Make min = 20\";\n",
       "                var nbb_cells = Jupyter.notebook.get_cells();\n",
       "                for (var i = 0; i < nbb_cells.length; ++i) {\n",
       "                    if (nbb_cells[i].input_prompt_number == nbb_cell_id) {\n",
       "                        if (nbb_cells[i].get_text() == nbb_unformatted_code) {\n",
       "                             nbb_cells[i].set_text(nbb_formatted_code);\n",
       "                        }\n",
       "                        break;\n",
       "                    }\n",
       "                }\n",
       "            }, 500);\n",
       "            "
      ],
      "text/plain": [
       "<IPython.core.display.Javascript object>"
      ]
     },
     "metadata": {},
     "output_type": "display_data"
    }
   ],
   "source": [
    "df[\"owner\"].value_counts().head(150)  # Make min = 20"
   ]
  },
  {
   "cell_type": "code",
   "execution_count": 26,
   "metadata": {},
   "outputs": [
    {
     "data": {
      "text/plain": [
       "Cloudy     5960\n",
       "Clear       737\n",
       "Showery     508\n",
       "Rainy       217\n",
       "Hazy         78\n",
       "Snowing      22\n",
       "Name: weather, dtype: int64"
      ]
     },
     "execution_count": 26,
     "metadata": {},
     "output_type": "execute_result"
    },
    {
     "data": {
      "application/javascript": [
       "\n",
       "            setTimeout(function() {\n",
       "                var nbb_cell_id = 26;\n",
       "                var nbb_unformatted_code = \"df[\\\"weather\\\"].value_counts()\";\n",
       "                var nbb_formatted_code = \"df[\\\"weather\\\"].value_counts()\";\n",
       "                var nbb_cells = Jupyter.notebook.get_cells();\n",
       "                for (var i = 0; i < nbb_cells.length; ++i) {\n",
       "                    if (nbb_cells[i].input_prompt_number == nbb_cell_id) {\n",
       "                        if (nbb_cells[i].get_text() == nbb_unformatted_code) {\n",
       "                             nbb_cells[i].set_text(nbb_formatted_code);\n",
       "                        }\n",
       "                        break;\n",
       "                    }\n",
       "                }\n",
       "            }, 500);\n",
       "            "
      ],
      "text/plain": [
       "<IPython.core.display.Javascript object>"
      ]
     },
     "metadata": {},
     "output_type": "display_data"
    }
   ],
   "source": [
    "df[\"weather\"].value_counts()"
   ]
  },
  {
   "cell_type": "code",
   "execution_count": 27,
   "metadata": {},
   "outputs": [
    {
     "data": {
      "text/plain": [
       "Claiming                       2846\n",
       "Maiden Claiming                1423\n",
       "Allowance                      1094\n",
       "Maiden Special Weight           790\n",
       "Stakes                          716\n",
       "Allowance Optional Claiming     326\n",
       "Maiden Optional Claiming        190\n",
       "Starters Allowance              124\n",
       "Optional Claiming                13\n",
       "Name: race_type, dtype: int64"
      ]
     },
     "execution_count": 27,
     "metadata": {},
     "output_type": "execute_result"
    },
    {
     "data": {
      "application/javascript": [
       "\n",
       "            setTimeout(function() {\n",
       "                var nbb_cell_id = 27;\n",
       "                var nbb_unformatted_code = \"df[\\\"race_type\\\"].value_counts()\";\n",
       "                var nbb_formatted_code = \"df[\\\"race_type\\\"].value_counts()\";\n",
       "                var nbb_cells = Jupyter.notebook.get_cells();\n",
       "                for (var i = 0; i < nbb_cells.length; ++i) {\n",
       "                    if (nbb_cells[i].input_prompt_number == nbb_cell_id) {\n",
       "                        if (nbb_cells[i].get_text() == nbb_unformatted_code) {\n",
       "                             nbb_cells[i].set_text(nbb_formatted_code);\n",
       "                        }\n",
       "                        break;\n",
       "                    }\n",
       "                }\n",
       "            }, 500);\n",
       "            "
      ],
      "text/plain": [
       "<IPython.core.display.Javascript object>"
      ]
     },
     "metadata": {},
     "output_type": "display_data"
    }
   ],
   "source": [
    "df[\"race_type\"].value_counts()"
   ]
  },
  {
   "cell_type": "code",
   "execution_count": 28,
   "metadata": {},
   "outputs": [
    {
     "data": {
      "text/plain": [
       "FT    5852\n",
       "FM    1231\n",
       "GD     395\n",
       "YL      44\n",
       "Name: track_conditions, dtype: int64"
      ]
     },
     "execution_count": 28,
     "metadata": {},
     "output_type": "execute_result"
    },
    {
     "data": {
      "application/javascript": [
       "\n",
       "            setTimeout(function() {\n",
       "                var nbb_cell_id = 28;\n",
       "                var nbb_unformatted_code = \"df[\\\"track_conditions\\\"].value_counts()\";\n",
       "                var nbb_formatted_code = \"df[\\\"track_conditions\\\"].value_counts()\";\n",
       "                var nbb_cells = Jupyter.notebook.get_cells();\n",
       "                for (var i = 0; i < nbb_cells.length; ++i) {\n",
       "                    if (nbb_cells[i].input_prompt_number == nbb_cell_id) {\n",
       "                        if (nbb_cells[i].get_text() == nbb_unformatted_code) {\n",
       "                             nbb_cells[i].set_text(nbb_formatted_code);\n",
       "                        }\n",
       "                        break;\n",
       "                    }\n",
       "                }\n",
       "            }, 500);\n",
       "            "
      ],
      "text/plain": [
       "<IPython.core.display.Javascript object>"
      ]
     },
     "metadata": {},
     "output_type": "display_data"
    }
   ],
   "source": [
    "df[\"track_conditions\"].value_counts()"
   ]
  },
  {
   "cell_type": "markdown",
   "metadata": {},
   "source": [
    "Create a cutoff for `jockey`, `trainer`, and `owner` columns. Start with a minimum of 20 occurrences."
   ]
  },
  {
   "cell_type": "code",
   "execution_count": 29,
   "metadata": {},
   "outputs": [
    {
     "data": {
      "application/javascript": [
       "\n",
       "            setTimeout(function() {\n",
       "                var nbb_cell_id = 29;\n",
       "                var nbb_unformatted_code = \"def truncate_nominal_column(df_col, minimum):\\n    \\\"\\\"\\\"This function returns a truncated list of values\\n    whos unique_values() counts meets a minimum threshold\\n    \\\"\\\"\\\"\\n    keys = df_col.value_counts().index.tolist()\\n    counts = df_col.value_counts().tolist()\\n\\n    truncated = []\\n    removed_count = 0\\n    i = 0\\n    for key in keys:\\n        if counts[i] >= minimum:\\n            truncated.append(key)\\n        else:\\n            removed_count += counts[i]\\n        i += 1\\n\\n    print(\\n        \\\"Number of values retained: \\\"\\n        + str(len(truncated))\\n        + \\\", Sum of occurrances not meeting minimum count: \\\"\\n        + str(removed_count)\\n    )\\n\\n    return truncated\";\n",
       "                var nbb_formatted_code = \"def truncate_nominal_column(df_col, minimum):\\n    \\\"\\\"\\\"This function returns a truncated list of values\\n    whos unique_values() counts meets a minimum threshold\\n    \\\"\\\"\\\"\\n    keys = df_col.value_counts().index.tolist()\\n    counts = df_col.value_counts().tolist()\\n\\n    truncated = []\\n    removed_count = 0\\n    i = 0\\n    for key in keys:\\n        if counts[i] >= minimum:\\n            truncated.append(key)\\n        else:\\n            removed_count += counts[i]\\n        i += 1\\n\\n    print(\\n        \\\"Number of values retained: \\\"\\n        + str(len(truncated))\\n        + \\\", Sum of occurrances not meeting minimum count: \\\"\\n        + str(removed_count)\\n    )\\n\\n    return truncated\";\n",
       "                var nbb_cells = Jupyter.notebook.get_cells();\n",
       "                for (var i = 0; i < nbb_cells.length; ++i) {\n",
       "                    if (nbb_cells[i].input_prompt_number == nbb_cell_id) {\n",
       "                        if (nbb_cells[i].get_text() == nbb_unformatted_code) {\n",
       "                             nbb_cells[i].set_text(nbb_formatted_code);\n",
       "                        }\n",
       "                        break;\n",
       "                    }\n",
       "                }\n",
       "            }, 500);\n",
       "            "
      ],
      "text/plain": [
       "<IPython.core.display.Javascript object>"
      ]
     },
     "metadata": {},
     "output_type": "display_data"
    }
   ],
   "source": [
    "def truncate_nominal_column(df_col, minimum):\n",
    "    \"\"\"This function returns a truncated list of values\n",
    "    whos unique_values() counts meets a minimum threshold\n",
    "    \"\"\"\n",
    "    keys = df_col.value_counts().index.tolist()\n",
    "    counts = df_col.value_counts().tolist()\n",
    "\n",
    "    truncated = []\n",
    "    removed_count = 0\n",
    "    i = 0\n",
    "    for key in keys:\n",
    "        if counts[i] >= minimum:\n",
    "            truncated.append(key)\n",
    "        else:\n",
    "            removed_count += counts[i]\n",
    "        i += 1\n",
    "\n",
    "    print(\n",
    "        \"Number of values retained: \"\n",
    "        + str(len(truncated))\n",
    "        + \", Sum of occurrances not meeting minimum count: \"\n",
    "        + str(removed_count)\n",
    "    )\n",
    "\n",
    "    return truncated"
   ]
  },
  {
   "cell_type": "code",
   "execution_count": 30,
   "metadata": {},
   "outputs": [
    {
     "name": "stdout",
     "output_type": "stream",
     "text": [
      "Number of values retained: 34, Sum of occurrances not meeting minimum count: 262\n",
      "Number of values retained: 116, Sum of occurrances not meeting minimum count: 1141\n",
      "Number of values retained: 74, Sum of occurrances not meeting minimum count: 4742\n"
     ]
    },
    {
     "data": {
      "application/javascript": [
       "\n",
       "            setTimeout(function() {\n",
       "                var nbb_cell_id = 30;\n",
       "                var nbb_unformatted_code = \"jockey_accepted = truncate_nominal_column(df[\\\"jockey\\\"], 20)\\ntrainer_accepted = truncate_nominal_column(df[\\\"trainer\\\"], 20)\\nowner_accepted = truncate_nominal_column(df[\\\"owner\\\"], 20)\";\n",
       "                var nbb_formatted_code = \"jockey_accepted = truncate_nominal_column(df[\\\"jockey\\\"], 20)\\ntrainer_accepted = truncate_nominal_column(df[\\\"trainer\\\"], 20)\\nowner_accepted = truncate_nominal_column(df[\\\"owner\\\"], 20)\";\n",
       "                var nbb_cells = Jupyter.notebook.get_cells();\n",
       "                for (var i = 0; i < nbb_cells.length; ++i) {\n",
       "                    if (nbb_cells[i].input_prompt_number == nbb_cell_id) {\n",
       "                        if (nbb_cells[i].get_text() == nbb_unformatted_code) {\n",
       "                             nbb_cells[i].set_text(nbb_formatted_code);\n",
       "                        }\n",
       "                        break;\n",
       "                    }\n",
       "                }\n",
       "            }, 500);\n",
       "            "
      ],
      "text/plain": [
       "<IPython.core.display.Javascript object>"
      ]
     },
     "metadata": {},
     "output_type": "display_data"
    }
   ],
   "source": [
    "jockey_accepted = truncate_nominal_column(df[\"jockey\"], 20)\n",
    "trainer_accepted = truncate_nominal_column(df[\"trainer\"], 20)\n",
    "owner_accepted = truncate_nominal_column(df[\"owner\"], 20)"
   ]
  },
  {
   "cell_type": "code",
   "execution_count": 31,
   "metadata": {},
   "outputs": [
    {
     "data": {
      "text/plain": [
       "35"
      ]
     },
     "execution_count": 31,
     "metadata": {},
     "output_type": "execute_result"
    },
    {
     "data": {
      "application/javascript": [
       "\n",
       "            setTimeout(function() {\n",
       "                var nbb_cell_id = 31;\n",
       "                var nbb_unformatted_code = \"df[\\\"jockey_adj\\\"] = df[\\\"jockey\\\"]\\ndf.loc[~df.jockey_adj.isin(jockey_accepted), \\\"jockey_adj\\\"] = \\\"other_jockey\\\"\\ndf[\\\"jockey_adj\\\"].nunique()\";\n",
       "                var nbb_formatted_code = \"df[\\\"jockey_adj\\\"] = df[\\\"jockey\\\"]\\ndf.loc[~df.jockey_adj.isin(jockey_accepted), \\\"jockey_adj\\\"] = \\\"other_jockey\\\"\\ndf[\\\"jockey_adj\\\"].nunique()\";\n",
       "                var nbb_cells = Jupyter.notebook.get_cells();\n",
       "                for (var i = 0; i < nbb_cells.length; ++i) {\n",
       "                    if (nbb_cells[i].input_prompt_number == nbb_cell_id) {\n",
       "                        if (nbb_cells[i].get_text() == nbb_unformatted_code) {\n",
       "                             nbb_cells[i].set_text(nbb_formatted_code);\n",
       "                        }\n",
       "                        break;\n",
       "                    }\n",
       "                }\n",
       "            }, 500);\n",
       "            "
      ],
      "text/plain": [
       "<IPython.core.display.Javascript object>"
      ]
     },
     "metadata": {},
     "output_type": "display_data"
    }
   ],
   "source": [
    "df[\"jockey_adj\"] = df[\"jockey\"]\n",
    "df.loc[~df.jockey_adj.isin(jockey_accepted), \"jockey_adj\"] = \"other_jockey\"\n",
    "df[\"jockey_adj\"].nunique()"
   ]
  },
  {
   "cell_type": "code",
   "execution_count": 32,
   "metadata": {},
   "outputs": [
    {
     "data": {
      "text/plain": [
       "117"
      ]
     },
     "execution_count": 32,
     "metadata": {},
     "output_type": "execute_result"
    },
    {
     "data": {
      "application/javascript": [
       "\n",
       "            setTimeout(function() {\n",
       "                var nbb_cell_id = 32;\n",
       "                var nbb_unformatted_code = \"df[\\\"trainer_adj\\\"] = df[\\\"trainer\\\"]\\ndf.loc[~df.trainer_adj.isin(trainer_accepted), \\\"trainer_adj\\\"] = \\\"other_trainer\\\"\\ndf[\\\"trainer_adj\\\"].nunique()\";\n",
       "                var nbb_formatted_code = \"df[\\\"trainer_adj\\\"] = df[\\\"trainer\\\"]\\ndf.loc[~df.trainer_adj.isin(trainer_accepted), \\\"trainer_adj\\\"] = \\\"other_trainer\\\"\\ndf[\\\"trainer_adj\\\"].nunique()\";\n",
       "                var nbb_cells = Jupyter.notebook.get_cells();\n",
       "                for (var i = 0; i < nbb_cells.length; ++i) {\n",
       "                    if (nbb_cells[i].input_prompt_number == nbb_cell_id) {\n",
       "                        if (nbb_cells[i].get_text() == nbb_unformatted_code) {\n",
       "                             nbb_cells[i].set_text(nbb_formatted_code);\n",
       "                        }\n",
       "                        break;\n",
       "                    }\n",
       "                }\n",
       "            }, 500);\n",
       "            "
      ],
      "text/plain": [
       "<IPython.core.display.Javascript object>"
      ]
     },
     "metadata": {},
     "output_type": "display_data"
    }
   ],
   "source": [
    "df[\"trainer_adj\"] = df[\"trainer\"]\n",
    "df.loc[~df.trainer_adj.isin(trainer_accepted), \"trainer_adj\"] = \"other_trainer\"\n",
    "df[\"trainer_adj\"].nunique()"
   ]
  },
  {
   "cell_type": "code",
   "execution_count": 33,
   "metadata": {},
   "outputs": [
    {
     "data": {
      "text/plain": [
       "75"
      ]
     },
     "execution_count": 33,
     "metadata": {},
     "output_type": "execute_result"
    },
    {
     "data": {
      "application/javascript": [
       "\n",
       "            setTimeout(function() {\n",
       "                var nbb_cell_id = 33;\n",
       "                var nbb_unformatted_code = \"df[\\\"owner_adj\\\"] = df[\\\"owner\\\"]\\ndf.loc[~df.owner_adj.isin(owner_accepted), \\\"owner_adj\\\"] = \\\"other_owner\\\"\\ndf[\\\"owner_adj\\\"].nunique()\";\n",
       "                var nbb_formatted_code = \"df[\\\"owner_adj\\\"] = df[\\\"owner\\\"]\\ndf.loc[~df.owner_adj.isin(owner_accepted), \\\"owner_adj\\\"] = \\\"other_owner\\\"\\ndf[\\\"owner_adj\\\"].nunique()\";\n",
       "                var nbb_cells = Jupyter.notebook.get_cells();\n",
       "                for (var i = 0; i < nbb_cells.length; ++i) {\n",
       "                    if (nbb_cells[i].input_prompt_number == nbb_cell_id) {\n",
       "                        if (nbb_cells[i].get_text() == nbb_unformatted_code) {\n",
       "                             nbb_cells[i].set_text(nbb_formatted_code);\n",
       "                        }\n",
       "                        break;\n",
       "                    }\n",
       "                }\n",
       "            }, 500);\n",
       "            "
      ],
      "text/plain": [
       "<IPython.core.display.Javascript object>"
      ]
     },
     "metadata": {},
     "output_type": "display_data"
    }
   ],
   "source": [
    "df[\"owner_adj\"] = df[\"owner\"]\n",
    "df.loc[~df.owner_adj.isin(owner_accepted), \"owner_adj\"] = \"other_owner\"\n",
    "df[\"owner_adj\"].nunique()"
   ]
  },
  {
   "cell_type": "markdown",
   "metadata": {},
   "source": [
    "Great, now I have created three columns to represent `jockey`, `trainer`, and `owner` and have truncated the values in theses colums not meeting a minimum value_count into a \"other\" nominal catagory."
   ]
  },
  {
   "cell_type": "markdown",
   "metadata": {},
   "source": [
    "# Catagorize Columns"
   ]
  },
  {
   "cell_type": "code",
   "execution_count": 34,
   "metadata": {},
   "outputs": [
    {
     "data": {
      "application/javascript": [
       "\n",
       "            setTimeout(function() {\n",
       "                var nbb_cell_id = 34;\n",
       "                var nbb_unformatted_code = \"# Fill out your column datatypes here\\nnum_cols = [\\\"weight\\\", \\\"age\\\", \\\"post_position\\\", \\\"claim_price\\\", \\\"speed_rating\\\", \\\"distance\\\"]\\n\\nbin_cols = [\\\"L\\\", \\\"b\\\", \\\"f\\\", \\\"r\\\", \\\"y\\\", \\\"v\\\", \\\"win\\\"]\\n\\ncat_cols = [\\n    \\\"sex\\\",\\n    \\\"weather\\\",\\n    \\\"race_type\\\",\\n    \\\"track_conditions\\\",\\n    \\\"jockey_adj\\\",\\n    \\\"trainer_adj\\\",\\n    \\\"owner_adj\\\",\\n]\\ndrop_cats = [\\n    \\\"G\\\",\\n    \\\"Cloudy\\\",\\n    \\\"Claiming\\\",\\n    \\\"FT\\\",\\n    \\\"other_jockey\\\",\\n    \\\"other_trainer\\\",\\n    \\\"other_owner\\\",\\n]\";\n",
       "                var nbb_formatted_code = \"# Fill out your column datatypes here\\nnum_cols = [\\\"weight\\\", \\\"age\\\", \\\"post_position\\\", \\\"claim_price\\\", \\\"speed_rating\\\", \\\"distance\\\"]\\n\\nbin_cols = [\\\"L\\\", \\\"b\\\", \\\"f\\\", \\\"r\\\", \\\"y\\\", \\\"v\\\", \\\"win\\\"]\\n\\ncat_cols = [\\n    \\\"sex\\\",\\n    \\\"weather\\\",\\n    \\\"race_type\\\",\\n    \\\"track_conditions\\\",\\n    \\\"jockey_adj\\\",\\n    \\\"trainer_adj\\\",\\n    \\\"owner_adj\\\",\\n]\\ndrop_cats = [\\n    \\\"G\\\",\\n    \\\"Cloudy\\\",\\n    \\\"Claiming\\\",\\n    \\\"FT\\\",\\n    \\\"other_jockey\\\",\\n    \\\"other_trainer\\\",\\n    \\\"other_owner\\\",\\n]\";\n",
       "                var nbb_cells = Jupyter.notebook.get_cells();\n",
       "                for (var i = 0; i < nbb_cells.length; ++i) {\n",
       "                    if (nbb_cells[i].input_prompt_number == nbb_cell_id) {\n",
       "                        if (nbb_cells[i].get_text() == nbb_unformatted_code) {\n",
       "                             nbb_cells[i].set_text(nbb_formatted_code);\n",
       "                        }\n",
       "                        break;\n",
       "                    }\n",
       "                }\n",
       "            }, 500);\n",
       "            "
      ],
      "text/plain": [
       "<IPython.core.display.Javascript object>"
      ]
     },
     "metadata": {},
     "output_type": "display_data"
    }
   ],
   "source": [
    "# Fill out your column datatypes here\n",
    "num_cols = [\"weight\", \"age\", \"post_position\", \"claim_price\", \"speed_rating\", \"distance\"]\n",
    "\n",
    "bin_cols = [\"L\", \"b\", \"f\", \"r\", \"y\", \"v\", \"win\"]\n",
    "\n",
    "cat_cols = [\n",
    "    \"sex\",\n",
    "    \"weather\",\n",
    "    \"race_type\",\n",
    "    \"track_conditions\",\n",
    "    \"jockey_adj\",\n",
    "    \"trainer_adj\",\n",
    "    \"owner_adj\",\n",
    "]\n",
    "drop_cats = [\n",
    "    \"G\",\n",
    "    \"Cloudy\",\n",
    "    \"Claiming\",\n",
    "    \"FT\",\n",
    "    \"other_jockey\",\n",
    "    \"other_trainer\",\n",
    "    \"other_owner\",\n",
    "]"
   ]
  },
  {
   "cell_type": "markdown",
   "metadata": {},
   "source": [
    "# Visualize Numerical Data"
   ]
  },
  {
   "cell_type": "code",
   "execution_count": 35,
   "metadata": {},
   "outputs": [
    {
     "data": {
      "image/png": "[encoded data removed]",
      "text/plain": [
       "<Figure size 1260x1260 with 56 Axes>"
      ]
     },
     "metadata": {
      "needs_background": "light"
     },
     "output_type": "display_data"
    },
    {
     "data": {
      "application/javascript": [
       "\n",
       "            setTimeout(function() {\n",
       "                var nbb_cell_id = 35;\n",
       "                var nbb_unformatted_code = \"plot_cols = num_cols.copy()\\nplot_cols.append(\\\"win\\\")\\nsns.pairplot(df[plot_cols])\\nplt.show()\";\n",
       "                var nbb_formatted_code = \"plot_cols = num_cols.copy()\\nplot_cols.append(\\\"win\\\")\\nsns.pairplot(df[plot_cols])\\nplt.show()\";\n",
       "                var nbb_cells = Jupyter.notebook.get_cells();\n",
       "                for (var i = 0; i < nbb_cells.length; ++i) {\n",
       "                    if (nbb_cells[i].input_prompt_number == nbb_cell_id) {\n",
       "                        if (nbb_cells[i].get_text() == nbb_unformatted_code) {\n",
       "                             nbb_cells[i].set_text(nbb_formatted_code);\n",
       "                        }\n",
       "                        break;\n",
       "                    }\n",
       "                }\n",
       "            }, 500);\n",
       "            "
      ],
      "text/plain": [
       "<IPython.core.display.Javascript object>"
      ]
     },
     "metadata": {},
     "output_type": "display_data"
    }
   ],
   "source": [
    "plot_cols = num_cols.copy()\n",
    "plot_cols.append(\"win\")\n",
    "sns.pairplot(df[plot_cols])\n",
    "plt.show()"
   ]
  },
  {
   "cell_type": "code",
   "execution_count": 36,
   "metadata": {},
   "outputs": [
    {
     "data": {
      "image/png": "[encoded data removed]",
      "text/plain": [
       "<Figure size 432x288 with 2 Axes>"
      ]
     },
     "metadata": {
      "needs_background": "light"
     },
     "output_type": "display_data"
    },
    {
     "data": {
      "application/javascript": [
       "\n",
       "            setTimeout(function() {\n",
       "                var nbb_cell_id = 36;\n",
       "                var nbb_unformatted_code = \"sns.heatmap(df[plot_cols].corr(), vmin=-1, annot=True)\\nplt.title(\\\"Correlation Heatmap for Num_Cols\\\")\\nplt.show()\";\n",
       "                var nbb_formatted_code = \"sns.heatmap(df[plot_cols].corr(), vmin=-1, annot=True)\\nplt.title(\\\"Correlation Heatmap for Num_Cols\\\")\\nplt.show()\";\n",
       "                var nbb_cells = Jupyter.notebook.get_cells();\n",
       "                for (var i = 0; i < nbb_cells.length; ++i) {\n",
       "                    if (nbb_cells[i].input_prompt_number == nbb_cell_id) {\n",
       "                        if (nbb_cells[i].get_text() == nbb_unformatted_code) {\n",
       "                             nbb_cells[i].set_text(nbb_formatted_code);\n",
       "                        }\n",
       "                        break;\n",
       "                    }\n",
       "                }\n",
       "            }, 500);\n",
       "            "
      ],
      "text/plain": [
       "<IPython.core.display.Javascript object>"
      ]
     },
     "metadata": {},
     "output_type": "display_data"
    }
   ],
   "source": [
    "sns.heatmap(df[plot_cols].corr(), vmin=-1, annot=True)\n",
    "plt.title(\"Correlation Heatmap for Num_Cols\")\n",
    "plt.show()"
   ]
  },
  {
   "cell_type": "code",
   "execution_count": 37,
   "metadata": {},
   "outputs": [
    {
     "data": {
      "text/plain": [
       "0.36426482318532305"
      ]
     },
     "execution_count": 37,
     "metadata": {},
     "output_type": "execute_result"
    },
    {
     "data": {
      "application/javascript": [
       "\n",
       "            setTimeout(function() {\n",
       "                var nbb_cell_id = 37;\n",
       "                var nbb_unformatted_code = \"df[\\\"win\\\"].mean()\";\n",
       "                var nbb_formatted_code = \"df[\\\"win\\\"].mean()\";\n",
       "                var nbb_cells = Jupyter.notebook.get_cells();\n",
       "                for (var i = 0; i < nbb_cells.length; ++i) {\n",
       "                    if (nbb_cells[i].input_prompt_number == nbb_cell_id) {\n",
       "                        if (nbb_cells[i].get_text() == nbb_unformatted_code) {\n",
       "                             nbb_cells[i].set_text(nbb_formatted_code);\n",
       "                        }\n",
       "                        break;\n",
       "                    }\n",
       "                }\n",
       "            }, 500);\n",
       "            "
      ],
      "text/plain": [
       "<IPython.core.display.Javascript object>"
      ]
     },
     "metadata": {},
     "output_type": "display_data"
    }
   ],
   "source": [
    "df[\"win\"].mean()"
   ]
  },
  {
   "cell_type": "markdown",
   "metadata": {},
   "source": [
    "# Modeling"
   ]
  },
  {
   "cell_type": "code",
   "execution_count": 38,
   "metadata": {},
   "outputs": [
    {
     "data": {
      "application/javascript": [
       "\n",
       "            setTimeout(function() {\n",
       "                var nbb_cell_id = 38;\n",
       "                var nbb_unformatted_code = \"X = df.drop([\\\"win\\\", \\\"jockey\\\", \\\"trainer\\\", \\\"owner\\\"], axis=1)\\ny = df[\\\"win\\\"]\";\n",
       "                var nbb_formatted_code = \"X = df.drop([\\\"win\\\", \\\"jockey\\\", \\\"trainer\\\", \\\"owner\\\"], axis=1)\\ny = df[\\\"win\\\"]\";\n",
       "                var nbb_cells = Jupyter.notebook.get_cells();\n",
       "                for (var i = 0; i < nbb_cells.length; ++i) {\n",
       "                    if (nbb_cells[i].input_prompt_number == nbb_cell_id) {\n",
       "                        if (nbb_cells[i].get_text() == nbb_unformatted_code) {\n",
       "                             nbb_cells[i].set_text(nbb_formatted_code);\n",
       "                        }\n",
       "                        break;\n",
       "                    }\n",
       "                }\n",
       "            }, 500);\n",
       "            "
      ],
      "text/plain": [
       "<IPython.core.display.Javascript object>"
      ]
     },
     "metadata": {},
     "output_type": "display_data"
    }
   ],
   "source": [
    "X = df.drop([\"win\", \"jockey\", \"trainer\", \"owner\"], axis=1)\n",
    "y = df[\"win\"]"
   ]
  },
  {
   "cell_type": "code",
   "execution_count": 39,
   "metadata": {},
   "outputs": [
    {
     "data": {
      "application/javascript": [
       "\n",
       "            setTimeout(function() {\n",
       "                var nbb_cell_id = 39;\n",
       "                var nbb_unformatted_code = \"X_train, X_test, y_train, y_test = train_test_split(\\n    X, y, test_size=0.2, random_state=13\\n)\";\n",
       "                var nbb_formatted_code = \"X_train, X_test, y_train, y_test = train_test_split(\\n    X, y, test_size=0.2, random_state=13\\n)\";\n",
       "                var nbb_cells = Jupyter.notebook.get_cells();\n",
       "                for (var i = 0; i < nbb_cells.length; ++i) {\n",
       "                    if (nbb_cells[i].input_prompt_number == nbb_cell_id) {\n",
       "                        if (nbb_cells[i].get_text() == nbb_unformatted_code) {\n",
       "                             nbb_cells[i].set_text(nbb_formatted_code);\n",
       "                        }\n",
       "                        break;\n",
       "                    }\n",
       "                }\n",
       "            }, 500);\n",
       "            "
      ],
      "text/plain": [
       "<IPython.core.display.Javascript object>"
      ]
     },
     "metadata": {},
     "output_type": "display_data"
    }
   ],
   "source": [
    "X_train, X_test, y_train, y_test = train_test_split(\n",
    "    X, y, test_size=0.2, random_state=13\n",
    ")"
   ]
  },
  {
   "cell_type": "code",
   "execution_count": 40,
   "metadata": {},
   "outputs": [
    {
     "data": {
      "application/javascript": [
       "\n",
       "            setTimeout(function() {\n",
       "                var nbb_cell_id = 40;\n",
       "                var nbb_unformatted_code = \"# fmt: off\\npreprocessing = ColumnTransformer([\\n    # Encode categories\\n    # Potentially use one of the 2 below options\\n    (\\\"OneHotEncoder\\\", OneHotEncoder(drop=drop_cats), cat_cols),\\n    # Scale numeric columns\\n    # (not needed for all models but can't hurt)\\n    (\\\"scaler\\\", StandardScaler(), num_cols)\\n    # bin_cols we'll leave untouch\\n], remainder=\\\"passthrough\\\")\";\n",
       "                var nbb_formatted_code = \"# fmt: off\\npreprocessing = ColumnTransformer([\\n    # Encode categories\\n    # Potentially use one of the 2 below options\\n    (\\\"OneHotEncoder\\\", OneHotEncoder(drop=drop_cats), cat_cols),\\n    # Scale numeric columns\\n    # (not needed for all models but can't hurt)\\n    (\\\"scaler\\\", StandardScaler(), num_cols)\\n    # bin_cols we'll leave untouch\\n], remainder=\\\"passthrough\\\")\";\n",
       "                var nbb_cells = Jupyter.notebook.get_cells();\n",
       "                for (var i = 0; i < nbb_cells.length; ++i) {\n",
       "                    if (nbb_cells[i].input_prompt_number == nbb_cell_id) {\n",
       "                        if (nbb_cells[i].get_text() == nbb_unformatted_code) {\n",
       "                             nbb_cells[i].set_text(nbb_formatted_code);\n",
       "                        }\n",
       "                        break;\n",
       "                    }\n",
       "                }\n",
       "            }, 500);\n",
       "            "
      ],
      "text/plain": [
       "<IPython.core.display.Javascript object>"
      ]
     },
     "metadata": {},
     "output_type": "display_data"
    }
   ],
   "source": [
    "# fmt: off\n",
    "preprocessing = ColumnTransformer([\n",
    "    # Encode categories\n",
    "    # Potentially use one of the 2 below options\n",
    "    (\"OneHotEncoder\", OneHotEncoder(drop=drop_cats), cat_cols),\n",
    "    # Scale numeric columns\n",
    "    # (not needed for all models but can't hurt)\n",
    "    (\"scaler\", StandardScaler(), num_cols)\n",
    "    # bin_cols we'll leave untouch\n",
    "], remainder=\"passthrough\")"
   ]
  },
  {
   "cell_type": "code",
   "execution_count": 41,
   "metadata": {},
   "outputs": [
    {
     "data": {
      "application/javascript": [
       "\n",
       "            setTimeout(function() {\n",
       "                var nbb_cell_id = 41;\n",
       "                var nbb_unformatted_code = \"pipeline = Pipeline(\\n    [\\n        ## Apply ColumnTransformer steps\\n        (\\\"preprocessing\\\", preprocessing),\\n        ## Add other steps as desired\\n        # ('dim_reduction', PCA()),\\n        (\\\"feature_selection\\\", SelectKBest()),\\n        ## Choose your model and put it here\\n        # (\\\"model\\\", LogisticRegression()),\\n        # (\\\"model\\\", RandomForestClassifier()),\\n        (\\\"model\\\", GradientBoostingClassifier()),\\n    ]\\n)\";\n",
       "                var nbb_formatted_code = \"pipeline = Pipeline(\\n    [\\n        ## Apply ColumnTransformer steps\\n        (\\\"preprocessing\\\", preprocessing),\\n        ## Add other steps as desired\\n        # ('dim_reduction', PCA()),\\n        (\\\"feature_selection\\\", SelectKBest()),\\n        ## Choose your model and put it here\\n        # (\\\"model\\\", LogisticRegression()),\\n        # (\\\"model\\\", RandomForestClassifier()),\\n        (\\\"model\\\", GradientBoostingClassifier()),\\n    ]\\n)\";\n",
       "                var nbb_cells = Jupyter.notebook.get_cells();\n",
       "                for (var i = 0; i < nbb_cells.length; ++i) {\n",
       "                    if (nbb_cells[i].input_prompt_number == nbb_cell_id) {\n",
       "                        if (nbb_cells[i].get_text() == nbb_unformatted_code) {\n",
       "                             nbb_cells[i].set_text(nbb_formatted_code);\n",
       "                        }\n",
       "                        break;\n",
       "                    }\n",
       "                }\n",
       "            }, 500);\n",
       "            "
      ],
      "text/plain": [
       "<IPython.core.display.Javascript object>"
      ]
     },
     "metadata": {},
     "output_type": "display_data"
    }
   ],
   "source": [
    "pipeline = Pipeline(\n",
    "    [\n",
    "        ## Apply ColumnTransformer steps\n",
    "        (\"preprocessing\", preprocessing),\n",
    "        ## Add other steps as desired\n",
    "        # ('dim_reduction', PCA()),\n",
    "        (\"feature_selection\", SelectKBest()),\n",
    "        ## Choose your model and put it here\n",
    "        # (\"model\", LogisticRegression()),\n",
    "        # (\"model\", RandomForestClassifier()),\n",
    "        (\"model\", GradientBoostingClassifier()),\n",
    "    ]\n",
    ")"
   ]
  },
  {
   "cell_type": "code",
   "execution_count": 42,
   "metadata": {},
   "outputs": [
    {
     "data": {
      "application/javascript": [
       "\n",
       "            setTimeout(function() {\n",
       "                var nbb_cell_id = 42;\n",
       "                var nbb_unformatted_code = \"grid = {\\n    # Use model__ with hyperprammeter names after\\n    # \\\"model__n_estimators\\\": [100, 150],\\n    ## Select K Best\\n    \\\"feature_selection__k\\\": [2, 3, 4],\\n    ## Logistic Regression Hyperparameters\\n    # \\\"model__C\\\": [0.05, 0.1, 0.5],\\n    ## Random Forest Classifier Hyperparameters\\n    \\\"model__n_estimators\\\": [25, 30, 40],\\n    \\\"model__max_depth\\\": [3, 4, 5],\\n    \\\"model__min_samples_leaf\\\": [8, 9, 10],\\n    ## Gradiant Boosting Classifier Hyperparameters\\n    \\\"model__learning_rate\\\": [0.01, 0.05, 0.1, 0.5]\\n    # Add other hyperparameters to tune as desired\\n    # 'dim_reduction__n_components': [2, 3, 4]\\n}\\n# fmt: on\";\n",
       "                var nbb_formatted_code = \"grid = {\\n    # Use model__ with hyperprammeter names after\\n    # \\\"model__n_estimators\\\": [100, 150],\\n    ## Select K Best\\n    \\\"feature_selection__k\\\": [2, 3, 4],\\n    ## Logistic Regression Hyperparameters\\n    # \\\"model__C\\\": [0.05, 0.1, 0.5],\\n    ## Random Forest Classifier Hyperparameters\\n    \\\"model__n_estimators\\\": [25, 30, 40],\\n    \\\"model__max_depth\\\": [3, 4, 5],\\n    \\\"model__min_samples_leaf\\\": [8, 9, 10],\\n    ## Gradiant Boosting Classifier Hyperparameters\\n    \\\"model__learning_rate\\\": [0.01, 0.05, 0.1, 0.5]\\n    # Add other hyperparameters to tune as desired\\n    # 'dim_reduction__n_components': [2, 3, 4]\\n}\\n# fmt: on\";\n",
       "                var nbb_cells = Jupyter.notebook.get_cells();\n",
       "                for (var i = 0; i < nbb_cells.length; ++i) {\n",
       "                    if (nbb_cells[i].input_prompt_number == nbb_cell_id) {\n",
       "                        if (nbb_cells[i].get_text() == nbb_unformatted_code) {\n",
       "                             nbb_cells[i].set_text(nbb_formatted_code);\n",
       "                        }\n",
       "                        break;\n",
       "                    }\n",
       "                }\n",
       "            }, 500);\n",
       "            "
      ],
      "text/plain": [
       "<IPython.core.display.Javascript object>"
      ]
     },
     "metadata": {},
     "output_type": "display_data"
    }
   ],
   "source": [
    "grid = {\n",
    "    # Use model__ with hyperprammeter names after\n",
    "    # \"model__n_estimators\": [100, 150],\n",
    "    ## Select K Best\n",
    "    \"feature_selection__k\": [2, 3, 4],\n",
    "    ## Logistic Regression Hyperparameters\n",
    "    # \"model__C\": [0.05, 0.1, 0.5],\n",
    "    ## Random Forest Classifier Hyperparameters\n",
    "    \"model__n_estimators\": [25, 30, 40],\n",
    "    \"model__max_depth\": [3, 4, 5],\n",
    "    \"model__min_samples_leaf\": [8, 9, 10],\n",
    "    ## Gradiant Boosting Classifier Hyperparameters\n",
    "    \"model__learning_rate\": [0.01, 0.05, 0.1, 0.5]\n",
    "    # Add other hyperparameters to tune as desired\n",
    "    # 'dim_reduction__n_components': [2, 3, 4]\n",
    "}\n",
    "# fmt: on"
   ]
  },
  {
   "cell_type": "code",
   "execution_count": 43,
   "metadata": {},
   "outputs": [
    {
     "name": "stdout",
     "output_type": "stream",
     "text": [
      "Fitting 4 folds for each of 324 candidates, totalling 1296 fits\n"
     ]
    },
    {
     "name": "stderr",
     "output_type": "stream",
     "text": [
      "[Parallel(n_jobs=-1)]: Using backend LokyBackend with 8 concurrent workers.\n",
      "[Parallel(n_jobs=-1)]: Done  34 tasks      | elapsed:    4.6s\n",
      "[Parallel(n_jobs=-1)]: Done 184 tasks      | elapsed:   11.4s\n",
      "[Parallel(n_jobs=-1)]: Done 434 tasks      | elapsed:   22.1s\n",
      "[Parallel(n_jobs=-1)]: Done 784 tasks      | elapsed:   40.8s\n",
      "[Parallel(n_jobs=-1)]: Done 1234 tasks      | elapsed:  1.1min\n",
      "[Parallel(n_jobs=-1)]: Done 1296 out of 1296 | elapsed:  1.2min finished\n"
     ]
    },
    {
     "name": "stdout",
     "output_type": "stream",
     "text": [
      "Train score: 0.7098\n",
      "Test score: 0.7030\n"
     ]
    },
    {
     "data": {
      "application/javascript": [
       "\n",
       "            setTimeout(function() {\n",
       "                var nbb_cell_id = 43;\n",
       "                var nbb_unformatted_code = \"pipeline_cv = GridSearchCV(pipeline, grid, verbose=1, n_jobs=-1, cv=4)\\npipeline_cv.fit(X_train, y_train)\\n\\nprint(f\\\"Train score: {pipeline_cv.score(X_train, y_train):.4f}\\\")\\nprint(f\\\"Test score: {pipeline_cv.score(X_test, y_test):.4f}\\\")\";\n",
       "                var nbb_formatted_code = \"pipeline_cv = GridSearchCV(pipeline, grid, verbose=1, n_jobs=-1, cv=4)\\npipeline_cv.fit(X_train, y_train)\\n\\nprint(f\\\"Train score: {pipeline_cv.score(X_train, y_train):.4f}\\\")\\nprint(f\\\"Test score: {pipeline_cv.score(X_test, y_test):.4f}\\\")\";\n",
       "                var nbb_cells = Jupyter.notebook.get_cells();\n",
       "                for (var i = 0; i < nbb_cells.length; ++i) {\n",
       "                    if (nbb_cells[i].input_prompt_number == nbb_cell_id) {\n",
       "                        if (nbb_cells[i].get_text() == nbb_unformatted_code) {\n",
       "                             nbb_cells[i].set_text(nbb_formatted_code);\n",
       "                        }\n",
       "                        break;\n",
       "                    }\n",
       "                }\n",
       "            }, 500);\n",
       "            "
      ],
      "text/plain": [
       "<IPython.core.display.Javascript object>"
      ]
     },
     "metadata": {},
     "output_type": "display_data"
    }
   ],
   "source": [
    "pipeline_cv = GridSearchCV(pipeline, grid, verbose=1, n_jobs=-1, cv=4)\n",
    "pipeline_cv.fit(X_train, y_train)\n",
    "\n",
    "print(f\"Train score: {pipeline_cv.score(X_train, y_train):.4f}\")\n",
    "print(f\"Test score: {pipeline_cv.score(X_test, y_test):.4f}\")"
   ]
  },
  {
   "cell_type": "markdown",
   "metadata": {},
   "source": [
    "Best Results for Logistic Regression Classifier:\n",
    "> Train score: 0.7115\n",
    "Test score: 0.7056"
   ]
  },
  {
   "cell_type": "markdown",
   "metadata": {},
   "source": [
    "Best Results for Random Forest Classifier:\n",
    "> Train score: 0.7131\n",
    "Test score: 0.7070"
   ]
  },
  {
   "cell_type": "markdown",
   "metadata": {},
   "source": [
    "Best Results for Gradiant Boosting Classifier:\n",
    "> Train score: 0.7098\n",
    "Test score: 0.7030"
   ]
  },
  {
   "cell_type": "code",
   "execution_count": 44,
   "metadata": {},
   "outputs": [
    {
     "data": {
      "text/plain": [
       "{'feature_selection__k': 3,\n",
       " 'model__learning_rate': 0.05,\n",
       " 'model__max_depth': 3,\n",
       " 'model__min_samples_leaf': 8,\n",
       " 'model__n_estimators': 40}"
      ]
     },
     "execution_count": 44,
     "metadata": {},
     "output_type": "execute_result"
    },
    {
     "data": {
      "application/javascript": [
       "\n",
       "            setTimeout(function() {\n",
       "                var nbb_cell_id = 44;\n",
       "                var nbb_unformatted_code = \"pipeline_cv.best_params_\";\n",
       "                var nbb_formatted_code = \"pipeline_cv.best_params_\";\n",
       "                var nbb_cells = Jupyter.notebook.get_cells();\n",
       "                for (var i = 0; i < nbb_cells.length; ++i) {\n",
       "                    if (nbb_cells[i].input_prompt_number == nbb_cell_id) {\n",
       "                        if (nbb_cells[i].get_text() == nbb_unformatted_code) {\n",
       "                             nbb_cells[i].set_text(nbb_formatted_code);\n",
       "                        }\n",
       "                        break;\n",
       "                    }\n",
       "                }\n",
       "            }, 500);\n",
       "            "
      ],
      "text/plain": [
       "<IPython.core.display.Javascript object>"
      ]
     },
     "metadata": {},
     "output_type": "display_data"
    }
   ],
   "source": [
    "pipeline_cv.best_params_"
   ]
  },
  {
   "cell_type": "markdown",
   "metadata": {},
   "source": [
    "Best Hyperparameters for Logistic Regression Classifier:\n",
    "> {'feature_selection__k': 7, 'model__C': 0.1}"
   ]
  },
  {
   "cell_type": "markdown",
   "metadata": {},
   "source": [
    "Best Hyperparameters for Random Forest Classifier:\n",
    "> {'feature_selection__k': 4,\n",
    " 'model__max_depth': 5,\n",
    " 'model__min_samples_leaf': 10,\n",
    " 'model__n_estimators': 15}"
   ]
  },
  {
   "cell_type": "markdown",
   "metadata": {},
   "source": [
    "Best Hyperparameters for Gradiant Boosting Classifier:\n",
    "> {'feature_selection__k': 3,\n",
    " 'model__learning_rate': 0.05,\n",
    " 'model__max_depth': 4,\n",
    " 'model__min_samples_leaf': 9,\n",
    " 'model__n_estimators': 30}"
   ]
  },
  {
   "cell_type": "markdown",
   "metadata": {},
   "source": [
    "# Evaluate perfomance"
   ]
  },
  {
   "cell_type": "code",
   "execution_count": 45,
   "metadata": {},
   "outputs": [
    {
     "data": {
      "application/javascript": [
       "\n",
       "            setTimeout(function() {\n",
       "                var nbb_cell_id = 45;\n",
       "                var nbb_unformatted_code = \"def plot_confusion_matrix(\\n    cm, classes, normalize, title=\\\"Confusion matrix\\\", cmap=plt.cm.Blues\\n):\\n    \\\"\\\"\\\"\\n    This function prints and plots the confusion matrix.\\n    Normalization can be applied by setting `normalize=True`.\\n    \\\"\\\"\\\"\\n    if normalize:\\n        cm = cm.astype(\\\"float\\\") / cm.sum(axis=1)[:, np.newaxis]\\n        print(\\\"Normalized confusion matrix\\\")\\n    else:\\n        print(\\\"Confusion matrix, without normalization\\\")\\n\\n    plt.imshow(cm, interpolation=\\\"nearest\\\", cmap=cmap)\\n    plt.title(title)\\n    plt.colorbar()\\n    tick_marks = np.arange(len(classes))\\n    plt.xticks(tick_marks, classes)\\n    plt.yticks(tick_marks, classes)\\n    fmt = \\\".2f\\\" if normalize else \\\"d\\\"\\n    thresh = cm.max() / 2.0\\n    for i, j in itertools.product(range(cm.shape[0]), range(cm.shape[1])):\\n        plt.text(\\n            j,\\n            i,\\n            format(cm[i, j], fmt),\\n            horizontalalignment=\\\"center\\\",\\n            verticalalignment=\\\"center\\\",\\n            color=\\\"white\\\" if cm[i, j] > thresh else \\\"black\\\",\\n        )\\n    plt.ylabel(\\\"True label\\\")\\n    plt.xlabel(\\\"Predicted label\\\")\";\n",
       "                var nbb_formatted_code = \"def plot_confusion_matrix(\\n    cm, classes, normalize, title=\\\"Confusion matrix\\\", cmap=plt.cm.Blues\\n):\\n    \\\"\\\"\\\"\\n    This function prints and plots the confusion matrix.\\n    Normalization can be applied by setting `normalize=True`.\\n    \\\"\\\"\\\"\\n    if normalize:\\n        cm = cm.astype(\\\"float\\\") / cm.sum(axis=1)[:, np.newaxis]\\n        print(\\\"Normalized confusion matrix\\\")\\n    else:\\n        print(\\\"Confusion matrix, without normalization\\\")\\n\\n    plt.imshow(cm, interpolation=\\\"nearest\\\", cmap=cmap)\\n    plt.title(title)\\n    plt.colorbar()\\n    tick_marks = np.arange(len(classes))\\n    plt.xticks(tick_marks, classes)\\n    plt.yticks(tick_marks, classes)\\n    fmt = \\\".2f\\\" if normalize else \\\"d\\\"\\n    thresh = cm.max() / 2.0\\n    for i, j in itertools.product(range(cm.shape[0]), range(cm.shape[1])):\\n        plt.text(\\n            j,\\n            i,\\n            format(cm[i, j], fmt),\\n            horizontalalignment=\\\"center\\\",\\n            verticalalignment=\\\"center\\\",\\n            color=\\\"white\\\" if cm[i, j] > thresh else \\\"black\\\",\\n        )\\n    plt.ylabel(\\\"True label\\\")\\n    plt.xlabel(\\\"Predicted label\\\")\";\n",
       "                var nbb_cells = Jupyter.notebook.get_cells();\n",
       "                for (var i = 0; i < nbb_cells.length; ++i) {\n",
       "                    if (nbb_cells[i].input_prompt_number == nbb_cell_id) {\n",
       "                        if (nbb_cells[i].get_text() == nbb_unformatted_code) {\n",
       "                             nbb_cells[i].set_text(nbb_formatted_code);\n",
       "                        }\n",
       "                        break;\n",
       "                    }\n",
       "                }\n",
       "            }, 500);\n",
       "            "
      ],
      "text/plain": [
       "<IPython.core.display.Javascript object>"
      ]
     },
     "metadata": {},
     "output_type": "display_data"
    }
   ],
   "source": [
    "def plot_confusion_matrix(\n",
    "    cm, classes, normalize, title=\"Confusion matrix\", cmap=plt.cm.Blues\n",
    "):\n",
    "    \"\"\"\n",
    "    This function prints and plots the confusion matrix.\n",
    "    Normalization can be applied by setting `normalize=True`.\n",
    "    \"\"\"\n",
    "    if normalize:\n",
    "        cm = cm.astype(\"float\") / cm.sum(axis=1)[:, np.newaxis]\n",
    "        print(\"Normalized confusion matrix\")\n",
    "    else:\n",
    "        print(\"Confusion matrix, without normalization\")\n",
    "\n",
    "    plt.imshow(cm, interpolation=\"nearest\", cmap=cmap)\n",
    "    plt.title(title)\n",
    "    plt.colorbar()\n",
    "    tick_marks = np.arange(len(classes))\n",
    "    plt.xticks(tick_marks, classes)\n",
    "    plt.yticks(tick_marks, classes)\n",
    "    fmt = \".2f\" if normalize else \"d\"\n",
    "    thresh = cm.max() / 2.0\n",
    "    for i, j in itertools.product(range(cm.shape[0]), range(cm.shape[1])):\n",
    "        plt.text(\n",
    "            j,\n",
    "            i,\n",
    "            format(cm[i, j], fmt),\n",
    "            horizontalalignment=\"center\",\n",
    "            verticalalignment=\"center\",\n",
    "            color=\"white\" if cm[i, j] > thresh else \"black\",\n",
    "        )\n",
    "    plt.ylabel(\"True label\")\n",
    "    plt.xlabel(\"Predicted label\")"
   ]
  },
  {
   "cell_type": "code",
   "execution_count": 46,
   "metadata": {},
   "outputs": [
    {
     "data": {
      "text/plain": [
       "0    966\n",
       "1    539\n",
       "Name: win, dtype: int64"
      ]
     },
     "execution_count": 46,
     "metadata": {},
     "output_type": "execute_result"
    },
    {
     "data": {
      "application/javascript": [
       "\n",
       "            setTimeout(function() {\n",
       "                var nbb_cell_id = 46;\n",
       "                var nbb_unformatted_code = \"y_test.value_counts()\";\n",
       "                var nbb_formatted_code = \"y_test.value_counts()\";\n",
       "                var nbb_cells = Jupyter.notebook.get_cells();\n",
       "                for (var i = 0; i < nbb_cells.length; ++i) {\n",
       "                    if (nbb_cells[i].input_prompt_number == nbb_cell_id) {\n",
       "                        if (nbb_cells[i].get_text() == nbb_unformatted_code) {\n",
       "                             nbb_cells[i].set_text(nbb_formatted_code);\n",
       "                        }\n",
       "                        break;\n",
       "                    }\n",
       "                }\n",
       "            }, 500);\n",
       "            "
      ],
      "text/plain": [
       "<IPython.core.display.Javascript object>"
      ]
     },
     "metadata": {},
     "output_type": "display_data"
    }
   ],
   "source": [
    "y_test.value_counts()"
   ]
  },
  {
   "cell_type": "code",
   "execution_count": 47,
   "metadata": {},
   "outputs": [
    {
     "data": {
      "text/plain": [
       "376"
      ]
     },
     "execution_count": 47,
     "metadata": {},
     "output_type": "execute_result"
    },
    {
     "data": {
      "application/javascript": [
       "\n",
       "            setTimeout(function() {\n",
       "                var nbb_cell_id = 47;\n",
       "                var nbb_unformatted_code = \"# Make predictions\\ny_pred = pipeline_cv.predict(X_test)\\ny_pred.sum()\";\n",
       "                var nbb_formatted_code = \"# Make predictions\\ny_pred = pipeline_cv.predict(X_test)\\ny_pred.sum()\";\n",
       "                var nbb_cells = Jupyter.notebook.get_cells();\n",
       "                for (var i = 0; i < nbb_cells.length; ++i) {\n",
       "                    if (nbb_cells[i].input_prompt_number == nbb_cell_id) {\n",
       "                        if (nbb_cells[i].get_text() == nbb_unformatted_code) {\n",
       "                             nbb_cells[i].set_text(nbb_formatted_code);\n",
       "                        }\n",
       "                        break;\n",
       "                    }\n",
       "                }\n",
       "            }, 500);\n",
       "            "
      ],
      "text/plain": [
       "<IPython.core.display.Javascript object>"
      ]
     },
     "metadata": {},
     "output_type": "display_data"
    }
   ],
   "source": [
    "# Make predictions\n",
    "y_pred = pipeline_cv.predict(X_test)\n",
    "y_pred.sum()"
   ]
  },
  {
   "cell_type": "code",
   "execution_count": 48,
   "metadata": {},
   "outputs": [
    {
     "name": "stdout",
     "output_type": "stream",
     "text": [
      "Confusion matrix, without normalization\n"
     ]
    },
    {
     "data": {
      "image/png": "[encoded data removed]",
      "text/plain": [
       "<Figure size 432x288 with 2 Axes>"
      ]
     },
     "metadata": {
      "needs_background": "light"
     },
     "output_type": "display_data"
    },
    {
     "data": {
      "application/javascript": [
       "\n",
       "            setTimeout(function() {\n",
       "                var nbb_cell_id = 48;\n",
       "                var nbb_unformatted_code = \"cm = confusion_matrix(y_test, y_pred)\\nplot_confusion_matrix(cm, [\\\"Loss\\\", \\\"Win\\\"], False)\";\n",
       "                var nbb_formatted_code = \"cm = confusion_matrix(y_test, y_pred)\\nplot_confusion_matrix(cm, [\\\"Loss\\\", \\\"Win\\\"], False)\";\n",
       "                var nbb_cells = Jupyter.notebook.get_cells();\n",
       "                for (var i = 0; i < nbb_cells.length; ++i) {\n",
       "                    if (nbb_cells[i].input_prompt_number == nbb_cell_id) {\n",
       "                        if (nbb_cells[i].get_text() == nbb_unformatted_code) {\n",
       "                             nbb_cells[i].set_text(nbb_formatted_code);\n",
       "                        }\n",
       "                        break;\n",
       "                    }\n",
       "                }\n",
       "            }, 500);\n",
       "            "
      ],
      "text/plain": [
       "<IPython.core.display.Javascript object>"
      ]
     },
     "metadata": {},
     "output_type": "display_data"
    }
   ],
   "source": [
    "cm = confusion_matrix(y_test, y_pred)\n",
    "plot_confusion_matrix(cm, [\"Loss\", \"Win\"], False)"
   ]
  },
  {
   "cell_type": "code",
   "execution_count": 49,
   "metadata": {},
   "outputs": [
    {
     "name": "stdout",
     "output_type": "stream",
     "text": [
      "Normalized confusion matrix\n"
     ]
    },
    {
     "data": {
      "image/png": "[encoded data removed]",
      "text/plain": [
       "<Figure size 432x288 with 2 Axes>"
      ]
     },
     "metadata": {
      "needs_background": "light"
     },
     "output_type": "display_data"
    },
    {
     "data": {
      "application/javascript": [
       "\n",
       "            setTimeout(function() {\n",
       "                var nbb_cell_id = 49;\n",
       "                var nbb_unformatted_code = \"cm = confusion_matrix(y_test, y_pred)\\nplot_confusion_matrix(cm, [\\\"Loss\\\", \\\"Win\\\"], True)\";\n",
       "                var nbb_formatted_code = \"cm = confusion_matrix(y_test, y_pred)\\nplot_confusion_matrix(cm, [\\\"Loss\\\", \\\"Win\\\"], True)\";\n",
       "                var nbb_cells = Jupyter.notebook.get_cells();\n",
       "                for (var i = 0; i < nbb_cells.length; ++i) {\n",
       "                    if (nbb_cells[i].input_prompt_number == nbb_cell_id) {\n",
       "                        if (nbb_cells[i].get_text() == nbb_unformatted_code) {\n",
       "                             nbb_cells[i].set_text(nbb_formatted_code);\n",
       "                        }\n",
       "                        break;\n",
       "                    }\n",
       "                }\n",
       "            }, 500);\n",
       "            "
      ],
      "text/plain": [
       "<IPython.core.display.Javascript object>"
      ]
     },
     "metadata": {},
     "output_type": "display_data"
    }
   ],
   "source": [
    "cm = confusion_matrix(y_test, y_pred)\n",
    "plot_confusion_matrix(cm, [\"Loss\", \"Win\"], True)"
   ]
  },
  {
   "cell_type": "code",
   "execution_count": 50,
   "metadata": {},
   "outputs": [
    {
     "name": "stdout",
     "output_type": "stream",
     "text": [
      "              precision    recall  f1-score   support\n",
      "\n",
      "        Loss       0.73      0.85      0.79       966\n",
      "         Win       0.62      0.43      0.51       539\n",
      "\n",
      "    accuracy                           0.70      1505\n",
      "   macro avg       0.68      0.64      0.65      1505\n",
      "weighted avg       0.69      0.70      0.69      1505\n",
      "\n"
     ]
    },
    {
     "data": {
      "application/javascript": [
       "\n",
       "            setTimeout(function() {\n",
       "                var nbb_cell_id = 50;\n",
       "                var nbb_unformatted_code = \"report = classification_report(y_test, y_pred, target_names=[\\\"Loss\\\", \\\"Win\\\"])\\nprint(report)\";\n",
       "                var nbb_formatted_code = \"report = classification_report(y_test, y_pred, target_names=[\\\"Loss\\\", \\\"Win\\\"])\\nprint(report)\";\n",
       "                var nbb_cells = Jupyter.notebook.get_cells();\n",
       "                for (var i = 0; i < nbb_cells.length; ++i) {\n",
       "                    if (nbb_cells[i].input_prompt_number == nbb_cell_id) {\n",
       "                        if (nbb_cells[i].get_text() == nbb_unformatted_code) {\n",
       "                             nbb_cells[i].set_text(nbb_formatted_code);\n",
       "                        }\n",
       "                        break;\n",
       "                    }\n",
       "                }\n",
       "            }, 500);\n",
       "            "
      ],
      "text/plain": [
       "<IPython.core.display.Javascript object>"
      ]
     },
     "metadata": {},
     "output_type": "display_data"
    }
   ],
   "source": [
    "report = classification_report(y_test, y_pred, target_names=[\"Loss\", \"Win\"])\n",
    "print(report)"
   ]
  },
  {
   "cell_type": "markdown",
   "metadata": {},
   "source": [
    "# Summary and Recommendations"
   ]
  },
  {
   "cell_type": "markdown",
   "metadata": {},
   "source": [
    "The three classification models tested each produce very similar score results. Guessing the most likely result for a horse, loss, you would be correct 64% of the time. However, the supervised learning models were able to produce a score of about 71%, which is better than a random guess. The best model tested was the Random Forest Classifier. "
   ]
  },
  {
   "cell_type": "markdown",
   "metadata": {},
   "source": [
    "For furthur exploration, I would recommend adding more data feaures, and include more in-depth EDA and Feature Engineering. I would test the models on never before seen data. I would also recommend building a automation test program to place imaginary bets on current horse races to see how it would preform live, over time. This would be a longer term end goal of this analysis. "
   ]
  },
  {
   "cell_type": "code",
   "execution_count": 51,
   "metadata": {},
   "outputs": [
    {
     "data": {
      "application/javascript": [
       "\n",
       "            setTimeout(function() {\n",
       "                var nbb_cell_id = 51;\n",
       "                var nbb_unformatted_code = \"## Ideas\\n# Box plots / t-test for claim_price (actually, for all num_cols)\\n# Catagorical vars get sns countplot with wins\\n# Visualize analysis results (performance) of 2-3 different models (box plots)\\n# What's the best model to use with many columns logistic regression (or use feature selection from model to reduce colums, ie top 20 features)\";\n",
       "                var nbb_formatted_code = \"## Ideas\\n# Box plots / t-test for claim_price (actually, for all num_cols)\\n# Catagorical vars get sns countplot with wins\\n# Visualize analysis results (performance) of 2-3 different models (box plots)\\n# What's the best model to use with many columns logistic regression (or use feature selection from model to reduce colums, ie top 20 features)\";\n",
       "                var nbb_cells = Jupyter.notebook.get_cells();\n",
       "                for (var i = 0; i < nbb_cells.length; ++i) {\n",
       "                    if (nbb_cells[i].input_prompt_number == nbb_cell_id) {\n",
       "                        if (nbb_cells[i].get_text() == nbb_unformatted_code) {\n",
       "                             nbb_cells[i].set_text(nbb_formatted_code);\n",
       "                        }\n",
       "                        break;\n",
       "                    }\n",
       "                }\n",
       "            }, 500);\n",
       "            "
      ],
      "text/plain": [
       "<IPython.core.display.Javascript object>"
      ]
     },
     "metadata": {},
     "output_type": "display_data"
    }
   ],
   "source": [
    "## Ideas\n",
    "# Box plots / t-test for claim_price (actually, for all num_cols)\n",
    "# Catagorical vars get sns countplot with wins\n",
    "# Visualize analysis results (performance) of 2-3 different models (box plots)\n",
    "# What's the best model to use with many columns logistic regression (or use feature selection from model to reduce colums, ie top 20 features)"
   ]
  },
  {
   "cell_type": "code",
   "execution_count": null,
   "metadata": {},
   "outputs": [],
   "source": []
  }
 ],
 "metadata": {
  "kernelspec": {
   "display_name": "Python 3",
   "language": "python",
   "name": "python3"
  },
  "language_info": {
   "codemirror_mode": {
    "name": "ipython",
    "version": 3
   },
   "file_extension": ".py",
   "mimetype": "text/x-python",
   "name": "python",
   "nbconvert_exporter": "python",
   "pygments_lexer": "ipython3",
   "version": "3.8.3"
  }
 },
 "nbformat": 4,
 "nbformat_minor": 4
}
