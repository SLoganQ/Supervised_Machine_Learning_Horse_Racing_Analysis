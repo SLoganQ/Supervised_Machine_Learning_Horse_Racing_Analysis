{
 "cells": [
  {
   "cell_type": "code",
   "execution_count": 1,
   "metadata": {},
   "outputs": [
    {
     "data": {
      "application/javascript": [
       "\n",
       "            setTimeout(function() {\n",
       "                var nbb_cell_id = 1;\n",
       "                var nbb_unformatted_code = \"%reload_ext nb_black\";\n",
       "                var nbb_formatted_code = \"%reload_ext nb_black\";\n",
       "                var nbb_cells = Jupyter.notebook.get_cells();\n",
       "                for (var i = 0; i < nbb_cells.length; ++i) {\n",
       "                    if (nbb_cells[i].input_prompt_number == nbb_cell_id) {\n",
       "                        if (nbb_cells[i].get_text() == nbb_unformatted_code) {\n",
       "                             nbb_cells[i].set_text(nbb_formatted_code);\n",
       "                        }\n",
       "                        break;\n",
       "                    }\n",
       "                }\n",
       "            }, 500);\n",
       "            "
      ],
      "text/plain": [
       "<IPython.core.display.Javascript object>"
      ]
     },
     "metadata": {},
     "output_type": "display_data"
    }
   ],
   "source": [
    "%reload_ext nb_black"
   ]
  },
  {
   "cell_type": "markdown",
   "metadata": {},
   "source": [
    "\"\"\"Example sklearn pipeline workflow\n",
    "\n",
    "1. Create a ColumnTranformer to preprocess data\n",
    "2. Create a Pipeline to fit model\n",
    "3. Fit pipeline using GridSearchCV\n",
    "4. Save best model to file\n",
    "5. Read saved model to predict on new data\n",
    "\"\"\"\n"
   ]
  },
  {
   "cell_type": "code",
   "execution_count": 2,
   "metadata": {
    "scrolled": false
   },
   "outputs": [
    {
     "data": {
      "application/javascript": [
       "\n",
       "            setTimeout(function() {\n",
       "                var nbb_cell_id = 2;\n",
       "                var nbb_unformatted_code = \"import pickle\\n\\nimport pandas as pd\\nimport seaborn as sns\\nimport matplotlib.pyplot as plt\\n\\nfrom sklearn.pipeline import Pipeline\\nfrom sklearn.compose import ColumnTransformer\\nfrom sklearn.model_selection import train_test_split, GridSearchCV\\n\\nfrom sklearn.preprocessing import StandardScaler, OneHotEncoder\\nfrom category_encoders import LeaveOneOutEncoder\\n\\n# Replace with whatever model import(s) you're using\\nfrom sklearn.ensemble import RandomForestClassifier\\n\\nimport warnings\\n\\nwarnings.filterwarnings(\\\"ignore\\\")\";\n",
       "                var nbb_formatted_code = \"import pickle\\n\\nimport pandas as pd\\nimport seaborn as sns\\nimport matplotlib.pyplot as plt\\n\\nfrom sklearn.pipeline import Pipeline\\nfrom sklearn.compose import ColumnTransformer\\nfrom sklearn.model_selection import train_test_split, GridSearchCV\\n\\nfrom sklearn.preprocessing import StandardScaler, OneHotEncoder\\nfrom category_encoders import LeaveOneOutEncoder\\n\\n# Replace with whatever model import(s) you're using\\nfrom sklearn.ensemble import RandomForestClassifier\\n\\nimport warnings\\n\\nwarnings.filterwarnings(\\\"ignore\\\")\";\n",
       "                var nbb_cells = Jupyter.notebook.get_cells();\n",
       "                for (var i = 0; i < nbb_cells.length; ++i) {\n",
       "                    if (nbb_cells[i].input_prompt_number == nbb_cell_id) {\n",
       "                        if (nbb_cells[i].get_text() == nbb_unformatted_code) {\n",
       "                             nbb_cells[i].set_text(nbb_formatted_code);\n",
       "                        }\n",
       "                        break;\n",
       "                    }\n",
       "                }\n",
       "            }, 500);\n",
       "            "
      ],
      "text/plain": [
       "<IPython.core.display.Javascript object>"
      ]
     },
     "metadata": {},
     "output_type": "display_data"
    }
   ],
   "source": [
    "import pickle\n",
    "\n",
    "import pandas as pd\n",
    "import seaborn as sns\n",
    "import matplotlib.pyplot as plt\n",
    "\n",
    "from sklearn.pipeline import Pipeline\n",
    "from sklearn.compose import ColumnTransformer\n",
    "from sklearn.model_selection import train_test_split, GridSearchCV\n",
    "\n",
    "from sklearn.preprocessing import StandardScaler, OneHotEncoder\n",
    "from category_encoders import LeaveOneOutEncoder\n",
    "\n",
    "# Replace with whatever model import(s) you're using\n",
    "from sklearn.ensemble import RandomForestClassifier\n",
    "\n",
    "import warnings\n",
    "\n",
    "warnings.filterwarnings(\"ignore\")"
   ]
  },
  {
   "cell_type": "code",
   "execution_count": 3,
   "metadata": {},
   "outputs": [
    {
     "data": {
      "application/javascript": [
       "\n",
       "            setTimeout(function() {\n",
       "                var nbb_cell_id = 3;\n",
       "                var nbb_unformatted_code = \"%matplotlib inline\";\n",
       "                var nbb_formatted_code = \"%matplotlib inline\";\n",
       "                var nbb_cells = Jupyter.notebook.get_cells();\n",
       "                for (var i = 0; i < nbb_cells.length; ++i) {\n",
       "                    if (nbb_cells[i].input_prompt_number == nbb_cell_id) {\n",
       "                        if (nbb_cells[i].get_text() == nbb_unformatted_code) {\n",
       "                             nbb_cells[i].set_text(nbb_formatted_code);\n",
       "                        }\n",
       "                        break;\n",
       "                    }\n",
       "                }\n",
       "            }, 500);\n",
       "            "
      ],
      "text/plain": [
       "<IPython.core.display.Javascript object>"
      ]
     },
     "metadata": {},
     "output_type": "display_data"
    }
   ],
   "source": [
    "%matplotlib inline"
   ]
  },
  {
   "cell_type": "code",
   "execution_count": 4,
   "metadata": {},
   "outputs": [
    {
     "data": {
      "text/html": [
       "<div>\n",
       "<style scoped>\n",
       "    .dataframe tbody tr th:only-of-type {\n",
       "        vertical-align: middle;\n",
       "    }\n",
       "\n",
       "    .dataframe tbody tr th {\n",
       "        vertical-align: top;\n",
       "    }\n",
       "\n",
       "    .dataframe thead th {\n",
       "        text-align: right;\n",
       "    }\n",
       "</style>\n",
       "<table border=\"1\" class=\"dataframe\">\n",
       "  <thead>\n",
       "    <tr style=\"text-align: right;\">\n",
       "      <th></th>\n",
       "      <th>track</th>\n",
       "      <th>card_id</th>\n",
       "      <th>race_date</th>\n",
       "      <th>breed</th>\n",
       "      <th>name</th>\n",
       "      <th>weight</th>\n",
       "      <th>age</th>\n",
       "      <th>sex</th>\n",
       "      <th>meds_and_equip</th>\n",
       "      <th>jockey</th>\n",
       "      <th>dollar_odds</th>\n",
       "      <th>program_number</th>\n",
       "      <th>post_position</th>\n",
       "      <th>claim_price</th>\n",
       "      <th>start_position</th>\n",
       "      <th>finish_position</th>\n",
       "      <th>finish_time</th>\n",
       "      <th>speed_rating</th>\n",
       "      <th>trainer</th>\n",
       "      <th>owner</th>\n",
       "      <th>win_payoff</th>\n",
       "      <th>place_payoff</th>\n",
       "      <th>show_payoff</th>\n",
       "      <th>weather</th>\n",
       "      <th>distance</th>\n",
       "      <th>race_type</th>\n",
       "      <th>track_conditions</th>\n",
       "    </tr>\n",
       "  </thead>\n",
       "  <tbody>\n",
       "    <tr>\n",
       "      <th>0</th>\n",
       "      <td>WO</td>\n",
       "      <td>D</td>\n",
       "      <td>2014-10-24 00:00:00</td>\n",
       "      <td>TB</td>\n",
       "      <td>Shogun Rua</td>\n",
       "      <td>119</td>\n",
       "      <td>6</td>\n",
       "      <td>G</td>\n",
       "      <td>L</td>\n",
       "      <td>J I Alderson</td>\n",
       "      <td>1.50</td>\n",
       "      <td>3.0</td>\n",
       "      <td>3</td>\n",
       "      <td>6000</td>\n",
       "      <td>4.0</td>\n",
       "      <td>1.0</td>\n",
       "      <td>0.0</td>\n",
       "      <td>71.0</td>\n",
       "      <td>McKnight Norman</td>\n",
       "      <td>Bruno Schickedanz</td>\n",
       "      <td>5.0</td>\n",
       "      <td>3.3</td>\n",
       "      <td>3.1</td>\n",
       "      <td>Cloudy</td>\n",
       "      <td>600.0</td>\n",
       "      <td>Claiming</td>\n",
       "      <td>FT</td>\n",
       "    </tr>\n",
       "    <tr>\n",
       "      <th>1</th>\n",
       "      <td>WO</td>\n",
       "      <td>D</td>\n",
       "      <td>2014-11-22 00:00:00</td>\n",
       "      <td>TB</td>\n",
       "      <td>Josai's Angel</td>\n",
       "      <td>121</td>\n",
       "      <td>4</td>\n",
       "      <td>M</td>\n",
       "      <td>L</td>\n",
       "      <td>T Wong</td>\n",
       "      <td>58.15</td>\n",
       "      <td>4.0</td>\n",
       "      <td>4</td>\n",
       "      <td>9500</td>\n",
       "      <td>9.0</td>\n",
       "      <td>10.0</td>\n",
       "      <td>0.0</td>\n",
       "      <td>25.0</td>\n",
       "      <td>Pottins Judith R</td>\n",
       "      <td>Shortstop Stable and Zahreddine, Ramez</td>\n",
       "      <td>0.0</td>\n",
       "      <td>0.0</td>\n",
       "      <td>0.0</td>\n",
       "      <td>Cloudy</td>\n",
       "      <td>500.0</td>\n",
       "      <td>Maiden Claiming</td>\n",
       "      <td>FT</td>\n",
       "    </tr>\n",
       "    <tr>\n",
       "      <th>2</th>\n",
       "      <td>WO</td>\n",
       "      <td>D</td>\n",
       "      <td>2014-11-23 00:00:00</td>\n",
       "      <td>TB</td>\n",
       "      <td>My Girl Madison</td>\n",
       "      <td>121</td>\n",
       "      <td>5</td>\n",
       "      <td>M</td>\n",
       "      <td>Lf</td>\n",
       "      <td>S Ryan</td>\n",
       "      <td>17.05</td>\n",
       "      <td>1.0</td>\n",
       "      <td>1</td>\n",
       "      <td>0</td>\n",
       "      <td>2.0</td>\n",
       "      <td>7.0</td>\n",
       "      <td>0.0</td>\n",
       "      <td>51.0</td>\n",
       "      <td>Fournier Mark</td>\n",
       "      <td>Bruno Schickedanz</td>\n",
       "      <td>0.0</td>\n",
       "      <td>0.0</td>\n",
       "      <td>0.0</td>\n",
       "      <td>Cloudy</td>\n",
       "      <td>600.0</td>\n",
       "      <td>Allowance</td>\n",
       "      <td>FT</td>\n",
       "    </tr>\n",
       "  </tbody>\n",
       "</table>\n",
       "</div>"
      ],
      "text/plain": [
       "  track card_id            race_date breed             name  weight  age sex  \\\n",
       "0   WO        D  2014-10-24 00:00:00    TB       Shogun Rua     119    6   G   \n",
       "1   WO        D  2014-11-22 00:00:00    TB    Josai's Angel     121    4   M   \n",
       "2   WO        D  2014-11-23 00:00:00    TB  My Girl Madison     121    5   M   \n",
       "\n",
       "  meds_and_equip        jockey  dollar_odds  program_number  post_position  \\\n",
       "0              L  J I Alderson         1.50             3.0              3   \n",
       "1              L        T Wong        58.15             4.0              4   \n",
       "2             Lf        S Ryan        17.05             1.0              1   \n",
       "\n",
       "   claim_price  start_position  finish_position  finish_time  speed_rating  \\\n",
       "0         6000             4.0              1.0          0.0          71.0   \n",
       "1         9500             9.0             10.0          0.0          25.0   \n",
       "2            0             2.0              7.0          0.0          51.0   \n",
       "\n",
       "            trainer                                   owner  win_payoff  \\\n",
       "0   McKnight Norman                       Bruno Schickedanz         5.0   \n",
       "1  Pottins Judith R  Shortstop Stable and Zahreddine, Ramez         0.0   \n",
       "2     Fournier Mark                       Bruno Schickedanz         0.0   \n",
       "\n",
       "   place_payoff  show_payoff weather  distance        race_type  \\\n",
       "0           3.3          3.1  Cloudy     600.0         Claiming   \n",
       "1           0.0          0.0  Cloudy     500.0  Maiden Claiming   \n",
       "2           0.0          0.0  Cloudy     600.0        Allowance   \n",
       "\n",
       "  track_conditions  \n",
       "0               FT  \n",
       "1               FT  \n",
       "2               FT  "
      ]
     },
     "execution_count": 4,
     "metadata": {},
     "output_type": "execute_result"
    },
    {
     "data": {
      "application/javascript": [
       "\n",
       "            setTimeout(function() {\n",
       "                var nbb_cell_id = 4;\n",
       "                var nbb_unformatted_code = \"# Import the data and check the head\\nfull_df = pd.read_csv(\\n    \\\"Data/woodbine_horses.csv\\\", skipinitialspace=True, low_memory=False\\n)\\npd.set_option(\\\"display.max_columns\\\", 100)\\npd.set_option(\\\"display.max_rows\\\", 500)\\nfull_df.head(3)\";\n",
       "                var nbb_formatted_code = \"# Import the data and check the head\\nfull_df = pd.read_csv(\\n    \\\"Data/woodbine_horses.csv\\\", skipinitialspace=True, low_memory=False\\n)\\npd.set_option(\\\"display.max_columns\\\", 100)\\npd.set_option(\\\"display.max_rows\\\", 500)\\nfull_df.head(3)\";\n",
       "                var nbb_cells = Jupyter.notebook.get_cells();\n",
       "                for (var i = 0; i < nbb_cells.length; ++i) {\n",
       "                    if (nbb_cells[i].input_prompt_number == nbb_cell_id) {\n",
       "                        if (nbb_cells[i].get_text() == nbb_unformatted_code) {\n",
       "                             nbb_cells[i].set_text(nbb_formatted_code);\n",
       "                        }\n",
       "                        break;\n",
       "                    }\n",
       "                }\n",
       "            }, 500);\n",
       "            "
      ],
      "text/plain": [
       "<IPython.core.display.Javascript object>"
      ]
     },
     "metadata": {},
     "output_type": "display_data"
    }
   ],
   "source": [
    "# Import the data and check the head\n",
    "full_df = pd.read_csv(\n",
    "    \"Data/woodbine_horses.csv\", skipinitialspace=True, low_memory=False\n",
    ")\n",
    "pd.set_option(\"display.max_columns\", 100)\n",
    "pd.set_option(\"display.max_rows\", 500)\n",
    "full_df.head(3)"
   ]
  },
  {
   "cell_type": "code",
   "execution_count": 5,
   "metadata": {},
   "outputs": [
    {
     "data": {
      "application/javascript": [
       "\n",
       "            setTimeout(function() {\n",
       "                var nbb_cell_id = 5;\n",
       "                var nbb_unformatted_code = \"# This is a list of colums to drop from the analysis beacause they will not be useful\\ndrop_cols = [\\n    \\\"track\\\",  # Same for every row\\n    \\\"card_id\\\",  # Same for every row\\n    \\\"race_date\\\",  # Provides little value to model\\n    \\\"breed\\\",  # Same for every row\\n    \\\"name\\\",  # There are almost 2000 different names with the max enteries per name = 12\\n    \\\"program_number\\\",  # Ambiguous catagorical information\\n    \\\"finish_time\\\",  # Same for every row\\n    \\\"win_payoff\\\",  # Provides little value to model\\n    \\\"place_payoff\\\",  # Provides little value to model\\n    \\\"show_payoff\\\",  # Provides little value to model\\n    \\\"start_position\\\",  # Info gained after race start is not useful for future predictions\\n    \\\"dollar_odds\\\",  # Man made odds metric, useful for prediction evaluation\\n]\";\n",
       "                var nbb_formatted_code = \"# This is a list of colums to drop from the analysis beacause they will not be useful\\ndrop_cols = [\\n    \\\"track\\\",  # Same for every row\\n    \\\"card_id\\\",  # Same for every row\\n    \\\"race_date\\\",  # Provides little value to model\\n    \\\"breed\\\",  # Same for every row\\n    \\\"name\\\",  # There are almost 2000 different names with the max enteries per name = 12\\n    \\\"program_number\\\",  # Ambiguous catagorical information\\n    \\\"finish_time\\\",  # Same for every row\\n    \\\"win_payoff\\\",  # Provides little value to model\\n    \\\"place_payoff\\\",  # Provides little value to model\\n    \\\"show_payoff\\\",  # Provides little value to model\\n    \\\"start_position\\\",  # Info gained after race start is not useful for future predictions\\n    \\\"dollar_odds\\\",  # Man made odds metric, useful for prediction evaluation\\n]\";\n",
       "                var nbb_cells = Jupyter.notebook.get_cells();\n",
       "                for (var i = 0; i < nbb_cells.length; ++i) {\n",
       "                    if (nbb_cells[i].input_prompt_number == nbb_cell_id) {\n",
       "                        if (nbb_cells[i].get_text() == nbb_unformatted_code) {\n",
       "                             nbb_cells[i].set_text(nbb_formatted_code);\n",
       "                        }\n",
       "                        break;\n",
       "                    }\n",
       "                }\n",
       "            }, 500);\n",
       "            "
      ],
      "text/plain": [
       "<IPython.core.display.Javascript object>"
      ]
     },
     "metadata": {},
     "output_type": "display_data"
    }
   ],
   "source": [
    "# This is a list of colums to drop from the analysis beacause they will not be useful\n",
    "drop_cols = [\n",
    "    \"track\",  # Same for every row\n",
    "    \"card_id\",  # Same for every row\n",
    "    \"race_date\",  # Provides little value to model\n",
    "    \"breed\",  # Same for every row\n",
    "    \"name\",  # There are almost 2000 different names with the max enteries per name = 12\n",
    "    \"program_number\",  # Ambiguous catagorical information\n",
    "    \"finish_time\",  # Same for every row\n",
    "    \"win_payoff\",  # Provides little value to model\n",
    "    \"place_payoff\",  # Provides little value to model\n",
    "    \"show_payoff\",  # Provides little value to model\n",
    "    \"start_position\",  # Info gained after race start is not useful for future predictions\n",
    "    \"dollar_odds\",  # Man made odds metric, useful for prediction evaluation\n",
    "]"
   ]
  },
  {
   "cell_type": "code",
   "execution_count": 6,
   "metadata": {},
   "outputs": [
    {
     "data": {
      "application/javascript": [
       "\n",
       "            setTimeout(function() {\n",
       "                var nbb_cell_id = 6;\n",
       "                var nbb_unformatted_code = \"df = full_df.drop(drop_cols, axis=1)\";\n",
       "                var nbb_formatted_code = \"df = full_df.drop(drop_cols, axis=1)\";\n",
       "                var nbb_cells = Jupyter.notebook.get_cells();\n",
       "                for (var i = 0; i < nbb_cells.length; ++i) {\n",
       "                    if (nbb_cells[i].input_prompt_number == nbb_cell_id) {\n",
       "                        if (nbb_cells[i].get_text() == nbb_unformatted_code) {\n",
       "                             nbb_cells[i].set_text(nbb_formatted_code);\n",
       "                        }\n",
       "                        break;\n",
       "                    }\n",
       "                }\n",
       "            }, 500);\n",
       "            "
      ],
      "text/plain": [
       "<IPython.core.display.Javascript object>"
      ]
     },
     "metadata": {},
     "output_type": "display_data"
    }
   ],
   "source": [
    "df = full_df.drop(drop_cols, axis=1)"
   ]
  },
  {
   "cell_type": "code",
   "execution_count": 7,
   "metadata": {},
   "outputs": [
    {
     "data": {
      "text/html": [
       "<div>\n",
       "<style scoped>\n",
       "    .dataframe tbody tr th:only-of-type {\n",
       "        vertical-align: middle;\n",
       "    }\n",
       "\n",
       "    .dataframe tbody tr th {\n",
       "        vertical-align: top;\n",
       "    }\n",
       "\n",
       "    .dataframe thead th {\n",
       "        text-align: right;\n",
       "    }\n",
       "</style>\n",
       "<table border=\"1\" class=\"dataframe\">\n",
       "  <thead>\n",
       "    <tr style=\"text-align: right;\">\n",
       "      <th></th>\n",
       "      <th>weight</th>\n",
       "      <th>age</th>\n",
       "      <th>sex</th>\n",
       "      <th>meds_and_equip</th>\n",
       "      <th>jockey</th>\n",
       "      <th>post_position</th>\n",
       "      <th>claim_price</th>\n",
       "      <th>finish_position</th>\n",
       "      <th>speed_rating</th>\n",
       "      <th>trainer</th>\n",
       "      <th>owner</th>\n",
       "      <th>weather</th>\n",
       "      <th>distance</th>\n",
       "      <th>race_type</th>\n",
       "      <th>track_conditions</th>\n",
       "    </tr>\n",
       "  </thead>\n",
       "  <tbody>\n",
       "    <tr>\n",
       "      <th>0</th>\n",
       "      <td>119</td>\n",
       "      <td>6</td>\n",
       "      <td>G</td>\n",
       "      <td>L</td>\n",
       "      <td>J I Alderson</td>\n",
       "      <td>3</td>\n",
       "      <td>6000</td>\n",
       "      <td>1.0</td>\n",
       "      <td>71.0</td>\n",
       "      <td>McKnight Norman</td>\n",
       "      <td>Bruno Schickedanz</td>\n",
       "      <td>Cloudy</td>\n",
       "      <td>600.0</td>\n",
       "      <td>Claiming</td>\n",
       "      <td>FT</td>\n",
       "    </tr>\n",
       "    <tr>\n",
       "      <th>1</th>\n",
       "      <td>121</td>\n",
       "      <td>4</td>\n",
       "      <td>M</td>\n",
       "      <td>L</td>\n",
       "      <td>T Wong</td>\n",
       "      <td>4</td>\n",
       "      <td>9500</td>\n",
       "      <td>10.0</td>\n",
       "      <td>25.0</td>\n",
       "      <td>Pottins Judith R</td>\n",
       "      <td>Shortstop Stable and Zahreddine, Ramez</td>\n",
       "      <td>Cloudy</td>\n",
       "      <td>500.0</td>\n",
       "      <td>Maiden Claiming</td>\n",
       "      <td>FT</td>\n",
       "    </tr>\n",
       "    <tr>\n",
       "      <th>2</th>\n",
       "      <td>121</td>\n",
       "      <td>5</td>\n",
       "      <td>M</td>\n",
       "      <td>Lf</td>\n",
       "      <td>S Ryan</td>\n",
       "      <td>1</td>\n",
       "      <td>0</td>\n",
       "      <td>7.0</td>\n",
       "      <td>51.0</td>\n",
       "      <td>Fournier Mark</td>\n",
       "      <td>Bruno Schickedanz</td>\n",
       "      <td>Cloudy</td>\n",
       "      <td>600.0</td>\n",
       "      <td>Allowance</td>\n",
       "      <td>FT</td>\n",
       "    </tr>\n",
       "  </tbody>\n",
       "</table>\n",
       "</div>"
      ],
      "text/plain": [
       "   weight  age sex meds_and_equip        jockey  post_position  claim_price  \\\n",
       "0     119    6   G              L  J I Alderson              3         6000   \n",
       "1     121    4   M              L        T Wong              4         9500   \n",
       "2     121    5   M             Lf        S Ryan              1            0   \n",
       "\n",
       "   finish_position  speed_rating           trainer  \\\n",
       "0              1.0          71.0   McKnight Norman   \n",
       "1             10.0          25.0  Pottins Judith R   \n",
       "2              7.0          51.0     Fournier Mark   \n",
       "\n",
       "                                    owner weather  distance        race_type  \\\n",
       "0                       Bruno Schickedanz  Cloudy     600.0         Claiming   \n",
       "1  Shortstop Stable and Zahreddine, Ramez  Cloudy     500.0  Maiden Claiming   \n",
       "2                       Bruno Schickedanz  Cloudy     600.0        Allowance   \n",
       "\n",
       "  track_conditions  \n",
       "0               FT  \n",
       "1               FT  \n",
       "2               FT  "
      ]
     },
     "execution_count": 7,
     "metadata": {},
     "output_type": "execute_result"
    },
    {
     "data": {
      "application/javascript": [
       "\n",
       "            setTimeout(function() {\n",
       "                var nbb_cell_id = 7;\n",
       "                var nbb_unformatted_code = \"df.head(3)\";\n",
       "                var nbb_formatted_code = \"df.head(3)\";\n",
       "                var nbb_cells = Jupyter.notebook.get_cells();\n",
       "                for (var i = 0; i < nbb_cells.length; ++i) {\n",
       "                    if (nbb_cells[i].input_prompt_number == nbb_cell_id) {\n",
       "                        if (nbb_cells[i].get_text() == nbb_unformatted_code) {\n",
       "                             nbb_cells[i].set_text(nbb_formatted_code);\n",
       "                        }\n",
       "                        break;\n",
       "                    }\n",
       "                }\n",
       "            }, 500);\n",
       "            "
      ],
      "text/plain": [
       "<IPython.core.display.Javascript object>"
      ]
     },
     "metadata": {},
     "output_type": "display_data"
    }
   ],
   "source": [
    "df.head(3)"
   ]
  },
  {
   "cell_type": "code",
   "execution_count": 8,
   "metadata": {},
   "outputs": [
    {
     "data": {
      "application/javascript": [
       "\n",
       "            setTimeout(function() {\n",
       "                var nbb_cell_id = 8;\n",
       "                var nbb_unformatted_code = \"# TODO - convert race date into a race_id feature\\n# TODO - convert `finish_position` into a win/lose feature for first place vs not first place\";\n",
       "                var nbb_formatted_code = \"# TODO - convert race date into a race_id feature\\n# TODO - convert `finish_position` into a win/lose feature for first place vs not first place\";\n",
       "                var nbb_cells = Jupyter.notebook.get_cells();\n",
       "                for (var i = 0; i < nbb_cells.length; ++i) {\n",
       "                    if (nbb_cells[i].input_prompt_number == nbb_cell_id) {\n",
       "                        if (nbb_cells[i].get_text() == nbb_unformatted_code) {\n",
       "                             nbb_cells[i].set_text(nbb_formatted_code);\n",
       "                        }\n",
       "                        break;\n",
       "                    }\n",
       "                }\n",
       "            }, 500);\n",
       "            "
      ],
      "text/plain": [
       "<IPython.core.display.Javascript object>"
      ]
     },
     "metadata": {},
     "output_type": "display_data"
    }
   ],
   "source": [
    "# TODO - convert race date into a race_id feature\n",
    "# TODO - convert `finish_position` into a win/lose feature for first place vs not first place"
   ]
  },
  {
   "cell_type": "markdown",
   "metadata": {},
   "source": [
    "## Handle null values"
   ]
  },
  {
   "cell_type": "code",
   "execution_count": 9,
   "metadata": {},
   "outputs": [
    {
     "name": "stdout",
     "output_type": "stream",
     "text": [
      "<class 'pandas.core.frame.DataFrame'>\n",
      "RangeIndex: 8113 entries, 0 to 8112\n",
      "Data columns (total 15 columns):\n",
      " #   Column            Non-Null Count  Dtype  \n",
      "---  ------            --------------  -----  \n",
      " 0   weight            8113 non-null   int64  \n",
      " 1   age               8113 non-null   int64  \n",
      " 2   sex               7522 non-null   object \n",
      " 3   meds_and_equip    7264 non-null   object \n",
      " 4   jockey            7522 non-null   object \n",
      " 5   post_position     8113 non-null   int64  \n",
      " 6   claim_price       8113 non-null   int64  \n",
      " 7   finish_position   8113 non-null   float64\n",
      " 8   speed_rating      7522 non-null   float64\n",
      " 9   trainer           7522 non-null   object \n",
      " 10  owner             7522 non-null   object \n",
      " 11  weather           8113 non-null   object \n",
      " 12  distance          8113 non-null   float64\n",
      " 13  race_type         8113 non-null   object \n",
      " 14  track_conditions  8113 non-null   object \n",
      "dtypes: float64(3), int64(4), object(8)\n",
      "memory usage: 950.9+ KB\n"
     ]
    },
    {
     "data": {
      "application/javascript": [
       "\n",
       "            setTimeout(function() {\n",
       "                var nbb_cell_id = 9;\n",
       "                var nbb_unformatted_code = \"df.info()\";\n",
       "                var nbb_formatted_code = \"df.info()\";\n",
       "                var nbb_cells = Jupyter.notebook.get_cells();\n",
       "                for (var i = 0; i < nbb_cells.length; ++i) {\n",
       "                    if (nbb_cells[i].input_prompt_number == nbb_cell_id) {\n",
       "                        if (nbb_cells[i].get_text() == nbb_unformatted_code) {\n",
       "                             nbb_cells[i].set_text(nbb_formatted_code);\n",
       "                        }\n",
       "                        break;\n",
       "                    }\n",
       "                }\n",
       "            }, 500);\n",
       "            "
      ],
      "text/plain": [
       "<IPython.core.display.Javascript object>"
      ]
     },
     "metadata": {},
     "output_type": "display_data"
    }
   ],
   "source": [
    "df.info()"
   ]
  },
  {
   "cell_type": "code",
   "execution_count": 10,
   "metadata": {},
   "outputs": [
    {
     "name": "stdout",
     "output_type": "stream",
     "text": [
      "<class 'pandas.core.frame.DataFrame'>\n",
      "Int64Index: 7522 entries, 0 to 8112\n",
      "Data columns (total 15 columns):\n",
      " #   Column            Non-Null Count  Dtype  \n",
      "---  ------            --------------  -----  \n",
      " 0   weight            7522 non-null   int64  \n",
      " 1   age               7522 non-null   int64  \n",
      " 2   sex               7522 non-null   object \n",
      " 3   meds_and_equip    7264 non-null   object \n",
      " 4   jockey            7522 non-null   object \n",
      " 5   post_position     7522 non-null   int64  \n",
      " 6   claim_price       7522 non-null   int64  \n",
      " 7   finish_position   7522 non-null   float64\n",
      " 8   speed_rating      7522 non-null   float64\n",
      " 9   trainer           7522 non-null   object \n",
      " 10  owner             7522 non-null   object \n",
      " 11  weather           7522 non-null   object \n",
      " 12  distance          7522 non-null   float64\n",
      " 13  race_type         7522 non-null   object \n",
      " 14  track_conditions  7522 non-null   object \n",
      "dtypes: float64(3), int64(4), object(8)\n",
      "memory usage: 940.2+ KB\n"
     ]
    },
    {
     "data": {
      "application/javascript": [
       "\n",
       "            setTimeout(function() {\n",
       "                var nbb_cell_id = 10;\n",
       "                var nbb_unformatted_code = \"# Remove 7% of the rows that have nulls in 5 colums\\ndf = df[df[\\\"sex\\\"].notna()]\\ndf.info()\";\n",
       "                var nbb_formatted_code = \"# Remove 7% of the rows that have nulls in 5 colums\\ndf = df[df[\\\"sex\\\"].notna()]\\ndf.info()\";\n",
       "                var nbb_cells = Jupyter.notebook.get_cells();\n",
       "                for (var i = 0; i < nbb_cells.length; ++i) {\n",
       "                    if (nbb_cells[i].input_prompt_number == nbb_cell_id) {\n",
       "                        if (nbb_cells[i].get_text() == nbb_unformatted_code) {\n",
       "                             nbb_cells[i].set_text(nbb_formatted_code);\n",
       "                        }\n",
       "                        break;\n",
       "                    }\n",
       "                }\n",
       "            }, 500);\n",
       "            "
      ],
      "text/plain": [
       "<IPython.core.display.Javascript object>"
      ]
     },
     "metadata": {},
     "output_type": "display_data"
    }
   ],
   "source": [
    "# Remove 7% of the rows that have nulls in 5 colums\n",
    "df = df[df[\"sex\"].notna()]\n",
    "df.info()"
   ]
  },
  {
   "cell_type": "code",
   "execution_count": 11,
   "metadata": {},
   "outputs": [
    {
     "name": "stdout",
     "output_type": "stream",
     "text": [
      "<class 'pandas.core.frame.DataFrame'>\n",
      "Int64Index: 7522 entries, 0 to 8112\n",
      "Data columns (total 15 columns):\n",
      " #   Column            Non-Null Count  Dtype  \n",
      "---  ------            --------------  -----  \n",
      " 0   weight            7522 non-null   int64  \n",
      " 1   age               7522 non-null   int64  \n",
      " 2   sex               7522 non-null   object \n",
      " 3   meds_and_equip    7522 non-null   object \n",
      " 4   jockey            7522 non-null   object \n",
      " 5   post_position     7522 non-null   int64  \n",
      " 6   claim_price       7522 non-null   int64  \n",
      " 7   finish_position   7522 non-null   float64\n",
      " 8   speed_rating      7522 non-null   float64\n",
      " 9   trainer           7522 non-null   object \n",
      " 10  owner             7522 non-null   object \n",
      " 11  weather           7522 non-null   object \n",
      " 12  distance          7522 non-null   float64\n",
      " 13  race_type         7522 non-null   object \n",
      " 14  track_conditions  7522 non-null   object \n",
      "dtypes: float64(3), int64(4), object(8)\n",
      "memory usage: 940.2+ KB\n"
     ]
    },
    {
     "data": {
      "application/javascript": [
       "\n",
       "            setTimeout(function() {\n",
       "                var nbb_cell_id = 11;\n",
       "                var nbb_unformatted_code = \"# Replace nulls in `meds_and_equip` with \\\"NA\\\" for now\\ndf[\\\"meds_and_equip\\\"].fillna(\\\"N\\\", inplace=True)\\ndf.info()\";\n",
       "                var nbb_formatted_code = \"# Replace nulls in `meds_and_equip` with \\\"NA\\\" for now\\ndf[\\\"meds_and_equip\\\"].fillna(\\\"N\\\", inplace=True)\\ndf.info()\";\n",
       "                var nbb_cells = Jupyter.notebook.get_cells();\n",
       "                for (var i = 0; i < nbb_cells.length; ++i) {\n",
       "                    if (nbb_cells[i].input_prompt_number == nbb_cell_id) {\n",
       "                        if (nbb_cells[i].get_text() == nbb_unformatted_code) {\n",
       "                             nbb_cells[i].set_text(nbb_formatted_code);\n",
       "                        }\n",
       "                        break;\n",
       "                    }\n",
       "                }\n",
       "            }, 500);\n",
       "            "
      ],
      "text/plain": [
       "<IPython.core.display.Javascript object>"
      ]
     },
     "metadata": {},
     "output_type": "display_data"
    }
   ],
   "source": [
    "# Replace nulls in `meds_and_equip` with \"NA\" for now\n",
    "df[\"meds_and_equip\"].fillna(\"N\", inplace=True)\n",
    "df.info()"
   ]
  },
  {
   "cell_type": "code",
   "execution_count": 12,
   "metadata": {},
   "outputs": [
    {
     "data": {
      "text/plain": [
       "L       3050\n",
       "Lb      3046\n",
       "Lbf      409\n",
       "Lf       386\n",
       "N        258\n",
       "b        246\n",
       "Lv        27\n",
       "Ly        15\n",
       "bf        14\n",
       "f         13\n",
       "y         12\n",
       "Lfy        8\n",
       "Lr         7\n",
       "Lby        7\n",
       "Lvf        7\n",
       "by         5\n",
       "v          4\n",
       "Lbr        3\n",
       "Lyf        1\n",
       "Lvr        1\n",
       "Lbfy       1\n",
       "Lbfr       1\n",
       "bfy        1\n",
       "Name: meds_and_equip, dtype: int64"
      ]
     },
     "execution_count": 12,
     "metadata": {},
     "output_type": "execute_result"
    },
    {
     "data": {
      "application/javascript": [
       "\n",
       "            setTimeout(function() {\n",
       "                var nbb_cell_id = 12;\n",
       "                var nbb_unformatted_code = \"df[\\\"meds_and_equip\\\"].value_counts()\";\n",
       "                var nbb_formatted_code = \"df[\\\"meds_and_equip\\\"].value_counts()\";\n",
       "                var nbb_cells = Jupyter.notebook.get_cells();\n",
       "                for (var i = 0; i < nbb_cells.length; ++i) {\n",
       "                    if (nbb_cells[i].input_prompt_number == nbb_cell_id) {\n",
       "                        if (nbb_cells[i].get_text() == nbb_unformatted_code) {\n",
       "                             nbb_cells[i].set_text(nbb_formatted_code);\n",
       "                        }\n",
       "                        break;\n",
       "                    }\n",
       "                }\n",
       "            }, 500);\n",
       "            "
      ],
      "text/plain": [
       "<IPython.core.display.Javascript object>"
      ]
     },
     "metadata": {},
     "output_type": "display_data"
    }
   ],
   "source": [
    "df[\"meds_and_equip\"].value_counts()"
   ]
  },
  {
   "cell_type": "code",
   "execution_count": 13,
   "metadata": {},
   "outputs": [
    {
     "data": {
      "application/javascript": [
       "\n",
       "            setTimeout(function() {\n",
       "                var nbb_cell_id = 13;\n",
       "                var nbb_unformatted_code = \"# Create catagorical columns to encode `meds_and_equip` into\\ndf[\\\"L\\\"] = 0\\ndf[\\\"b\\\"] = 0\\ndf[\\\"f\\\"] = 0\\ndf[\\\"r\\\"] = 0\\ndf[\\\"y\\\"] = 0\\ndf[\\\"v\\\"] = 0\\ndf[\\\"N\\\"] = 0\";\n",
       "                var nbb_formatted_code = \"# Create catagorical columns to encode `meds_and_equip` into\\ndf[\\\"L\\\"] = 0\\ndf[\\\"b\\\"] = 0\\ndf[\\\"f\\\"] = 0\\ndf[\\\"r\\\"] = 0\\ndf[\\\"y\\\"] = 0\\ndf[\\\"v\\\"] = 0\\ndf[\\\"N\\\"] = 0\";\n",
       "                var nbb_cells = Jupyter.notebook.get_cells();\n",
       "                for (var i = 0; i < nbb_cells.length; ++i) {\n",
       "                    if (nbb_cells[i].input_prompt_number == nbb_cell_id) {\n",
       "                        if (nbb_cells[i].get_text() == nbb_unformatted_code) {\n",
       "                             nbb_cells[i].set_text(nbb_formatted_code);\n",
       "                        }\n",
       "                        break;\n",
       "                    }\n",
       "                }\n",
       "            }, 500);\n",
       "            "
      ],
      "text/plain": [
       "<IPython.core.display.Javascript object>"
      ]
     },
     "metadata": {},
     "output_type": "display_data"
    }
   ],
   "source": [
    "# Create catagorical columns to encode `meds_and_equip` into\n",
    "df[\"L\"] = 0\n",
    "df[\"b\"] = 0\n",
    "df[\"f\"] = 0\n",
    "df[\"r\"] = 0\n",
    "df[\"y\"] = 0\n",
    "df[\"v\"] = 0\n",
    "df[\"N\"] = 0"
   ]
  },
  {
   "cell_type": "code",
   "execution_count": 14,
   "metadata": {},
   "outputs": [
    {
     "data": {
      "text/plain": [
       "array(['L', 'Lf', 'Lb', 'Lr', 'Lbf', 'N', 'b', 'Ly', 'Lv', 'y', 'Lvf',\n",
       "       'Lbr', 'f', 'by', 'Lyf', 'Lby', 'bf', 'Lvr', 'Lfy', 'Lbfy', 'v',\n",
       "       'bfy', 'Lbfr'], dtype=object)"
      ]
     },
     "execution_count": 14,
     "metadata": {},
     "output_type": "execute_result"
    },
    {
     "data": {
      "application/javascript": [
       "\n",
       "            setTimeout(function() {\n",
       "                var nbb_cell_id = 14;\n",
       "                var nbb_unformatted_code = \"meds_and_equip_unique = df[\\\"meds_and_equip\\\"].unique()\\nmeds_and_equip_unique\";\n",
       "                var nbb_formatted_code = \"meds_and_equip_unique = df[\\\"meds_and_equip\\\"].unique()\\nmeds_and_equip_unique\";\n",
       "                var nbb_cells = Jupyter.notebook.get_cells();\n",
       "                for (var i = 0; i < nbb_cells.length; ++i) {\n",
       "                    if (nbb_cells[i].input_prompt_number == nbb_cell_id) {\n",
       "                        if (nbb_cells[i].get_text() == nbb_unformatted_code) {\n",
       "                             nbb_cells[i].set_text(nbb_formatted_code);\n",
       "                        }\n",
       "                        break;\n",
       "                    }\n",
       "                }\n",
       "            }, 500);\n",
       "            "
      ],
      "text/plain": [
       "<IPython.core.display.Javascript object>"
      ]
     },
     "metadata": {},
     "output_type": "display_data"
    }
   ],
   "source": [
    "meds_and_equip_unique = df[\"meds_and_equip\"].unique()\n",
    "meds_and_equip_unique"
   ]
  },
  {
   "cell_type": "code",
   "execution_count": 15,
   "metadata": {},
   "outputs": [
    {
     "data": {
      "application/javascript": [
       "\n",
       "            setTimeout(function() {\n",
       "                var nbb_cell_id = 15;\n",
       "                var nbb_unformatted_code = \"def char_list(string):\\n    return [char for char in string]\";\n",
       "                var nbb_formatted_code = \"def char_list(string):\\n    return [char for char in string]\";\n",
       "                var nbb_cells = Jupyter.notebook.get_cells();\n",
       "                for (var i = 0; i < nbb_cells.length; ++i) {\n",
       "                    if (nbb_cells[i].input_prompt_number == nbb_cell_id) {\n",
       "                        if (nbb_cells[i].get_text() == nbb_unformatted_code) {\n",
       "                             nbb_cells[i].set_text(nbb_formatted_code);\n",
       "                        }\n",
       "                        break;\n",
       "                    }\n",
       "                }\n",
       "            }, 500);\n",
       "            "
      ],
      "text/plain": [
       "<IPython.core.display.Javascript object>"
      ]
     },
     "metadata": {},
     "output_type": "display_data"
    }
   ],
   "source": [
    "def char_list(string):\n",
    "    return [char for char in string]"
   ]
  },
  {
   "cell_type": "code",
   "execution_count": 16,
   "metadata": {},
   "outputs": [
    {
     "data": {
      "application/javascript": [
       "\n",
       "            setTimeout(function() {\n",
       "                var nbb_cell_id = 16;\n",
       "                var nbb_unformatted_code = \"for value in meds_and_equip_unique:\\n    df.loc[df.meds_and_equip == value, char_list(value)] = 1\";\n",
       "                var nbb_formatted_code = \"for value in meds_and_equip_unique:\\n    df.loc[df.meds_and_equip == value, char_list(value)] = 1\";\n",
       "                var nbb_cells = Jupyter.notebook.get_cells();\n",
       "                for (var i = 0; i < nbb_cells.length; ++i) {\n",
       "                    if (nbb_cells[i].input_prompt_number == nbb_cell_id) {\n",
       "                        if (nbb_cells[i].get_text() == nbb_unformatted_code) {\n",
       "                             nbb_cells[i].set_text(nbb_formatted_code);\n",
       "                        }\n",
       "                        break;\n",
       "                    }\n",
       "                }\n",
       "            }, 500);\n",
       "            "
      ],
      "text/plain": [
       "<IPython.core.display.Javascript object>"
      ]
     },
     "metadata": {},
     "output_type": "display_data"
    }
   ],
   "source": [
    "for value in meds_and_equip_unique:\n",
    "    df.loc[df.meds_and_equip == value, char_list(value)] = 1"
   ]
  },
  {
   "cell_type": "code",
   "execution_count": 17,
   "metadata": {},
   "outputs": [
    {
     "data": {
      "text/html": [
       "<div>\n",
       "<style scoped>\n",
       "    .dataframe tbody tr th:only-of-type {\n",
       "        vertical-align: middle;\n",
       "    }\n",
       "\n",
       "    .dataframe tbody tr th {\n",
       "        vertical-align: top;\n",
       "    }\n",
       "\n",
       "    .dataframe thead th {\n",
       "        text-align: right;\n",
       "    }\n",
       "</style>\n",
       "<table border=\"1\" class=\"dataframe\">\n",
       "  <thead>\n",
       "    <tr style=\"text-align: right;\">\n",
       "      <th></th>\n",
       "      <th>weight</th>\n",
       "      <th>age</th>\n",
       "      <th>sex</th>\n",
       "      <th>meds_and_equip</th>\n",
       "      <th>jockey</th>\n",
       "      <th>post_position</th>\n",
       "      <th>claim_price</th>\n",
       "      <th>finish_position</th>\n",
       "      <th>speed_rating</th>\n",
       "      <th>trainer</th>\n",
       "      <th>owner</th>\n",
       "      <th>weather</th>\n",
       "      <th>distance</th>\n",
       "      <th>race_type</th>\n",
       "      <th>track_conditions</th>\n",
       "      <th>L</th>\n",
       "      <th>b</th>\n",
       "      <th>f</th>\n",
       "      <th>r</th>\n",
       "      <th>y</th>\n",
       "      <th>v</th>\n",
       "      <th>N</th>\n",
       "    </tr>\n",
       "  </thead>\n",
       "  <tbody>\n",
       "    <tr>\n",
       "      <th>0</th>\n",
       "      <td>119</td>\n",
       "      <td>6</td>\n",
       "      <td>G</td>\n",
       "      <td>L</td>\n",
       "      <td>J I Alderson</td>\n",
       "      <td>3</td>\n",
       "      <td>6000</td>\n",
       "      <td>1.0</td>\n",
       "      <td>71.0</td>\n",
       "      <td>McKnight Norman</td>\n",
       "      <td>Bruno Schickedanz</td>\n",
       "      <td>Cloudy</td>\n",
       "      <td>600.0</td>\n",
       "      <td>Claiming</td>\n",
       "      <td>FT</td>\n",
       "      <td>1</td>\n",
       "      <td>0</td>\n",
       "      <td>0</td>\n",
       "      <td>0</td>\n",
       "      <td>0</td>\n",
       "      <td>0</td>\n",
       "      <td>0</td>\n",
       "    </tr>\n",
       "    <tr>\n",
       "      <th>1</th>\n",
       "      <td>121</td>\n",
       "      <td>4</td>\n",
       "      <td>M</td>\n",
       "      <td>L</td>\n",
       "      <td>T Wong</td>\n",
       "      <td>4</td>\n",
       "      <td>9500</td>\n",
       "      <td>10.0</td>\n",
       "      <td>25.0</td>\n",
       "      <td>Pottins Judith R</td>\n",
       "      <td>Shortstop Stable and Zahreddine, Ramez</td>\n",
       "      <td>Cloudy</td>\n",
       "      <td>500.0</td>\n",
       "      <td>Maiden Claiming</td>\n",
       "      <td>FT</td>\n",
       "      <td>1</td>\n",
       "      <td>0</td>\n",
       "      <td>0</td>\n",
       "      <td>0</td>\n",
       "      <td>0</td>\n",
       "      <td>0</td>\n",
       "      <td>0</td>\n",
       "    </tr>\n",
       "    <tr>\n",
       "      <th>2</th>\n",
       "      <td>121</td>\n",
       "      <td>5</td>\n",
       "      <td>M</td>\n",
       "      <td>Lf</td>\n",
       "      <td>S Ryan</td>\n",
       "      <td>1</td>\n",
       "      <td>0</td>\n",
       "      <td>7.0</td>\n",
       "      <td>51.0</td>\n",
       "      <td>Fournier Mark</td>\n",
       "      <td>Bruno Schickedanz</td>\n",
       "      <td>Cloudy</td>\n",
       "      <td>600.0</td>\n",
       "      <td>Allowance</td>\n",
       "      <td>FT</td>\n",
       "      <td>1</td>\n",
       "      <td>0</td>\n",
       "      <td>1</td>\n",
       "      <td>0</td>\n",
       "      <td>0</td>\n",
       "      <td>0</td>\n",
       "      <td>0</td>\n",
       "    </tr>\n",
       "    <tr>\n",
       "      <th>3</th>\n",
       "      <td>123</td>\n",
       "      <td>4</td>\n",
       "      <td>M</td>\n",
       "      <td>Lb</td>\n",
       "      <td>S R Bahen</td>\n",
       "      <td>4</td>\n",
       "      <td>0</td>\n",
       "      <td>6.0</td>\n",
       "      <td>60.0</td>\n",
       "      <td>Mattine John</td>\n",
       "      <td>RCC Racing Stable Ltd.</td>\n",
       "      <td>Cloudy</td>\n",
       "      <td>600.0</td>\n",
       "      <td>Maiden Special Weight</td>\n",
       "      <td>FT</td>\n",
       "      <td>1</td>\n",
       "      <td>1</td>\n",
       "      <td>0</td>\n",
       "      <td>0</td>\n",
       "      <td>0</td>\n",
       "      <td>0</td>\n",
       "      <td>0</td>\n",
       "    </tr>\n",
       "    <tr>\n",
       "      <th>4</th>\n",
       "      <td>121</td>\n",
       "      <td>7</td>\n",
       "      <td>H</td>\n",
       "      <td>Lr</td>\n",
       "      <td>R M Hernandez</td>\n",
       "      <td>2</td>\n",
       "      <td>0</td>\n",
       "      <td>5.0</td>\n",
       "      <td>76.0</td>\n",
       "      <td>Neubauer Michaela</td>\n",
       "      <td>Charles E. Fipke</td>\n",
       "      <td>Cloudy</td>\n",
       "      <td>1100.0</td>\n",
       "      <td>Allowance Optional Claiming</td>\n",
       "      <td>FM</td>\n",
       "      <td>1</td>\n",
       "      <td>0</td>\n",
       "      <td>0</td>\n",
       "      <td>1</td>\n",
       "      <td>0</td>\n",
       "      <td>0</td>\n",
       "      <td>0</td>\n",
       "    </tr>\n",
       "  </tbody>\n",
       "</table>\n",
       "</div>"
      ],
      "text/plain": [
       "   weight  age sex meds_and_equip         jockey  post_position  claim_price  \\\n",
       "0     119    6   G              L   J I Alderson              3         6000   \n",
       "1     121    4   M              L         T Wong              4         9500   \n",
       "2     121    5   M             Lf         S Ryan              1            0   \n",
       "3     123    4   M             Lb      S R Bahen              4            0   \n",
       "4     121    7   H             Lr  R M Hernandez              2            0   \n",
       "\n",
       "   finish_position  speed_rating            trainer  \\\n",
       "0              1.0          71.0    McKnight Norman   \n",
       "1             10.0          25.0   Pottins Judith R   \n",
       "2              7.0          51.0      Fournier Mark   \n",
       "3              6.0          60.0       Mattine John   \n",
       "4              5.0          76.0  Neubauer Michaela   \n",
       "\n",
       "                                    owner weather  distance  \\\n",
       "0                       Bruno Schickedanz  Cloudy     600.0   \n",
       "1  Shortstop Stable and Zahreddine, Ramez  Cloudy     500.0   \n",
       "2                       Bruno Schickedanz  Cloudy     600.0   \n",
       "3                  RCC Racing Stable Ltd.  Cloudy     600.0   \n",
       "4                        Charles E. Fipke  Cloudy    1100.0   \n",
       "\n",
       "                     race_type track_conditions  L  b  f  r  y  v  N  \n",
       "0                     Claiming               FT  1  0  0  0  0  0  0  \n",
       "1              Maiden Claiming               FT  1  0  0  0  0  0  0  \n",
       "2                    Allowance               FT  1  0  1  0  0  0  0  \n",
       "3        Maiden Special Weight               FT  1  1  0  0  0  0  0  \n",
       "4  Allowance Optional Claiming               FM  1  0  0  1  0  0  0  "
      ]
     },
     "execution_count": 17,
     "metadata": {},
     "output_type": "execute_result"
    },
    {
     "data": {
      "application/javascript": [
       "\n",
       "            setTimeout(function() {\n",
       "                var nbb_cell_id = 17;\n",
       "                var nbb_unformatted_code = \"df.head(5)\";\n",
       "                var nbb_formatted_code = \"df.head(5)\";\n",
       "                var nbb_cells = Jupyter.notebook.get_cells();\n",
       "                for (var i = 0; i < nbb_cells.length; ++i) {\n",
       "                    if (nbb_cells[i].input_prompt_number == nbb_cell_id) {\n",
       "                        if (nbb_cells[i].get_text() == nbb_unformatted_code) {\n",
       "                             nbb_cells[i].set_text(nbb_formatted_code);\n",
       "                        }\n",
       "                        break;\n",
       "                    }\n",
       "                }\n",
       "            }, 500);\n",
       "            "
      ],
      "text/plain": [
       "<IPython.core.display.Javascript object>"
      ]
     },
     "metadata": {},
     "output_type": "display_data"
    }
   ],
   "source": [
    "df.head(5)"
   ]
  },
  {
   "cell_type": "markdown",
   "metadata": {},
   "source": [
    "Sucessfully encoded `meds_and_equip` into seperate features. Just need to drop the temporary N column since the rows that were previously null are now represented by zeros in the new catagories."
   ]
  },
  {
   "cell_type": "code",
   "execution_count": 18,
   "metadata": {},
   "outputs": [
    {
     "data": {
      "application/javascript": [
       "\n",
       "            setTimeout(function() {\n",
       "                var nbb_cell_id = 18;\n",
       "                var nbb_unformatted_code = \"df = df.drop([\\\"meds_and_equip\\\", \\\"N\\\"], axis=1)\";\n",
       "                var nbb_formatted_code = \"df = df.drop([\\\"meds_and_equip\\\", \\\"N\\\"], axis=1)\";\n",
       "                var nbb_cells = Jupyter.notebook.get_cells();\n",
       "                for (var i = 0; i < nbb_cells.length; ++i) {\n",
       "                    if (nbb_cells[i].input_prompt_number == nbb_cell_id) {\n",
       "                        if (nbb_cells[i].get_text() == nbb_unformatted_code) {\n",
       "                             nbb_cells[i].set_text(nbb_formatted_code);\n",
       "                        }\n",
       "                        break;\n",
       "                    }\n",
       "                }\n",
       "            }, 500);\n",
       "            "
      ],
      "text/plain": [
       "<IPython.core.display.Javascript object>"
      ]
     },
     "metadata": {},
     "output_type": "display_data"
    }
   ],
   "source": [
    "df = df.drop([\"meds_and_equip\", \"N\"], axis=1)"
   ]
  },
  {
   "cell_type": "markdown",
   "metadata": {},
   "source": [
    "Now to make a binary column for the first place horses and drop `finish_position`"
   ]
  },
  {
   "cell_type": "code",
   "execution_count": 19,
   "metadata": {},
   "outputs": [
    {
     "data": {
      "application/javascript": [
       "\n",
       "            setTimeout(function() {\n",
       "                var nbb_cell_id = 19;\n",
       "                var nbb_unformatted_code = \"df[\\\"win\\\"] = 0\\ndf.loc[df.finish_position == 1.0, \\\"win\\\"] = 1\\ndf = df.drop(\\\"finish_position\\\", axis=1)\";\n",
       "                var nbb_formatted_code = \"df[\\\"win\\\"] = 0\\ndf.loc[df.finish_position == 1.0, \\\"win\\\"] = 1\\ndf = df.drop(\\\"finish_position\\\", axis=1)\";\n",
       "                var nbb_cells = Jupyter.notebook.get_cells();\n",
       "                for (var i = 0; i < nbb_cells.length; ++i) {\n",
       "                    if (nbb_cells[i].input_prompt_number == nbb_cell_id) {\n",
       "                        if (nbb_cells[i].get_text() == nbb_unformatted_code) {\n",
       "                             nbb_cells[i].set_text(nbb_formatted_code);\n",
       "                        }\n",
       "                        break;\n",
       "                    }\n",
       "                }\n",
       "            }, 500);\n",
       "            "
      ],
      "text/plain": [
       "<IPython.core.display.Javascript object>"
      ]
     },
     "metadata": {},
     "output_type": "display_data"
    }
   ],
   "source": [
    "df[\"win\"] = 0\n",
    "df.loc[df.finish_position == 1.0, \"win\"] = 1\n",
    "df = df.drop(\"finish_position\", axis=1)"
   ]
  },
  {
   "cell_type": "code",
   "execution_count": 20,
   "metadata": {},
   "outputs": [
    {
     "data": {
      "text/html": [
       "<div>\n",
       "<style scoped>\n",
       "    .dataframe tbody tr th:only-of-type {\n",
       "        vertical-align: middle;\n",
       "    }\n",
       "\n",
       "    .dataframe tbody tr th {\n",
       "        vertical-align: top;\n",
       "    }\n",
       "\n",
       "    .dataframe thead th {\n",
       "        text-align: right;\n",
       "    }\n",
       "</style>\n",
       "<table border=\"1\" class=\"dataframe\">\n",
       "  <thead>\n",
       "    <tr style=\"text-align: right;\">\n",
       "      <th></th>\n",
       "      <th>weight</th>\n",
       "      <th>age</th>\n",
       "      <th>sex</th>\n",
       "      <th>jockey</th>\n",
       "      <th>post_position</th>\n",
       "      <th>claim_price</th>\n",
       "      <th>speed_rating</th>\n",
       "      <th>trainer</th>\n",
       "      <th>owner</th>\n",
       "      <th>weather</th>\n",
       "      <th>distance</th>\n",
       "      <th>race_type</th>\n",
       "      <th>track_conditions</th>\n",
       "      <th>L</th>\n",
       "      <th>b</th>\n",
       "      <th>f</th>\n",
       "      <th>r</th>\n",
       "      <th>y</th>\n",
       "      <th>v</th>\n",
       "      <th>win</th>\n",
       "    </tr>\n",
       "  </thead>\n",
       "  <tbody>\n",
       "    <tr>\n",
       "      <th>0</th>\n",
       "      <td>119</td>\n",
       "      <td>6</td>\n",
       "      <td>G</td>\n",
       "      <td>J I Alderson</td>\n",
       "      <td>3</td>\n",
       "      <td>6000</td>\n",
       "      <td>71.0</td>\n",
       "      <td>McKnight Norman</td>\n",
       "      <td>Bruno Schickedanz</td>\n",
       "      <td>Cloudy</td>\n",
       "      <td>600.0</td>\n",
       "      <td>Claiming</td>\n",
       "      <td>FT</td>\n",
       "      <td>1</td>\n",
       "      <td>0</td>\n",
       "      <td>0</td>\n",
       "      <td>0</td>\n",
       "      <td>0</td>\n",
       "      <td>0</td>\n",
       "      <td>1</td>\n",
       "    </tr>\n",
       "    <tr>\n",
       "      <th>1</th>\n",
       "      <td>121</td>\n",
       "      <td>4</td>\n",
       "      <td>M</td>\n",
       "      <td>T Wong</td>\n",
       "      <td>4</td>\n",
       "      <td>9500</td>\n",
       "      <td>25.0</td>\n",
       "      <td>Pottins Judith R</td>\n",
       "      <td>Shortstop Stable and Zahreddine, Ramez</td>\n",
       "      <td>Cloudy</td>\n",
       "      <td>500.0</td>\n",
       "      <td>Maiden Claiming</td>\n",
       "      <td>FT</td>\n",
       "      <td>1</td>\n",
       "      <td>0</td>\n",
       "      <td>0</td>\n",
       "      <td>0</td>\n",
       "      <td>0</td>\n",
       "      <td>0</td>\n",
       "      <td>0</td>\n",
       "    </tr>\n",
       "    <tr>\n",
       "      <th>2</th>\n",
       "      <td>121</td>\n",
       "      <td>5</td>\n",
       "      <td>M</td>\n",
       "      <td>S Ryan</td>\n",
       "      <td>1</td>\n",
       "      <td>0</td>\n",
       "      <td>51.0</td>\n",
       "      <td>Fournier Mark</td>\n",
       "      <td>Bruno Schickedanz</td>\n",
       "      <td>Cloudy</td>\n",
       "      <td>600.0</td>\n",
       "      <td>Allowance</td>\n",
       "      <td>FT</td>\n",
       "      <td>1</td>\n",
       "      <td>0</td>\n",
       "      <td>1</td>\n",
       "      <td>0</td>\n",
       "      <td>0</td>\n",
       "      <td>0</td>\n",
       "      <td>0</td>\n",
       "    </tr>\n",
       "  </tbody>\n",
       "</table>\n",
       "</div>"
      ],
      "text/plain": [
       "   weight  age sex        jockey  post_position  claim_price  speed_rating  \\\n",
       "0     119    6   G  J I Alderson              3         6000          71.0   \n",
       "1     121    4   M        T Wong              4         9500          25.0   \n",
       "2     121    5   M        S Ryan              1            0          51.0   \n",
       "\n",
       "            trainer                                   owner weather  distance  \\\n",
       "0   McKnight Norman                       Bruno Schickedanz  Cloudy     600.0   \n",
       "1  Pottins Judith R  Shortstop Stable and Zahreddine, Ramez  Cloudy     500.0   \n",
       "2     Fournier Mark                       Bruno Schickedanz  Cloudy     600.0   \n",
       "\n",
       "         race_type track_conditions  L  b  f  r  y  v  win  \n",
       "0         Claiming               FT  1  0  0  0  0  0    1  \n",
       "1  Maiden Claiming               FT  1  0  0  0  0  0    0  \n",
       "2        Allowance               FT  1  0  1  0  0  0    0  "
      ]
     },
     "execution_count": 20,
     "metadata": {},
     "output_type": "execute_result"
    },
    {
     "data": {
      "application/javascript": [
       "\n",
       "            setTimeout(function() {\n",
       "                var nbb_cell_id = 20;\n",
       "                var nbb_unformatted_code = \"df.head(3)\";\n",
       "                var nbb_formatted_code = \"df.head(3)\";\n",
       "                var nbb_cells = Jupyter.notebook.get_cells();\n",
       "                for (var i = 0; i < nbb_cells.length; ++i) {\n",
       "                    if (nbb_cells[i].input_prompt_number == nbb_cell_id) {\n",
       "                        if (nbb_cells[i].get_text() == nbb_unformatted_code) {\n",
       "                             nbb_cells[i].set_text(nbb_formatted_code);\n",
       "                        }\n",
       "                        break;\n",
       "                    }\n",
       "                }\n",
       "            }, 500);\n",
       "            "
      ],
      "text/plain": [
       "<IPython.core.display.Javascript object>"
      ]
     },
     "metadata": {},
     "output_type": "display_data"
    }
   ],
   "source": [
    "df.head(3)"
   ]
  },
  {
   "cell_type": "markdown",
   "metadata": {},
   "source": [
    "Check out the rest of the catagorical data"
   ]
  },
  {
   "cell_type": "code",
   "execution_count": 21,
   "metadata": {
    "scrolled": true
   },
   "outputs": [
    {
     "data": {
      "text/plain": [
       "G    3373\n",
       "F    1890\n",
       "M    1714\n",
       "C     307\n",
       "H     210\n",
       "R      28\n",
       "Name: sex, dtype: int64"
      ]
     },
     "execution_count": 21,
     "metadata": {},
     "output_type": "execute_result"
    },
    {
     "data": {
      "application/javascript": [
       "\n",
       "            setTimeout(function() {\n",
       "                var nbb_cell_id = 21;\n",
       "                var nbb_unformatted_code = \"df[\\\"sex\\\"].value_counts()\";\n",
       "                var nbb_formatted_code = \"df[\\\"sex\\\"].value_counts()\";\n",
       "                var nbb_cells = Jupyter.notebook.get_cells();\n",
       "                for (var i = 0; i < nbb_cells.length; ++i) {\n",
       "                    if (nbb_cells[i].input_prompt_number == nbb_cell_id) {\n",
       "                        if (nbb_cells[i].get_text() == nbb_unformatted_code) {\n",
       "                             nbb_cells[i].set_text(nbb_formatted_code);\n",
       "                        }\n",
       "                        break;\n",
       "                    }\n",
       "                }\n",
       "            }, 500);\n",
       "            "
      ],
      "text/plain": [
       "<IPython.core.display.Javascript object>"
      ]
     },
     "metadata": {},
     "output_type": "display_data"
    }
   ],
   "source": [
    "df[\"sex\"].value_counts()"
   ]
  },
  {
   "cell_type": "code",
   "execution_count": 22,
   "metadata": {
    "scrolled": true
   },
   "outputs": [
    {
     "data": {
      "text/plain": [
       "E R Da Silva      569\n",
       "L Contreras       547\n",
       "R M Hernandez     477\n",
       "J M Campbell      474\n",
       "G Boulanger       468\n",
       "D Moran           447\n",
       "P Husbands        405\n",
       "E Wilson          389\n",
       "S Ryan            310\n",
       "J I Alderson      305\n",
       "A Garcia          291\n",
       "G Olguin          260\n",
       "S Singh           252\n",
       "S R Bahen         212\n",
       "J Crawford        200\n",
       "K Johnson         199\n",
       "O Moreno          194\n",
       "J V Bridgmohan    190\n",
       "S P Husbands      165\n",
       "J McAleney        138\n",
       "T Wong            114\n",
       "I E Mosqueira     111\n",
       "A D Auger          84\n",
       "M Rainford         75\n",
       "F Crausaz          55\n",
       "S Chernetz         48\n",
       "T Maragh           47\n",
       "E Ramsammy         46\n",
       "D Johnson          45\n",
       "M Z Buchanan       42\n",
       "S Callaghan        28\n",
       "T Husbands         27\n",
       "C Defreitas        26\n",
       "D Garcia           20\n",
       "K Pizarro          19\n",
       "M Pinto            18\n",
       "C Jordan           17\n",
       "C Griffith         16\n",
       "J R Leparoux       13\n",
       "T Wolfe-Bell       13\n",
       "D Nelson           12\n",
       "B A Alderson       12\n",
       "B A Duchaine       10\n",
       "J Rosario           9\n",
       "M Badal             8\n",
       "F Geroux            8\n",
       "H Villa-Gomez       8\n",
       "D Stimpson          7\n",
       "H M Vanek           7\n",
       "J Castellano        6\n",
       "R Dacosta           5\n",
       "I Ortiz Jr          5\n",
       "J L Ortiz           5\n",
       "F Prat              4\n",
       "C Spataro           4\n",
       "P Morales           4\n",
       "B A Cheyne          4\n",
       "E S Prado           4\n",
       "R Zenteno Jr        3\n",
       "H F Newell          3\n",
       "J Valdivia Jr       3\n",
       "C H Marquez Jr      3\n",
       "R L Moore           2\n",
       "A Atzeni            2\n",
       "T Phillips          2\n",
       "G Rodriguez         2\n",
       "A Badel             2\n",
       "C P DeCarlo         2\n",
       "E T Baird           2\n",
       "J P Spencer         2\n",
       "U Rispoli           1\n",
       "R Albarado          1\n",
       "G Mosse             1\n",
       "S Pasquier          1\n",
       "W T Buick           1\n",
       "S Sanjur            1\n",
       "O Murphy            1\n",
       "K Robinson          1\n",
       "M Murrill           1\n",
       "J R Velazquez       1\n",
       "R Maragh            1\n",
       "A Cox               1\n",
       "D O'Neill           1\n",
       "M G Pino            1\n",
       "T B Rice            1\n",
       "D Davis             1\n",
       "Name: jockey, dtype: int64"
      ]
     },
     "execution_count": 22,
     "metadata": {},
     "output_type": "execute_result"
    },
    {
     "data": {
      "application/javascript": [
       "\n",
       "            setTimeout(function() {\n",
       "                var nbb_cell_id = 22;\n",
       "                var nbb_unformatted_code = \"df[\\\"jockey\\\"].value_counts()\";\n",
       "                var nbb_formatted_code = \"df[\\\"jockey\\\"].value_counts()\";\n",
       "                var nbb_cells = Jupyter.notebook.get_cells();\n",
       "                for (var i = 0; i < nbb_cells.length; ++i) {\n",
       "                    if (nbb_cells[i].input_prompt_number == nbb_cell_id) {\n",
       "                        if (nbb_cells[i].get_text() == nbb_unformatted_code) {\n",
       "                             nbb_cells[i].set_text(nbb_formatted_code);\n",
       "                        }\n",
       "                        break;\n",
       "                    }\n",
       "                }\n",
       "            }, 500);\n",
       "            "
      ],
      "text/plain": [
       "<IPython.core.display.Javascript object>"
      ]
     },
     "metadata": {},
     "output_type": "display_data"
    }
   ],
   "source": [
    "df[\"jockey\"].value_counts()"
   ]
  },
  {
   "cell_type": "code",
   "execution_count": 23,
   "metadata": {},
   "outputs": [
    {
     "data": {
      "text/plain": [
       "Casse Mark E                322\n",
       "Attard Kevin                214\n",
       "De Paulo Michael P          190\n",
       "McKnight Norman             171\n",
       "Doyle Michael J             165\n",
       "Gonzalez Nicholas           159\n",
       "Attard Sid C                150\n",
       "Vella Daniel J              146\n",
       "Tiller Robert P             142\n",
       "Brnjas Ashlee               129\n",
       "Baker Reade                 127\n",
       "Attfield Roger L            117\n",
       "Biamonte Ralph J            112\n",
       "Buttigieg Paul M            108\n",
       "McClachrie Denyse           101\n",
       "Cotey David                  95\n",
       "Mattine Michael              89\n",
       "Carroll Josie                89\n",
       "Drexler Martin               82\n",
       "Sadler Ronald H              78\n",
       "Tharrenos William            77\n",
       "Miller Blair A               76\n",
       "Nosowenko Nicholas           70\n",
       "Pierce Malcolm               69\n",
       "Fairlie Scott H              67\n",
       "Di Pasquale Sam              66\n",
       "Minshall Barbara J           65\n",
       "Simon Stuart C               64\n",
       "Banach Darwin D              64\n",
       "Mattine John                 62\n",
       "Day Phillips Catherine       61\n",
       "Armata Vito                  61\n",
       "Katryan Abraham R            60\n",
       "Armata W V                   60\n",
       "Burry Lisa                   57\n",
       "Gerl Robert                  56\n",
       "Black Ian                    53\n",
       "Fournier Mark                52\n",
       "Jolin Chris                  51\n",
       "Charalambous John            49\n",
       "Huarte Frank                 48\n",
       "Ross John A                  45\n",
       "Pion Sylvain                 44\n",
       "Attard Paul                  43\n",
       "Armata Ross                  43\n",
       "Gracey W Phillip             42\n",
       "Parente Pat                  42\n",
       "LeBlanc Jr Jr John P         42\n",
       "Halden Rachel                40\n",
       "Cardella John                40\n",
       "Silvera Laurie               40\n",
       "Griffith Ricky               39\n",
       "Rombis Debra E               39\n",
       "Dominguez Jr Ramon           38\n",
       "Keogh Michael                37\n",
       "Chircop Steven               36\n",
       "Bell David R                 36\n",
       "Rose Robert J                35\n",
       "Robinson Lorenzo             35\n",
       "Attard Tino                  35\n",
       "Perkins Lorna M              34\n",
       "Carey Julia                  34\n",
       "Smith Robert Charles         34\n",
       "Colbourne Gordon C           34\n",
       "Squires Nathan               33\n",
       "Ladouceur Harold             33\n",
       "Buntain Angus                33\n",
       "Birtch Daniel R              33\n",
       "Billers George               33\n",
       "Potts Jr Ron G               33\n",
       "Attard Jamie                 32\n",
       "Glennon Darren C             32\n",
       "Lopez Shana                  32\n",
       "Wright Michael W             32\n",
       "Attard Steve                 32\n",
       "Shafer Jennifer              31\n",
       "Vassilieva Katerina          31\n",
       "Ensom Jim                    31\n",
       "Patykewich Alexander P       30\n",
       "Owens Steve                  30\n",
       "Lynch Brian A                30\n",
       "Patton Kathy                 30\n",
       "Delmas Analisa M             29\n",
       "Grant Carlos                 29\n",
       "Keen Howard                  29\n",
       "Frostad Mark R               29\n",
       "Cappuccitti Larry            29\n",
       "Richards Lorne               28\n",
       "Cox Greg D                   27\n",
       "Wills Daniel                 27\n",
       "Dominguez Sandra             27\n",
       "Nixon Justin J               27\n",
       "Cox Gail                     26\n",
       "DeSouza Bancroft             26\n",
       "O'Callaghan Danny M          26\n",
       "McDonald Michael K           26\n",
       "Crook Alison                 26\n",
       "Fehr Alec                    26\n",
       "Drake Suzanne M              26\n",
       "Krcmar Zeljko                26\n",
       "Marrocco Jason               26\n",
       "Singh Ricky                  25\n",
       "Williams Mario               25\n",
       "Brooks Cary                  24\n",
       "Howard Ian                   24\n",
       "MacRae Donald C              23\n",
       "Maynard Desmond              23\n",
       "Chubb Beverley               22\n",
       "LeBlanc Warren               22\n",
       "Tracy Greg                   21\n",
       "England Deborah              21\n",
       "McPherson Alexander F        21\n",
       "Mesic Marko                  21\n",
       "Cole Krista                  21\n",
       "Berringer Peter              21\n",
       "Holder Renaldo               20\n",
       "Ferris Preston               19\n",
       "Neubauer Michaela            19\n",
       "Armata Jr Ross               19\n",
       "Seymour Gerald E             18\n",
       "Jones Roy C                  18\n",
       "Pottins Judith R             18\n",
       "Steve Chris                  17\n",
       "Polsinelli Dominic J         17\n",
       "Belhumeur Julie              17\n",
       "Love Michelle M              16\n",
       "Carston Lorna                15\n",
       "Barnett Robert Earl          15\n",
       "Smither Bruce R              15\n",
       "Ranford Kathryn              15\n",
       "Ezra Daryl G                 15\n",
       "Zita Danny                   14\n",
       "Regan Timothy                14\n",
       "Blouin Marc A                14\n",
       "Elder Elizabeth R            13\n",
       "Knight Edwin F               13\n",
       "Woods Ronald A               13\n",
       "Smith James J                13\n",
       "Crean Robert F               12\n",
       "Bennett Cole                 12\n",
       "Loney A Radlie               12\n",
       "Walls Joseph F               12\n",
       "Wilcox Warren                12\n",
       "Diodoro Robertino            11\n",
       "Abela Silvio                 11\n",
       "Samulak Julia A              11\n",
       "O'Keefe Thomas               11\n",
       "Callaghan Kelly L            11\n",
       "Fung Paul                    11\n",
       "Brown Chad C                 11\n",
       "Eshelman Bonnie              11\n",
       "Hinds Austin                 11\n",
       "Gentner Dorothy              10\n",
       "Wells-Scott N                10\n",
       "Hinckson Martin              10\n",
       "Maker Michael J              10\n",
       "Villeneuve Francine A        10\n",
       "Leslie Sue                   10\n",
       "Gonzalez Jr Nicholas J       10\n",
       "Belaire Conrad A             10\n",
       "Mott William I               10\n",
       "Armata Francesca             10\n",
       "Cathcart Steven              10\n",
       "Thompson Randy O             10\n",
       "Desruisseaux Dale A          10\n",
       "Iglar Joanna                 10\n",
       "Robillard Julie               9\n",
       "Capi Louis M                  9\n",
       "Denney Margaret               9\n",
       "England Phillip               8\n",
       "Hasmatali Daryl               8\n",
       "Fitzgerald Shelley E          8\n",
       "Chudobiak Gary                8\n",
       "Adamo Anthony                 8\n",
       "Davis Richard M               8\n",
       "Coryat John A                 8\n",
       "Gattellaro Tony Michael       8\n",
       "Thompson David Anthony        8\n",
       "McEwin Cathy A                8\n",
       "Ollivierre Sylvester          8\n",
       "Learn Shane                   8\n",
       "Newland George                7\n",
       "Schembri Albert               7\n",
       "Clement Christophe            7\n",
       "Wells Stephen R               7\n",
       "Mayers Amber                  7\n",
       "McMullen Marilyn G            7\n",
       "Dickinson Michael W           7\n",
       "Motion H Graham               7\n",
       "Murphy Conor                  7\n",
       "Desruisseaux Allen            7\n",
       "Miller Jr Henry M             7\n",
       "McHugh Saul                   7\n",
       "Hayes Breeda                  7\n",
       "Yu Danny                      6\n",
       "O'Connor David M              6\n",
       "Philpott Stephen              6\n",
       "Katryan Ken J                 5\n",
       "Kennedy Richard W             5\n",
       "Abraham Clint                 5\n",
       "Blake Michael J               5\n",
       "Borsk David                   5\n",
       "Walsh Ryan D                  5\n",
       "Greer Brandon Evan            5\n",
       "DeFrancesco Nando             5\n",
       "Giliforte Layne S             5\n",
       "Creer Jennifer                5\n",
       "Pollock Bruce M               5\n",
       "Bland Thomas                  5\n",
       "Attard Larry                  5\n",
       "Corrales Jose                 5\n",
       "Ward Wesley A                 4\n",
       "Robillard Joshua              4\n",
       "Fuoco Carlo                   4\n",
       "Loescher Paula                4\n",
       "Lough Jr Thomas               4\n",
       "Staples John                  4\n",
       "Thompson Valerie              4\n",
       "Rivelli Larry                 4\n",
       "Shirley Luthia                4\n",
       "Concessi Armand               4\n",
       "Harty Eoin G                  4\n",
       "Stidham Michael               4\n",
       "Hamm Timothy E                4\n",
       "Colebrook Ben                 3\n",
       "Cameron Anne                  3\n",
       "Gordon Cleveland A            3\n",
       "Morris Neil R                 3\n",
       "Delorey Laura                 3\n",
       "Wismer Troy S                 3\n",
       "Humber Joseph                 3\n",
       "Parro Sam                     3\n",
       "Walsh Brendan P               3\n",
       "McMahon William G             3\n",
       "Bond H James                  3\n",
       "Wright Jr Michael             3\n",
       "Buttigieg P J Bosco           3\n",
       "Cohen Michael V               3\n",
       "Bird Alan F                   3\n",
       "Goodlet Mark D                3\n",
       "Mohabir Chetram               2\n",
       "Englehart Jeremiah C          2\n",
       "Hoad Lindsey                  2\n",
       "Corbett Brian                 2\n",
       "Medina Santiago               2\n",
       "Weaver George                 2\n",
       "O'Connor Ray L                2\n",
       "Simms John                    2\n",
       "Rideout Shawn                 2\n",
       "Brueggemann Roger A           2\n",
       "Johnston Robert JW            2\n",
       "Alderson Anthony J            2\n",
       "Sharman Kyle                  2\n",
       "Walker Emily                  2\n",
       "O'Brien Aidan P               2\n",
       "Lynch Cathal A                2\n",
       "Pletcher Todd A               2\n",
       "Husbands Anthony              2\n",
       "McLaughlin Kiaran P           2\n",
       "De la cerda Armando           2\n",
       "Peery Chuck                   1\n",
       "Graffard Francis - Henri      1\n",
       "Stoute Sir Michael R          1\n",
       "Rohaut Francois               1\n",
       "Silva Carlos H                1\n",
       "Smith Andrew                  1\n",
       "Pottinger Anthony             1\n",
       "Cannizzo David A              1\n",
       "Kierans Renee D               1\n",
       "Lewars Michael                1\n",
       "Van Meter William B           1\n",
       "Drysdale Neil D               1\n",
       "Connelly Teresa               1\n",
       "Chapple-Hyam Peter W          1\n",
       "Rubley Kelly                  1\n",
       "Haggas William J              1\n",
       "Rice Kevin                    1\n",
       "Devin H F                     1\n",
       "Davis Liane P                 1\n",
       "Terranova II John P           1\n",
       "Graham Edward L               1\n",
       "Varian Roger                  1\n",
       "Giuliani Craig                1\n",
       "Ness Jamie                    1\n",
       "Williams Noel A               1\n",
       "Williamson Brian              1\n",
       "Pleterski Don                 1\n",
       "Caramori Eduardo C            1\n",
       "Albertrani Thomas             1\n",
       "Doumen Francois               1\n",
       "Walker Ed                     1\n",
       "Catalano Wayne M              1\n",
       "Hickst Waldemar               1\n",
       "Proctor Thomas F              1\n",
       "DiPaola Santino C             1\n",
       "Paterson Marjorie A           1\n",
       "Tyler Anthony A               1\n",
       "Benson Liam Daniel            1\n",
       "McNeely Frances               1\n",
       "Smaga David                   1\n",
       "Gosden John H M               1\n",
       "Rice Wayne W                  1\n",
       "Helmbrecht William R          1\n",
       "Carnegie Luke                 1\n",
       "Acorn Danny J                 1\n",
       "Hau Kai Wing                  1\n",
       "Cox Brad H                    1\n",
       "Simcock David                 1\n",
       "Wohler Andreas                1\n",
       "Keefe Timothy L               1\n",
       "Block Chris M                 1\n",
       "Scherer Richard R             1\n",
       "Channon Mick R                1\n",
       "Name: trainer, dtype: int64"
      ]
     },
     "execution_count": 23,
     "metadata": {},
     "output_type": "execute_result"
    },
    {
     "data": {
      "application/javascript": [
       "\n",
       "            setTimeout(function() {\n",
       "                var nbb_cell_id = 23;\n",
       "                var nbb_unformatted_code = \"df[\\\"trainer\\\"].value_counts()\";\n",
       "                var nbb_formatted_code = \"df[\\\"trainer\\\"].value_counts()\";\n",
       "                var nbb_cells = Jupyter.notebook.get_cells();\n",
       "                for (var i = 0; i < nbb_cells.length; ++i) {\n",
       "                    if (nbb_cells[i].input_prompt_number == nbb_cell_id) {\n",
       "                        if (nbb_cells[i].get_text() == nbb_unformatted_code) {\n",
       "                             nbb_cells[i].set_text(nbb_formatted_code);\n",
       "                        }\n",
       "                        break;\n",
       "                    }\n",
       "                }\n",
       "            }, 500);\n",
       "            "
      ],
      "text/plain": [
       "<IPython.core.display.Javascript object>"
      ]
     },
     "metadata": {},
     "output_type": "display_data"
    }
   ],
   "source": [
    "df[\"trainer\"].value_counts()"
   ]
  },
  {
   "cell_type": "code",
   "execution_count": 24,
   "metadata": {},
   "outputs": [
    {
     "data": {
      "text/plain": [
       "Colebrook Farms                                                              126\n",
       "Bruno Schickedanz                                                            112\n",
       "Chiefswood Stable                                                             90\n",
       "Joey Gee Thoroughbreds                                                        90\n",
       "Conquest Stables, LLC                                                         78\n",
       "                                                                            ... \n",
       "Racing In Front                                                                1\n",
       "Vanier Williamson Kiley Schmitt Radtke and Cartwright Thoroughbreds V LLC      1\n",
       "Khalifa A. Dasmal                                                              1\n",
       "Edward J. Hart                                                                 1\n",
       "Lee V Felts                                                                    1\n",
       "Name: owner, Length: 1062, dtype: int64"
      ]
     },
     "execution_count": 24,
     "metadata": {},
     "output_type": "execute_result"
    },
    {
     "data": {
      "application/javascript": [
       "\n",
       "            setTimeout(function() {\n",
       "                var nbb_cell_id = 24;\n",
       "                var nbb_unformatted_code = \"df[\\\"owner\\\"].value_counts()\";\n",
       "                var nbb_formatted_code = \"df[\\\"owner\\\"].value_counts()\";\n",
       "                var nbb_cells = Jupyter.notebook.get_cells();\n",
       "                for (var i = 0; i < nbb_cells.length; ++i) {\n",
       "                    if (nbb_cells[i].input_prompt_number == nbb_cell_id) {\n",
       "                        if (nbb_cells[i].get_text() == nbb_unformatted_code) {\n",
       "                             nbb_cells[i].set_text(nbb_formatted_code);\n",
       "                        }\n",
       "                        break;\n",
       "                    }\n",
       "                }\n",
       "            }, 500);\n",
       "            "
      ],
      "text/plain": [
       "<IPython.core.display.Javascript object>"
      ]
     },
     "metadata": {},
     "output_type": "display_data"
    }
   ],
   "source": [
    "df[\"owner\"].value_counts()"
   ]
  },
  {
   "cell_type": "code",
   "execution_count": 25,
   "metadata": {},
   "outputs": [
    {
     "data": {
      "text/plain": [
       "Cloudy     5960\n",
       "Clear       737\n",
       "Showery     508\n",
       "Rainy       217\n",
       "Hazy         78\n",
       "Snowing      22\n",
       "Name: weather, dtype: int64"
      ]
     },
     "execution_count": 25,
     "metadata": {},
     "output_type": "execute_result"
    },
    {
     "data": {
      "application/javascript": [
       "\n",
       "            setTimeout(function() {\n",
       "                var nbb_cell_id = 25;\n",
       "                var nbb_unformatted_code = \"df[\\\"weather\\\"].value_counts()\";\n",
       "                var nbb_formatted_code = \"df[\\\"weather\\\"].value_counts()\";\n",
       "                var nbb_cells = Jupyter.notebook.get_cells();\n",
       "                for (var i = 0; i < nbb_cells.length; ++i) {\n",
       "                    if (nbb_cells[i].input_prompt_number == nbb_cell_id) {\n",
       "                        if (nbb_cells[i].get_text() == nbb_unformatted_code) {\n",
       "                             nbb_cells[i].set_text(nbb_formatted_code);\n",
       "                        }\n",
       "                        break;\n",
       "                    }\n",
       "                }\n",
       "            }, 500);\n",
       "            "
      ],
      "text/plain": [
       "<IPython.core.display.Javascript object>"
      ]
     },
     "metadata": {},
     "output_type": "display_data"
    }
   ],
   "source": [
    "df[\"weather\"].value_counts()"
   ]
  },
  {
   "cell_type": "code",
   "execution_count": 26,
   "metadata": {},
   "outputs": [
    {
     "data": {
      "text/plain": [
       "Claiming                       2846\n",
       "Maiden Claiming                1423\n",
       "Allowance                      1094\n",
       "Maiden Special Weight           790\n",
       "Stakes                          716\n",
       "Allowance Optional Claiming     326\n",
       "Maiden Optional Claiming        190\n",
       "Starters Allowance              124\n",
       "Optional Claiming                13\n",
       "Name: race_type, dtype: int64"
      ]
     },
     "execution_count": 26,
     "metadata": {},
     "output_type": "execute_result"
    },
    {
     "data": {
      "application/javascript": [
       "\n",
       "            setTimeout(function() {\n",
       "                var nbb_cell_id = 26;\n",
       "                var nbb_unformatted_code = \"df[\\\"race_type\\\"].value_counts()\";\n",
       "                var nbb_formatted_code = \"df[\\\"race_type\\\"].value_counts()\";\n",
       "                var nbb_cells = Jupyter.notebook.get_cells();\n",
       "                for (var i = 0; i < nbb_cells.length; ++i) {\n",
       "                    if (nbb_cells[i].input_prompt_number == nbb_cell_id) {\n",
       "                        if (nbb_cells[i].get_text() == nbb_unformatted_code) {\n",
       "                             nbb_cells[i].set_text(nbb_formatted_code);\n",
       "                        }\n",
       "                        break;\n",
       "                    }\n",
       "                }\n",
       "            }, 500);\n",
       "            "
      ],
      "text/plain": [
       "<IPython.core.display.Javascript object>"
      ]
     },
     "metadata": {},
     "output_type": "display_data"
    }
   ],
   "source": [
    "df[\"race_type\"].value_counts()"
   ]
  },
  {
   "cell_type": "code",
   "execution_count": 27,
   "metadata": {},
   "outputs": [
    {
     "data": {
      "text/plain": [
       "FT    5852\n",
       "FM    1231\n",
       "GD     395\n",
       "YL      44\n",
       "Name: track_conditions, dtype: int64"
      ]
     },
     "execution_count": 27,
     "metadata": {},
     "output_type": "execute_result"
    },
    {
     "data": {
      "application/javascript": [
       "\n",
       "            setTimeout(function() {\n",
       "                var nbb_cell_id = 27;\n",
       "                var nbb_unformatted_code = \"df[\\\"track_conditions\\\"].value_counts()\";\n",
       "                var nbb_formatted_code = \"df[\\\"track_conditions\\\"].value_counts()\";\n",
       "                var nbb_cells = Jupyter.notebook.get_cells();\n",
       "                for (var i = 0; i < nbb_cells.length; ++i) {\n",
       "                    if (nbb_cells[i].input_prompt_number == nbb_cell_id) {\n",
       "                        if (nbb_cells[i].get_text() == nbb_unformatted_code) {\n",
       "                             nbb_cells[i].set_text(nbb_formatted_code);\n",
       "                        }\n",
       "                        break;\n",
       "                    }\n",
       "                }\n",
       "            }, 500);\n",
       "            "
      ],
      "text/plain": [
       "<IPython.core.display.Javascript object>"
      ]
     },
     "metadata": {},
     "output_type": "display_data"
    }
   ],
   "source": [
    "df[\"track_conditions\"].value_counts()"
   ]
  },
  {
   "cell_type": "code",
   "execution_count": null,
   "metadata": {},
   "outputs": [],
   "source": []
  },
  {
   "cell_type": "code",
   "execution_count": 28,
   "metadata": {},
   "outputs": [
    {
     "data": {
      "application/javascript": [
       "\n",
       "            setTimeout(function() {\n",
       "                var nbb_cell_id = 28;\n",
       "                var nbb_unformatted_code = \"# Fill out your column datatypes here\\nnum_cols = [\\\"weight\\\", \\\"age\\\", \\\"post_position\\\", \\\"claim_price\\\", \\\"speed_rating\\\", \\\"distance\\\"]\\n\\nbin_cols = [\\\"L\\\", \\\"b\\\", \\\"f\\\", \\\"r\\\", \\\"y\\\", \\\"v\\\", \\\"win\\\"]\\n\\ncat_cols = [\\n    \\\"sex\\\",\\n    \\\"jockey\\\",\\n    \\\"trainer\\\",\\n    \\\"owner\\\",\\n    \\\"weather\\\",\\n    \\\"race_type\\\",\\n    \\\"track_conditions\\\",\\n]\\ndrop_cats = [\\n    \\\"G\\\",\\n    \\\"E R Da Silva\\\",  # other_jockeys\\n    \\\"Casse Mark E\\\",  # other_trainers\\n    \\\"Colebrook Farms\\\",  # other_owners\\n    \\\"Cloudy\\\",\\n    \\\"Claiming\\\",\\n    \\\"FT\\\",\\n]\";\n",
       "                var nbb_formatted_code = \"# Fill out your column datatypes here\\nnum_cols = [\\\"weight\\\", \\\"age\\\", \\\"post_position\\\", \\\"claim_price\\\", \\\"speed_rating\\\", \\\"distance\\\"]\\n\\nbin_cols = [\\\"L\\\", \\\"b\\\", \\\"f\\\", \\\"r\\\", \\\"y\\\", \\\"v\\\", \\\"win\\\"]\\n\\ncat_cols = [\\n    \\\"sex\\\",\\n    \\\"jockey\\\",\\n    \\\"trainer\\\",\\n    \\\"owner\\\",\\n    \\\"weather\\\",\\n    \\\"race_type\\\",\\n    \\\"track_conditions\\\",\\n]\\ndrop_cats = [\\n    \\\"G\\\",\\n    \\\"E R Da Silva\\\",  # other_jockeys\\n    \\\"Casse Mark E\\\",  # other_trainers\\n    \\\"Colebrook Farms\\\",  # other_owners\\n    \\\"Cloudy\\\",\\n    \\\"Claiming\\\",\\n    \\\"FT\\\",\\n]\";\n",
       "                var nbb_cells = Jupyter.notebook.get_cells();\n",
       "                for (var i = 0; i < nbb_cells.length; ++i) {\n",
       "                    if (nbb_cells[i].input_prompt_number == nbb_cell_id) {\n",
       "                        if (nbb_cells[i].get_text() == nbb_unformatted_code) {\n",
       "                             nbb_cells[i].set_text(nbb_formatted_code);\n",
       "                        }\n",
       "                        break;\n",
       "                    }\n",
       "                }\n",
       "            }, 500);\n",
       "            "
      ],
      "text/plain": [
       "<IPython.core.display.Javascript object>"
      ]
     },
     "metadata": {},
     "output_type": "display_data"
    }
   ],
   "source": [
    "# Fill out your column datatypes here\n",
    "num_cols = [\"weight\", \"age\", \"post_position\", \"claim_price\", \"speed_rating\", \"distance\"]\n",
    "\n",
    "bin_cols = [\"L\", \"b\", \"f\", \"r\", \"y\", \"v\", \"win\"]\n",
    "\n",
    "cat_cols = [\n",
    "    \"sex\",\n",
    "    \"jockey\",\n",
    "    \"trainer\",\n",
    "    \"owner\",\n",
    "    \"weather\",\n",
    "    \"race_type\",\n",
    "    \"track_conditions\",\n",
    "]\n",
    "drop_cats = [\n",
    "    \"G\",\n",
    "    \"E R Da Silva\",  # other_jockeys\n",
    "    \"Casse Mark E\",  # other_trainers\n",
    "    \"Colebrook Farms\",  # other_owners\n",
    "    \"Cloudy\",\n",
    "    \"Claiming\",\n",
    "    \"FT\",\n",
    "]"
   ]
  },
  {
   "cell_type": "code",
   "execution_count": 29,
   "metadata": {},
   "outputs": [
    {
     "data": {
      "image/png": "[encoded data removed]",
      "text/plain": [
       "<Figure size 1260x1260 with 56 Axes>"
      ]
     },
     "metadata": {
      "needs_background": "light"
     },
     "output_type": "display_data"
    },
    {
     "data": {
      "application/javascript": [
       "\n",
       "            setTimeout(function() {\n",
       "                var nbb_cell_id = 29;\n",
       "                var nbb_unformatted_code = \"plot_cols = num_cols.copy()\\nplot_cols.append(\\\"win\\\")\\nsns.pairplot(df[plot_cols])\\nplt.show()\";\n",
       "                var nbb_formatted_code = \"plot_cols = num_cols.copy()\\nplot_cols.append(\\\"win\\\")\\nsns.pairplot(df[plot_cols])\\nplt.show()\";\n",
       "                var nbb_cells = Jupyter.notebook.get_cells();\n",
       "                for (var i = 0; i < nbb_cells.length; ++i) {\n",
       "                    if (nbb_cells[i].input_prompt_number == nbb_cell_id) {\n",
       "                        if (nbb_cells[i].get_text() == nbb_unformatted_code) {\n",
       "                             nbb_cells[i].set_text(nbb_formatted_code);\n",
       "                        }\n",
       "                        break;\n",
       "                    }\n",
       "                }\n",
       "            }, 500);\n",
       "            "
      ],
      "text/plain": [
       "<IPython.core.display.Javascript object>"
      ]
     },
     "metadata": {},
     "output_type": "display_data"
    }
   ],
   "source": [
    "plot_cols = num_cols.copy()\n",
    "plot_cols.append(\"win\")\n",
    "sns.pairplot(df[plot_cols])\n",
    "plt.show()"
   ]
  },
  {
   "cell_type": "code",
   "execution_count": 30,
   "metadata": {},
   "outputs": [
    {
     "data": {
      "application/javascript": [
       "\n",
       "            setTimeout(function() {\n",
       "                var nbb_cell_id = 30;\n",
       "                var nbb_unformatted_code = \"X = df.drop(\\\"win\\\", axis=1)\\ny = df[\\\"win\\\"]\";\n",
       "                var nbb_formatted_code = \"X = df.drop(\\\"win\\\", axis=1)\\ny = df[\\\"win\\\"]\";\n",
       "                var nbb_cells = Jupyter.notebook.get_cells();\n",
       "                for (var i = 0; i < nbb_cells.length; ++i) {\n",
       "                    if (nbb_cells[i].input_prompt_number == nbb_cell_id) {\n",
       "                        if (nbb_cells[i].get_text() == nbb_unformatted_code) {\n",
       "                             nbb_cells[i].set_text(nbb_formatted_code);\n",
       "                        }\n",
       "                        break;\n",
       "                    }\n",
       "                }\n",
       "            }, 500);\n",
       "            "
      ],
      "text/plain": [
       "<IPython.core.display.Javascript object>"
      ]
     },
     "metadata": {},
     "output_type": "display_data"
    }
   ],
   "source": [
    "X = df.drop(\"win\", axis=1)\n",
    "y = df[\"win\"]"
   ]
  },
  {
   "cell_type": "code",
   "execution_count": 31,
   "metadata": {},
   "outputs": [
    {
     "data": {
      "application/javascript": [
       "\n",
       "            setTimeout(function() {\n",
       "                var nbb_cell_id = 31;\n",
       "                var nbb_unformatted_code = \"X_train, X_test, y_train, y_test = train_test_split(\\n    X, y, test_size=0.2, random_state=13\\n)\";\n",
       "                var nbb_formatted_code = \"X_train, X_test, y_train, y_test = train_test_split(\\n    X, y, test_size=0.2, random_state=13\\n)\";\n",
       "                var nbb_cells = Jupyter.notebook.get_cells();\n",
       "                for (var i = 0; i < nbb_cells.length; ++i) {\n",
       "                    if (nbb_cells[i].input_prompt_number == nbb_cell_id) {\n",
       "                        if (nbb_cells[i].get_text() == nbb_unformatted_code) {\n",
       "                             nbb_cells[i].set_text(nbb_formatted_code);\n",
       "                        }\n",
       "                        break;\n",
       "                    }\n",
       "                }\n",
       "            }, 500);\n",
       "            "
      ],
      "text/plain": [
       "<IPython.core.display.Javascript object>"
      ]
     },
     "metadata": {},
     "output_type": "display_data"
    }
   ],
   "source": [
    "X_train, X_test, y_train, y_test = train_test_split(\n",
    "    X, y, test_size=0.2, random_state=13\n",
    ")"
   ]
  },
  {
   "cell_type": "code",
   "execution_count": 32,
   "metadata": {},
   "outputs": [
    {
     "data": {
      "application/javascript": [
       "\n",
       "            setTimeout(function() {\n",
       "                var nbb_cell_id = 32;\n",
       "                var nbb_unformatted_code = \"# fmt: off\\npreprocessing = ColumnTransformer([\\n    # Encode categories\\n    # Potentially use one of the 2 below options\\n    (\\\"OneHotEncoder\\\", OneHotEncoder(drop=drop_cats), cat_cols),\\n    # ('leaveoneoutencoder', LeaveOneOutEncoder(), cat_cols),\\n\\n    # Scale numeric columns\\n    # (not needed for all models but can't hurt)\\n    (\\\"scaler\\\", StandardScaler(), num_cols)\\n    # bin_cols we'll leave untouch\\n], remainder=\\\"passthrough\\\")\";\n",
       "                var nbb_formatted_code = \"# fmt: off\\npreprocessing = ColumnTransformer([\\n    # Encode categories\\n    # Potentially use one of the 2 below options\\n    (\\\"OneHotEncoder\\\", OneHotEncoder(drop=drop_cats), cat_cols),\\n    # ('leaveoneoutencoder', LeaveOneOutEncoder(), cat_cols),\\n\\n    # Scale numeric columns\\n    # (not needed for all models but can't hurt)\\n    (\\\"scaler\\\", StandardScaler(), num_cols)\\n    # bin_cols we'll leave untouch\\n], remainder=\\\"passthrough\\\")\";\n",
       "                var nbb_cells = Jupyter.notebook.get_cells();\n",
       "                for (var i = 0; i < nbb_cells.length; ++i) {\n",
       "                    if (nbb_cells[i].input_prompt_number == nbb_cell_id) {\n",
       "                        if (nbb_cells[i].get_text() == nbb_unformatted_code) {\n",
       "                             nbb_cells[i].set_text(nbb_formatted_code);\n",
       "                        }\n",
       "                        break;\n",
       "                    }\n",
       "                }\n",
       "            }, 500);\n",
       "            "
      ],
      "text/plain": [
       "<IPython.core.display.Javascript object>"
      ]
     },
     "metadata": {},
     "output_type": "display_data"
    }
   ],
   "source": [
    "# fmt: off\n",
    "preprocessing = ColumnTransformer([\n",
    "    # Encode categories\n",
    "    # Potentially use one of the 2 below options\n",
    "    (\"OneHotEncoder\", OneHotEncoder(drop=drop_cats), cat_cols),\n",
    "    # ('leaveoneoutencoder', LeaveOneOutEncoder(), cat_cols),\n",
    "\n",
    "    # Scale numeric columns\n",
    "    # (not needed for all models but can't hurt)\n",
    "    (\"scaler\", StandardScaler(), num_cols)\n",
    "    # bin_cols we'll leave untouch\n",
    "], remainder=\"passthrough\")"
   ]
  },
  {
   "cell_type": "code",
   "execution_count": 33,
   "metadata": {},
   "outputs": [
    {
     "data": {
      "application/javascript": [
       "\n",
       "            setTimeout(function() {\n",
       "                var nbb_cell_id = 33;\n",
       "                var nbb_unformatted_code = \"pipeline = Pipeline(\\n    [\\n        # Apply ColumnTransformer steps\\n        (\\\"preprocessing\\\", preprocessing),\\n        # Add other steps as desired\\n        # ('dim_reduction', PCA()),\\n        # ('feature_selection', SelectKBest()),\\n        # Choose your model and put it here\\n        (\\\"model\\\", RandomForestClassifier()),\\n    ]\\n)\";\n",
       "                var nbb_formatted_code = \"pipeline = Pipeline(\\n    [\\n        # Apply ColumnTransformer steps\\n        (\\\"preprocessing\\\", preprocessing),\\n        # Add other steps as desired\\n        # ('dim_reduction', PCA()),\\n        # ('feature_selection', SelectKBest()),\\n        # Choose your model and put it here\\n        (\\\"model\\\", RandomForestClassifier()),\\n    ]\\n)\";\n",
       "                var nbb_cells = Jupyter.notebook.get_cells();\n",
       "                for (var i = 0; i < nbb_cells.length; ++i) {\n",
       "                    if (nbb_cells[i].input_prompt_number == nbb_cell_id) {\n",
       "                        if (nbb_cells[i].get_text() == nbb_unformatted_code) {\n",
       "                             nbb_cells[i].set_text(nbb_formatted_code);\n",
       "                        }\n",
       "                        break;\n",
       "                    }\n",
       "                }\n",
       "            }, 500);\n",
       "            "
      ],
      "text/plain": [
       "<IPython.core.display.Javascript object>"
      ]
     },
     "metadata": {},
     "output_type": "display_data"
    }
   ],
   "source": [
    "pipeline = Pipeline(\n",
    "    [\n",
    "        # Apply ColumnTransformer steps\n",
    "        (\"preprocessing\", preprocessing),\n",
    "        # Add other steps as desired\n",
    "        # ('dim_reduction', PCA()),\n",
    "        # ('feature_selection', SelectKBest()),\n",
    "        # Choose your model and put it here\n",
    "        (\"model\", RandomForestClassifier()),\n",
    "    ]\n",
    ")"
   ]
  },
  {
   "cell_type": "code",
   "execution_count": 34,
   "metadata": {},
   "outputs": [
    {
     "data": {
      "application/javascript": [
       "\n",
       "            setTimeout(function() {\n",
       "                var nbb_cell_id = 34;\n",
       "                var nbb_unformatted_code = \"grid = {\\n    # Use model__ with hyperprammeter names after\\n    \\\"model__n_estimators\\\": [100, 150],\\n    # Add other hyperparameters to tune as desired\\n    # 'dim_reduction__n_components': [2, 3, 4]\\n}\\n# fmt: on\";\n",
       "                var nbb_formatted_code = \"grid = {\\n    # Use model__ with hyperprammeter names after\\n    \\\"model__n_estimators\\\": [100, 150],\\n    # Add other hyperparameters to tune as desired\\n    # 'dim_reduction__n_components': [2, 3, 4]\\n}\\n# fmt: on\";\n",
       "                var nbb_cells = Jupyter.notebook.get_cells();\n",
       "                for (var i = 0; i < nbb_cells.length; ++i) {\n",
       "                    if (nbb_cells[i].input_prompt_number == nbb_cell_id) {\n",
       "                        if (nbb_cells[i].get_text() == nbb_unformatted_code) {\n",
       "                             nbb_cells[i].set_text(nbb_formatted_code);\n",
       "                        }\n",
       "                        break;\n",
       "                    }\n",
       "                }\n",
       "            }, 500);\n",
       "            "
      ],
      "text/plain": [
       "<IPython.core.display.Javascript object>"
      ]
     },
     "metadata": {},
     "output_type": "display_data"
    }
   ],
   "source": [
    "grid = {\n",
    "    # Use model__ with hyperprammeter names after\n",
    "    \"model__n_estimators\": [100, 150],\n",
    "    # Add other hyperparameters to tune as desired\n",
    "    # 'dim_reduction__n_components': [2, 3, 4]\n",
    "}\n",
    "# fmt: on"
   ]
  },
  {
   "cell_type": "code",
   "execution_count": 35,
   "metadata": {},
   "outputs": [
    {
     "ename": "ValueError",
     "evalue": "Found unknown categories ['J R Velazquez', 'R L Moore', 'O Murphy'] in column 1 during transform",
     "output_type": "error",
     "traceback": [
      "\u001b[0;31m---------------------------------------------------------------------------\u001b[0m",
      "\u001b[0;31mValueError\u001b[0m                                Traceback (most recent call last)",
      "\u001b[0;32m<ipython-input-35-cd8ad5d5113d>\u001b[0m in \u001b[0;36m<module>\u001b[0;34m\u001b[0m\n\u001b[1;32m      1\u001b[0m \u001b[0mpipeline_cv\u001b[0m \u001b[0;34m=\u001b[0m \u001b[0mGridSearchCV\u001b[0m\u001b[0;34m(\u001b[0m\u001b[0mpipeline\u001b[0m\u001b[0;34m,\u001b[0m \u001b[0mgrid\u001b[0m\u001b[0;34m)\u001b[0m\u001b[0;34m\u001b[0m\u001b[0;34m\u001b[0m\u001b[0m\n\u001b[0;32m----> 2\u001b[0;31m \u001b[0mpipeline_cv\u001b[0m\u001b[0;34m.\u001b[0m\u001b[0mfit\u001b[0m\u001b[0;34m(\u001b[0m\u001b[0mX_train\u001b[0m\u001b[0;34m,\u001b[0m \u001b[0my_train\u001b[0m\u001b[0;34m)\u001b[0m\u001b[0;34m\u001b[0m\u001b[0;34m\u001b[0m\u001b[0m\n\u001b[0m\u001b[1;32m      3\u001b[0m \u001b[0;34m\u001b[0m\u001b[0m\n\u001b[1;32m      4\u001b[0m \u001b[0mprint\u001b[0m\u001b[0;34m(\u001b[0m\u001b[0;34mf\"Train score: {pipeline_cv.score(X_train, y_train):.4f}\"\u001b[0m\u001b[0;34m)\u001b[0m\u001b[0;34m\u001b[0m\u001b[0;34m\u001b[0m\u001b[0m\n\u001b[1;32m      5\u001b[0m \u001b[0mprint\u001b[0m\u001b[0;34m(\u001b[0m\u001b[0;34mf\"Test score: {pipeline_cv.score(X_test, y_test):.4f}\"\u001b[0m\u001b[0;34m)\u001b[0m\u001b[0;34m\u001b[0m\u001b[0;34m\u001b[0m\u001b[0m\n",
      "\u001b[0;32m/Applications/anaconda3/lib/python3.8/site-packages/sklearn/utils/validation.py\u001b[0m in \u001b[0;36minner_f\u001b[0;34m(*args, **kwargs)\u001b[0m\n\u001b[1;32m     71\u001b[0m                           FutureWarning)\n\u001b[1;32m     72\u001b[0m         \u001b[0mkwargs\u001b[0m\u001b[0;34m.\u001b[0m\u001b[0mupdate\u001b[0m\u001b[0;34m(\u001b[0m\u001b[0;34m{\u001b[0m\u001b[0mk\u001b[0m\u001b[0;34m:\u001b[0m \u001b[0marg\u001b[0m \u001b[0;32mfor\u001b[0m \u001b[0mk\u001b[0m\u001b[0;34m,\u001b[0m \u001b[0marg\u001b[0m \u001b[0;32min\u001b[0m \u001b[0mzip\u001b[0m\u001b[0;34m(\u001b[0m\u001b[0msig\u001b[0m\u001b[0;34m.\u001b[0m\u001b[0mparameters\u001b[0m\u001b[0;34m,\u001b[0m \u001b[0margs\u001b[0m\u001b[0;34m)\u001b[0m\u001b[0;34m}\u001b[0m\u001b[0;34m)\u001b[0m\u001b[0;34m\u001b[0m\u001b[0;34m\u001b[0m\u001b[0m\n\u001b[0;32m---> 73\u001b[0;31m         \u001b[0;32mreturn\u001b[0m \u001b[0mf\u001b[0m\u001b[0;34m(\u001b[0m\u001b[0;34m**\u001b[0m\u001b[0mkwargs\u001b[0m\u001b[0;34m)\u001b[0m\u001b[0;34m\u001b[0m\u001b[0;34m\u001b[0m\u001b[0m\n\u001b[0m\u001b[1;32m     74\u001b[0m     \u001b[0;32mreturn\u001b[0m \u001b[0minner_f\u001b[0m\u001b[0;34m\u001b[0m\u001b[0;34m\u001b[0m\u001b[0m\n\u001b[1;32m     75\u001b[0m \u001b[0;34m\u001b[0m\u001b[0m\n",
      "\u001b[0;32m/Applications/anaconda3/lib/python3.8/site-packages/sklearn/model_selection/_search.py\u001b[0m in \u001b[0;36mfit\u001b[0;34m(self, X, y, groups, **fit_params)\u001b[0m\n\u001b[1;32m    734\u001b[0m                 \u001b[0;32mreturn\u001b[0m \u001b[0mresults\u001b[0m\u001b[0;34m\u001b[0m\u001b[0;34m\u001b[0m\u001b[0m\n\u001b[1;32m    735\u001b[0m \u001b[0;34m\u001b[0m\u001b[0m\n\u001b[0;32m--> 736\u001b[0;31m             \u001b[0mself\u001b[0m\u001b[0;34m.\u001b[0m\u001b[0m_run_search\u001b[0m\u001b[0;34m(\u001b[0m\u001b[0mevaluate_candidates\u001b[0m\u001b[0;34m)\u001b[0m\u001b[0;34m\u001b[0m\u001b[0;34m\u001b[0m\u001b[0m\n\u001b[0m\u001b[1;32m    737\u001b[0m \u001b[0;34m\u001b[0m\u001b[0m\n\u001b[1;32m    738\u001b[0m         \u001b[0;31m# For multi-metric evaluation, store the best_index_, best_params_ and\u001b[0m\u001b[0;34m\u001b[0m\u001b[0;34m\u001b[0m\u001b[0;34m\u001b[0m\u001b[0m\n",
      "\u001b[0;32m/Applications/anaconda3/lib/python3.8/site-packages/sklearn/model_selection/_search.py\u001b[0m in \u001b[0;36m_run_search\u001b[0;34m(self, evaluate_candidates)\u001b[0m\n\u001b[1;32m   1186\u001b[0m     \u001b[0;32mdef\u001b[0m \u001b[0m_run_search\u001b[0m\u001b[0;34m(\u001b[0m\u001b[0mself\u001b[0m\u001b[0;34m,\u001b[0m \u001b[0mevaluate_candidates\u001b[0m\u001b[0;34m)\u001b[0m\u001b[0;34m:\u001b[0m\u001b[0;34m\u001b[0m\u001b[0;34m\u001b[0m\u001b[0m\n\u001b[1;32m   1187\u001b[0m         \u001b[0;34m\"\"\"Search all candidates in param_grid\"\"\"\u001b[0m\u001b[0;34m\u001b[0m\u001b[0;34m\u001b[0m\u001b[0m\n\u001b[0;32m-> 1188\u001b[0;31m         \u001b[0mevaluate_candidates\u001b[0m\u001b[0;34m(\u001b[0m\u001b[0mParameterGrid\u001b[0m\u001b[0;34m(\u001b[0m\u001b[0mself\u001b[0m\u001b[0;34m.\u001b[0m\u001b[0mparam_grid\u001b[0m\u001b[0;34m)\u001b[0m\u001b[0;34m)\u001b[0m\u001b[0;34m\u001b[0m\u001b[0;34m\u001b[0m\u001b[0m\n\u001b[0m\u001b[1;32m   1189\u001b[0m \u001b[0;34m\u001b[0m\u001b[0m\n\u001b[1;32m   1190\u001b[0m \u001b[0;34m\u001b[0m\u001b[0m\n",
      "\u001b[0;32m/Applications/anaconda3/lib/python3.8/site-packages/sklearn/model_selection/_search.py\u001b[0m in \u001b[0;36mevaluate_candidates\u001b[0;34m(candidate_params)\u001b[0m\n\u001b[1;32m    706\u001b[0m                               n_splits, n_candidates, n_candidates * n_splits))\n\u001b[1;32m    707\u001b[0m \u001b[0;34m\u001b[0m\u001b[0m\n\u001b[0;32m--> 708\u001b[0;31m                 out = parallel(delayed(_fit_and_score)(clone(base_estimator),\n\u001b[0m\u001b[1;32m    709\u001b[0m                                                        \u001b[0mX\u001b[0m\u001b[0;34m,\u001b[0m \u001b[0my\u001b[0m\u001b[0;34m,\u001b[0m\u001b[0;34m\u001b[0m\u001b[0;34m\u001b[0m\u001b[0m\n\u001b[1;32m    710\u001b[0m                                                        \u001b[0mtrain\u001b[0m\u001b[0;34m=\u001b[0m\u001b[0mtrain\u001b[0m\u001b[0;34m,\u001b[0m \u001b[0mtest\u001b[0m\u001b[0;34m=\u001b[0m\u001b[0mtest\u001b[0m\u001b[0;34m,\u001b[0m\u001b[0;34m\u001b[0m\u001b[0;34m\u001b[0m\u001b[0m\n",
      "\u001b[0;32m/Applications/anaconda3/lib/python3.8/site-packages/joblib/parallel.py\u001b[0m in \u001b[0;36m__call__\u001b[0;34m(self, iterable)\u001b[0m\n\u001b[1;32m   1027\u001b[0m             \u001b[0;31m# remaining jobs.\u001b[0m\u001b[0;34m\u001b[0m\u001b[0;34m\u001b[0m\u001b[0;34m\u001b[0m\u001b[0m\n\u001b[1;32m   1028\u001b[0m             \u001b[0mself\u001b[0m\u001b[0;34m.\u001b[0m\u001b[0m_iterating\u001b[0m \u001b[0;34m=\u001b[0m \u001b[0;32mFalse\u001b[0m\u001b[0;34m\u001b[0m\u001b[0;34m\u001b[0m\u001b[0m\n\u001b[0;32m-> 1029\u001b[0;31m             \u001b[0;32mif\u001b[0m \u001b[0mself\u001b[0m\u001b[0;34m.\u001b[0m\u001b[0mdispatch_one_batch\u001b[0m\u001b[0;34m(\u001b[0m\u001b[0miterator\u001b[0m\u001b[0;34m)\u001b[0m\u001b[0;34m:\u001b[0m\u001b[0;34m\u001b[0m\u001b[0;34m\u001b[0m\u001b[0m\n\u001b[0m\u001b[1;32m   1030\u001b[0m                 \u001b[0mself\u001b[0m\u001b[0;34m.\u001b[0m\u001b[0m_iterating\u001b[0m \u001b[0;34m=\u001b[0m \u001b[0mself\u001b[0m\u001b[0;34m.\u001b[0m\u001b[0m_original_iterator\u001b[0m \u001b[0;32mis\u001b[0m \u001b[0;32mnot\u001b[0m \u001b[0;32mNone\u001b[0m\u001b[0;34m\u001b[0m\u001b[0;34m\u001b[0m\u001b[0m\n\u001b[1;32m   1031\u001b[0m \u001b[0;34m\u001b[0m\u001b[0m\n",
      "\u001b[0;32m/Applications/anaconda3/lib/python3.8/site-packages/joblib/parallel.py\u001b[0m in \u001b[0;36mdispatch_one_batch\u001b[0;34m(self, iterator)\u001b[0m\n\u001b[1;32m    845\u001b[0m                 \u001b[0;32mreturn\u001b[0m \u001b[0;32mFalse\u001b[0m\u001b[0;34m\u001b[0m\u001b[0;34m\u001b[0m\u001b[0m\n\u001b[1;32m    846\u001b[0m             \u001b[0;32melse\u001b[0m\u001b[0;34m:\u001b[0m\u001b[0;34m\u001b[0m\u001b[0;34m\u001b[0m\u001b[0m\n\u001b[0;32m--> 847\u001b[0;31m                 \u001b[0mself\u001b[0m\u001b[0;34m.\u001b[0m\u001b[0m_dispatch\u001b[0m\u001b[0;34m(\u001b[0m\u001b[0mtasks\u001b[0m\u001b[0;34m)\u001b[0m\u001b[0;34m\u001b[0m\u001b[0;34m\u001b[0m\u001b[0m\n\u001b[0m\u001b[1;32m    848\u001b[0m                 \u001b[0;32mreturn\u001b[0m \u001b[0;32mTrue\u001b[0m\u001b[0;34m\u001b[0m\u001b[0;34m\u001b[0m\u001b[0m\n\u001b[1;32m    849\u001b[0m \u001b[0;34m\u001b[0m\u001b[0m\n",
      "\u001b[0;32m/Applications/anaconda3/lib/python3.8/site-packages/joblib/parallel.py\u001b[0m in \u001b[0;36m_dispatch\u001b[0;34m(self, batch)\u001b[0m\n\u001b[1;32m    763\u001b[0m         \u001b[0;32mwith\u001b[0m \u001b[0mself\u001b[0m\u001b[0;34m.\u001b[0m\u001b[0m_lock\u001b[0m\u001b[0;34m:\u001b[0m\u001b[0;34m\u001b[0m\u001b[0;34m\u001b[0m\u001b[0m\n\u001b[1;32m    764\u001b[0m             \u001b[0mjob_idx\u001b[0m \u001b[0;34m=\u001b[0m \u001b[0mlen\u001b[0m\u001b[0;34m(\u001b[0m\u001b[0mself\u001b[0m\u001b[0;34m.\u001b[0m\u001b[0m_jobs\u001b[0m\u001b[0;34m)\u001b[0m\u001b[0;34m\u001b[0m\u001b[0;34m\u001b[0m\u001b[0m\n\u001b[0;32m--> 765\u001b[0;31m             \u001b[0mjob\u001b[0m \u001b[0;34m=\u001b[0m \u001b[0mself\u001b[0m\u001b[0;34m.\u001b[0m\u001b[0m_backend\u001b[0m\u001b[0;34m.\u001b[0m\u001b[0mapply_async\u001b[0m\u001b[0;34m(\u001b[0m\u001b[0mbatch\u001b[0m\u001b[0;34m,\u001b[0m \u001b[0mcallback\u001b[0m\u001b[0;34m=\u001b[0m\u001b[0mcb\u001b[0m\u001b[0;34m)\u001b[0m\u001b[0;34m\u001b[0m\u001b[0;34m\u001b[0m\u001b[0m\n\u001b[0m\u001b[1;32m    766\u001b[0m             \u001b[0;31m# A job can complete so quickly than its callback is\u001b[0m\u001b[0;34m\u001b[0m\u001b[0;34m\u001b[0m\u001b[0;34m\u001b[0m\u001b[0m\n\u001b[1;32m    767\u001b[0m             \u001b[0;31m# called before we get here, causing self._jobs to\u001b[0m\u001b[0;34m\u001b[0m\u001b[0;34m\u001b[0m\u001b[0;34m\u001b[0m\u001b[0m\n",
      "\u001b[0;32m/Applications/anaconda3/lib/python3.8/site-packages/joblib/_parallel_backends.py\u001b[0m in \u001b[0;36mapply_async\u001b[0;34m(self, func, callback)\u001b[0m\n\u001b[1;32m    206\u001b[0m     \u001b[0;32mdef\u001b[0m \u001b[0mapply_async\u001b[0m\u001b[0;34m(\u001b[0m\u001b[0mself\u001b[0m\u001b[0;34m,\u001b[0m \u001b[0mfunc\u001b[0m\u001b[0;34m,\u001b[0m \u001b[0mcallback\u001b[0m\u001b[0;34m=\u001b[0m\u001b[0;32mNone\u001b[0m\u001b[0;34m)\u001b[0m\u001b[0;34m:\u001b[0m\u001b[0;34m\u001b[0m\u001b[0;34m\u001b[0m\u001b[0m\n\u001b[1;32m    207\u001b[0m         \u001b[0;34m\"\"\"Schedule a func to be run\"\"\"\u001b[0m\u001b[0;34m\u001b[0m\u001b[0;34m\u001b[0m\u001b[0m\n\u001b[0;32m--> 208\u001b[0;31m         \u001b[0mresult\u001b[0m \u001b[0;34m=\u001b[0m \u001b[0mImmediateResult\u001b[0m\u001b[0;34m(\u001b[0m\u001b[0mfunc\u001b[0m\u001b[0;34m)\u001b[0m\u001b[0;34m\u001b[0m\u001b[0;34m\u001b[0m\u001b[0m\n\u001b[0m\u001b[1;32m    209\u001b[0m         \u001b[0;32mif\u001b[0m \u001b[0mcallback\u001b[0m\u001b[0;34m:\u001b[0m\u001b[0;34m\u001b[0m\u001b[0;34m\u001b[0m\u001b[0m\n\u001b[1;32m    210\u001b[0m             \u001b[0mcallback\u001b[0m\u001b[0;34m(\u001b[0m\u001b[0mresult\u001b[0m\u001b[0;34m)\u001b[0m\u001b[0;34m\u001b[0m\u001b[0;34m\u001b[0m\u001b[0m\n",
      "\u001b[0;32m/Applications/anaconda3/lib/python3.8/site-packages/joblib/_parallel_backends.py\u001b[0m in \u001b[0;36m__init__\u001b[0;34m(self, batch)\u001b[0m\n\u001b[1;32m    570\u001b[0m         \u001b[0;31m# Don't delay the application, to avoid keeping the input\u001b[0m\u001b[0;34m\u001b[0m\u001b[0;34m\u001b[0m\u001b[0;34m\u001b[0m\u001b[0m\n\u001b[1;32m    571\u001b[0m         \u001b[0;31m# arguments in memory\u001b[0m\u001b[0;34m\u001b[0m\u001b[0;34m\u001b[0m\u001b[0;34m\u001b[0m\u001b[0m\n\u001b[0;32m--> 572\u001b[0;31m         \u001b[0mself\u001b[0m\u001b[0;34m.\u001b[0m\u001b[0mresults\u001b[0m \u001b[0;34m=\u001b[0m \u001b[0mbatch\u001b[0m\u001b[0;34m(\u001b[0m\u001b[0;34m)\u001b[0m\u001b[0;34m\u001b[0m\u001b[0;34m\u001b[0m\u001b[0m\n\u001b[0m\u001b[1;32m    573\u001b[0m \u001b[0;34m\u001b[0m\u001b[0m\n\u001b[1;32m    574\u001b[0m     \u001b[0;32mdef\u001b[0m \u001b[0mget\u001b[0m\u001b[0;34m(\u001b[0m\u001b[0mself\u001b[0m\u001b[0;34m)\u001b[0m\u001b[0;34m:\u001b[0m\u001b[0;34m\u001b[0m\u001b[0;34m\u001b[0m\u001b[0m\n",
      "\u001b[0;32m/Applications/anaconda3/lib/python3.8/site-packages/joblib/parallel.py\u001b[0m in \u001b[0;36m__call__\u001b[0;34m(self)\u001b[0m\n\u001b[1;32m    250\u001b[0m         \u001b[0;31m# change the default number of processes to -1\u001b[0m\u001b[0;34m\u001b[0m\u001b[0;34m\u001b[0m\u001b[0;34m\u001b[0m\u001b[0m\n\u001b[1;32m    251\u001b[0m         \u001b[0;32mwith\u001b[0m \u001b[0mparallel_backend\u001b[0m\u001b[0;34m(\u001b[0m\u001b[0mself\u001b[0m\u001b[0;34m.\u001b[0m\u001b[0m_backend\u001b[0m\u001b[0;34m,\u001b[0m \u001b[0mn_jobs\u001b[0m\u001b[0;34m=\u001b[0m\u001b[0mself\u001b[0m\u001b[0;34m.\u001b[0m\u001b[0m_n_jobs\u001b[0m\u001b[0;34m)\u001b[0m\u001b[0;34m:\u001b[0m\u001b[0;34m\u001b[0m\u001b[0;34m\u001b[0m\u001b[0m\n\u001b[0;32m--> 252\u001b[0;31m             return [func(*args, **kwargs)\n\u001b[0m\u001b[1;32m    253\u001b[0m                     for func, args, kwargs in self.items]\n\u001b[1;32m    254\u001b[0m \u001b[0;34m\u001b[0m\u001b[0m\n",
      "\u001b[0;32m/Applications/anaconda3/lib/python3.8/site-packages/joblib/parallel.py\u001b[0m in \u001b[0;36m<listcomp>\u001b[0;34m(.0)\u001b[0m\n\u001b[1;32m    250\u001b[0m         \u001b[0;31m# change the default number of processes to -1\u001b[0m\u001b[0;34m\u001b[0m\u001b[0;34m\u001b[0m\u001b[0;34m\u001b[0m\u001b[0m\n\u001b[1;32m    251\u001b[0m         \u001b[0;32mwith\u001b[0m \u001b[0mparallel_backend\u001b[0m\u001b[0;34m(\u001b[0m\u001b[0mself\u001b[0m\u001b[0;34m.\u001b[0m\u001b[0m_backend\u001b[0m\u001b[0;34m,\u001b[0m \u001b[0mn_jobs\u001b[0m\u001b[0;34m=\u001b[0m\u001b[0mself\u001b[0m\u001b[0;34m.\u001b[0m\u001b[0m_n_jobs\u001b[0m\u001b[0;34m)\u001b[0m\u001b[0;34m:\u001b[0m\u001b[0;34m\u001b[0m\u001b[0;34m\u001b[0m\u001b[0m\n\u001b[0;32m--> 252\u001b[0;31m             return [func(*args, **kwargs)\n\u001b[0m\u001b[1;32m    253\u001b[0m                     for func, args, kwargs in self.items]\n\u001b[1;32m    254\u001b[0m \u001b[0;34m\u001b[0m\u001b[0m\n",
      "\u001b[0;32m/Applications/anaconda3/lib/python3.8/site-packages/sklearn/model_selection/_validation.py\u001b[0m in \u001b[0;36m_fit_and_score\u001b[0;34m(estimator, X, y, scorer, train, test, verbose, parameters, fit_params, return_train_score, return_parameters, return_n_test_samples, return_times, return_estimator, error_score)\u001b[0m\n\u001b[1;32m    558\u001b[0m     \u001b[0;32melse\u001b[0m\u001b[0;34m:\u001b[0m\u001b[0;34m\u001b[0m\u001b[0;34m\u001b[0m\u001b[0m\n\u001b[1;32m    559\u001b[0m         \u001b[0mfit_time\u001b[0m \u001b[0;34m=\u001b[0m \u001b[0mtime\u001b[0m\u001b[0;34m.\u001b[0m\u001b[0mtime\u001b[0m\u001b[0;34m(\u001b[0m\u001b[0;34m)\u001b[0m \u001b[0;34m-\u001b[0m \u001b[0mstart_time\u001b[0m\u001b[0;34m\u001b[0m\u001b[0;34m\u001b[0m\u001b[0m\n\u001b[0;32m--> 560\u001b[0;31m         \u001b[0mtest_scores\u001b[0m \u001b[0;34m=\u001b[0m \u001b[0m_score\u001b[0m\u001b[0;34m(\u001b[0m\u001b[0mestimator\u001b[0m\u001b[0;34m,\u001b[0m \u001b[0mX_test\u001b[0m\u001b[0;34m,\u001b[0m \u001b[0my_test\u001b[0m\u001b[0;34m,\u001b[0m \u001b[0mscorer\u001b[0m\u001b[0;34m)\u001b[0m\u001b[0;34m\u001b[0m\u001b[0;34m\u001b[0m\u001b[0m\n\u001b[0m\u001b[1;32m    561\u001b[0m         \u001b[0mscore_time\u001b[0m \u001b[0;34m=\u001b[0m \u001b[0mtime\u001b[0m\u001b[0;34m.\u001b[0m\u001b[0mtime\u001b[0m\u001b[0;34m(\u001b[0m\u001b[0;34m)\u001b[0m \u001b[0;34m-\u001b[0m \u001b[0mstart_time\u001b[0m \u001b[0;34m-\u001b[0m \u001b[0mfit_time\u001b[0m\u001b[0;34m\u001b[0m\u001b[0;34m\u001b[0m\u001b[0m\n\u001b[1;32m    562\u001b[0m         \u001b[0;32mif\u001b[0m \u001b[0mreturn_train_score\u001b[0m\u001b[0;34m:\u001b[0m\u001b[0;34m\u001b[0m\u001b[0;34m\u001b[0m\u001b[0m\n",
      "\u001b[0;32m/Applications/anaconda3/lib/python3.8/site-packages/sklearn/model_selection/_validation.py\u001b[0m in \u001b[0;36m_score\u001b[0;34m(estimator, X_test, y_test, scorer)\u001b[0m\n\u001b[1;32m    605\u001b[0m         \u001b[0mscores\u001b[0m \u001b[0;34m=\u001b[0m \u001b[0mscorer\u001b[0m\u001b[0;34m(\u001b[0m\u001b[0mestimator\u001b[0m\u001b[0;34m,\u001b[0m \u001b[0mX_test\u001b[0m\u001b[0;34m)\u001b[0m\u001b[0;34m\u001b[0m\u001b[0;34m\u001b[0m\u001b[0m\n\u001b[1;32m    606\u001b[0m     \u001b[0;32melse\u001b[0m\u001b[0;34m:\u001b[0m\u001b[0;34m\u001b[0m\u001b[0;34m\u001b[0m\u001b[0m\n\u001b[0;32m--> 607\u001b[0;31m         \u001b[0mscores\u001b[0m \u001b[0;34m=\u001b[0m \u001b[0mscorer\u001b[0m\u001b[0;34m(\u001b[0m\u001b[0mestimator\u001b[0m\u001b[0;34m,\u001b[0m \u001b[0mX_test\u001b[0m\u001b[0;34m,\u001b[0m \u001b[0my_test\u001b[0m\u001b[0;34m)\u001b[0m\u001b[0;34m\u001b[0m\u001b[0;34m\u001b[0m\u001b[0m\n\u001b[0m\u001b[1;32m    608\u001b[0m \u001b[0;34m\u001b[0m\u001b[0m\n\u001b[1;32m    609\u001b[0m     error_msg = (\"scoring must return a number, got %s (%s) \"\n",
      "\u001b[0;32m/Applications/anaconda3/lib/python3.8/site-packages/sklearn/metrics/_scorer.py\u001b[0m in \u001b[0;36m__call__\u001b[0;34m(self, estimator, *args, **kwargs)\u001b[0m\n\u001b[1;32m     88\u001b[0m                                       *args, **kwargs)\n\u001b[1;32m     89\u001b[0m             \u001b[0;32melse\u001b[0m\u001b[0;34m:\u001b[0m\u001b[0;34m\u001b[0m\u001b[0;34m\u001b[0m\u001b[0m\n\u001b[0;32m---> 90\u001b[0;31m                 \u001b[0mscore\u001b[0m \u001b[0;34m=\u001b[0m \u001b[0mscorer\u001b[0m\u001b[0;34m(\u001b[0m\u001b[0mestimator\u001b[0m\u001b[0;34m,\u001b[0m \u001b[0;34m*\u001b[0m\u001b[0margs\u001b[0m\u001b[0;34m,\u001b[0m \u001b[0;34m**\u001b[0m\u001b[0mkwargs\u001b[0m\u001b[0;34m)\u001b[0m\u001b[0;34m\u001b[0m\u001b[0;34m\u001b[0m\u001b[0m\n\u001b[0m\u001b[1;32m     91\u001b[0m             \u001b[0mscores\u001b[0m\u001b[0;34m[\u001b[0m\u001b[0mname\u001b[0m\u001b[0;34m]\u001b[0m \u001b[0;34m=\u001b[0m \u001b[0mscore\u001b[0m\u001b[0;34m\u001b[0m\u001b[0;34m\u001b[0m\u001b[0m\n\u001b[1;32m     92\u001b[0m         \u001b[0;32mreturn\u001b[0m \u001b[0mscores\u001b[0m\u001b[0;34m\u001b[0m\u001b[0;34m\u001b[0m\u001b[0m\n",
      "\u001b[0;32m/Applications/anaconda3/lib/python3.8/site-packages/sklearn/metrics/_scorer.py\u001b[0m in \u001b[0;36m_passthrough_scorer\u001b[0;34m(estimator, *args, **kwargs)\u001b[0m\n\u001b[1;32m    370\u001b[0m \u001b[0;32mdef\u001b[0m \u001b[0m_passthrough_scorer\u001b[0m\u001b[0;34m(\u001b[0m\u001b[0mestimator\u001b[0m\u001b[0;34m,\u001b[0m \u001b[0;34m*\u001b[0m\u001b[0margs\u001b[0m\u001b[0;34m,\u001b[0m \u001b[0;34m**\u001b[0m\u001b[0mkwargs\u001b[0m\u001b[0;34m)\u001b[0m\u001b[0;34m:\u001b[0m\u001b[0;34m\u001b[0m\u001b[0;34m\u001b[0m\u001b[0m\n\u001b[1;32m    371\u001b[0m     \u001b[0;34m\"\"\"Function that wraps estimator.score\"\"\"\u001b[0m\u001b[0;34m\u001b[0m\u001b[0;34m\u001b[0m\u001b[0m\n\u001b[0;32m--> 372\u001b[0;31m     \u001b[0;32mreturn\u001b[0m \u001b[0mestimator\u001b[0m\u001b[0;34m.\u001b[0m\u001b[0mscore\u001b[0m\u001b[0;34m(\u001b[0m\u001b[0;34m*\u001b[0m\u001b[0margs\u001b[0m\u001b[0;34m,\u001b[0m \u001b[0;34m**\u001b[0m\u001b[0mkwargs\u001b[0m\u001b[0;34m)\u001b[0m\u001b[0;34m\u001b[0m\u001b[0;34m\u001b[0m\u001b[0m\n\u001b[0m\u001b[1;32m    373\u001b[0m \u001b[0;34m\u001b[0m\u001b[0m\n\u001b[1;32m    374\u001b[0m \u001b[0;34m\u001b[0m\u001b[0m\n",
      "\u001b[0;32m/Applications/anaconda3/lib/python3.8/site-packages/sklearn/utils/metaestimators.py\u001b[0m in \u001b[0;36m<lambda>\u001b[0;34m(*args, **kwargs)\u001b[0m\n\u001b[1;32m    117\u001b[0m \u001b[0;34m\u001b[0m\u001b[0m\n\u001b[1;32m    118\u001b[0m         \u001b[0;31m# lambda, but not partial, allows help() to work with update_wrapper\u001b[0m\u001b[0;34m\u001b[0m\u001b[0;34m\u001b[0m\u001b[0;34m\u001b[0m\u001b[0m\n\u001b[0;32m--> 119\u001b[0;31m         \u001b[0mout\u001b[0m \u001b[0;34m=\u001b[0m \u001b[0;32mlambda\u001b[0m \u001b[0;34m*\u001b[0m\u001b[0margs\u001b[0m\u001b[0;34m,\u001b[0m \u001b[0;34m**\u001b[0m\u001b[0mkwargs\u001b[0m\u001b[0;34m:\u001b[0m \u001b[0mself\u001b[0m\u001b[0;34m.\u001b[0m\u001b[0mfn\u001b[0m\u001b[0;34m(\u001b[0m\u001b[0mobj\u001b[0m\u001b[0;34m,\u001b[0m \u001b[0;34m*\u001b[0m\u001b[0margs\u001b[0m\u001b[0;34m,\u001b[0m \u001b[0;34m**\u001b[0m\u001b[0mkwargs\u001b[0m\u001b[0;34m)\u001b[0m\u001b[0;34m\u001b[0m\u001b[0;34m\u001b[0m\u001b[0m\n\u001b[0m\u001b[1;32m    120\u001b[0m         \u001b[0;31m# update the docstring of the returned function\u001b[0m\u001b[0;34m\u001b[0m\u001b[0;34m\u001b[0m\u001b[0;34m\u001b[0m\u001b[0m\n\u001b[1;32m    121\u001b[0m         \u001b[0mupdate_wrapper\u001b[0m\u001b[0;34m(\u001b[0m\u001b[0mout\u001b[0m\u001b[0;34m,\u001b[0m \u001b[0mself\u001b[0m\u001b[0;34m.\u001b[0m\u001b[0mfn\u001b[0m\u001b[0;34m)\u001b[0m\u001b[0;34m\u001b[0m\u001b[0;34m\u001b[0m\u001b[0m\n",
      "\u001b[0;32m/Applications/anaconda3/lib/python3.8/site-packages/sklearn/pipeline.py\u001b[0m in \u001b[0;36mscore\u001b[0;34m(self, X, y, sample_weight)\u001b[0m\n\u001b[1;32m    605\u001b[0m         \u001b[0mXt\u001b[0m \u001b[0;34m=\u001b[0m \u001b[0mX\u001b[0m\u001b[0;34m\u001b[0m\u001b[0;34m\u001b[0m\u001b[0m\n\u001b[1;32m    606\u001b[0m         \u001b[0;32mfor\u001b[0m \u001b[0m_\u001b[0m\u001b[0;34m,\u001b[0m \u001b[0mname\u001b[0m\u001b[0;34m,\u001b[0m \u001b[0mtransform\u001b[0m \u001b[0;32min\u001b[0m \u001b[0mself\u001b[0m\u001b[0;34m.\u001b[0m\u001b[0m_iter\u001b[0m\u001b[0;34m(\u001b[0m\u001b[0mwith_final\u001b[0m\u001b[0;34m=\u001b[0m\u001b[0;32mFalse\u001b[0m\u001b[0;34m)\u001b[0m\u001b[0;34m:\u001b[0m\u001b[0;34m\u001b[0m\u001b[0;34m\u001b[0m\u001b[0m\n\u001b[0;32m--> 607\u001b[0;31m             \u001b[0mXt\u001b[0m \u001b[0;34m=\u001b[0m \u001b[0mtransform\u001b[0m\u001b[0;34m.\u001b[0m\u001b[0mtransform\u001b[0m\u001b[0;34m(\u001b[0m\u001b[0mXt\u001b[0m\u001b[0;34m)\u001b[0m\u001b[0;34m\u001b[0m\u001b[0;34m\u001b[0m\u001b[0m\n\u001b[0m\u001b[1;32m    608\u001b[0m         \u001b[0mscore_params\u001b[0m \u001b[0;34m=\u001b[0m \u001b[0;34m{\u001b[0m\u001b[0;34m}\u001b[0m\u001b[0;34m\u001b[0m\u001b[0;34m\u001b[0m\u001b[0m\n\u001b[1;32m    609\u001b[0m         \u001b[0;32mif\u001b[0m \u001b[0msample_weight\u001b[0m \u001b[0;32mis\u001b[0m \u001b[0;32mnot\u001b[0m \u001b[0;32mNone\u001b[0m\u001b[0;34m:\u001b[0m\u001b[0;34m\u001b[0m\u001b[0;34m\u001b[0m\u001b[0m\n",
      "\u001b[0;32m/Applications/anaconda3/lib/python3.8/site-packages/sklearn/compose/_column_transformer.py\u001b[0m in \u001b[0;36mtransform\u001b[0;34m(self, X)\u001b[0m\n\u001b[1;32m    602\u001b[0m         \u001b[0;31m# TODO: also call _check_n_features(reset=False) in 0.24\u001b[0m\u001b[0;34m\u001b[0m\u001b[0;34m\u001b[0m\u001b[0;34m\u001b[0m\u001b[0m\n\u001b[1;32m    603\u001b[0m         \u001b[0mself\u001b[0m\u001b[0;34m.\u001b[0m\u001b[0m_validate_features\u001b[0m\u001b[0;34m(\u001b[0m\u001b[0mX\u001b[0m\u001b[0;34m.\u001b[0m\u001b[0mshape\u001b[0m\u001b[0;34m[\u001b[0m\u001b[0;36m1\u001b[0m\u001b[0;34m]\u001b[0m\u001b[0;34m,\u001b[0m \u001b[0mX_feature_names\u001b[0m\u001b[0;34m)\u001b[0m\u001b[0;34m\u001b[0m\u001b[0;34m\u001b[0m\u001b[0m\n\u001b[0;32m--> 604\u001b[0;31m         \u001b[0mXs\u001b[0m \u001b[0;34m=\u001b[0m \u001b[0mself\u001b[0m\u001b[0;34m.\u001b[0m\u001b[0m_fit_transform\u001b[0m\u001b[0;34m(\u001b[0m\u001b[0mX\u001b[0m\u001b[0;34m,\u001b[0m \u001b[0;32mNone\u001b[0m\u001b[0;34m,\u001b[0m \u001b[0m_transform_one\u001b[0m\u001b[0;34m,\u001b[0m \u001b[0mfitted\u001b[0m\u001b[0;34m=\u001b[0m\u001b[0;32mTrue\u001b[0m\u001b[0;34m)\u001b[0m\u001b[0;34m\u001b[0m\u001b[0;34m\u001b[0m\u001b[0m\n\u001b[0m\u001b[1;32m    605\u001b[0m         \u001b[0mself\u001b[0m\u001b[0;34m.\u001b[0m\u001b[0m_validate_output\u001b[0m\u001b[0;34m(\u001b[0m\u001b[0mXs\u001b[0m\u001b[0;34m)\u001b[0m\u001b[0;34m\u001b[0m\u001b[0;34m\u001b[0m\u001b[0m\n\u001b[1;32m    606\u001b[0m \u001b[0;34m\u001b[0m\u001b[0m\n",
      "\u001b[0;32m/Applications/anaconda3/lib/python3.8/site-packages/sklearn/compose/_column_transformer.py\u001b[0m in \u001b[0;36m_fit_transform\u001b[0;34m(self, X, y, func, fitted)\u001b[0m\n\u001b[1;32m    456\u001b[0m             self._iter(fitted=fitted, replace_strings=True))\n\u001b[1;32m    457\u001b[0m         \u001b[0;32mtry\u001b[0m\u001b[0;34m:\u001b[0m\u001b[0;34m\u001b[0m\u001b[0;34m\u001b[0m\u001b[0m\n\u001b[0;32m--> 458\u001b[0;31m             return Parallel(n_jobs=self.n_jobs)(\n\u001b[0m\u001b[1;32m    459\u001b[0m                 delayed(func)(\n\u001b[1;32m    460\u001b[0m                     \u001b[0mtransformer\u001b[0m\u001b[0;34m=\u001b[0m\u001b[0mclone\u001b[0m\u001b[0;34m(\u001b[0m\u001b[0mtrans\u001b[0m\u001b[0;34m)\u001b[0m \u001b[0;32mif\u001b[0m \u001b[0;32mnot\u001b[0m \u001b[0mfitted\u001b[0m \u001b[0;32melse\u001b[0m \u001b[0mtrans\u001b[0m\u001b[0;34m,\u001b[0m\u001b[0;34m\u001b[0m\u001b[0;34m\u001b[0m\u001b[0m\n",
      "\u001b[0;32m/Applications/anaconda3/lib/python3.8/site-packages/joblib/parallel.py\u001b[0m in \u001b[0;36m__call__\u001b[0;34m(self, iterable)\u001b[0m\n\u001b[1;32m   1027\u001b[0m             \u001b[0;31m# remaining jobs.\u001b[0m\u001b[0;34m\u001b[0m\u001b[0;34m\u001b[0m\u001b[0;34m\u001b[0m\u001b[0m\n\u001b[1;32m   1028\u001b[0m             \u001b[0mself\u001b[0m\u001b[0;34m.\u001b[0m\u001b[0m_iterating\u001b[0m \u001b[0;34m=\u001b[0m \u001b[0;32mFalse\u001b[0m\u001b[0;34m\u001b[0m\u001b[0;34m\u001b[0m\u001b[0m\n\u001b[0;32m-> 1029\u001b[0;31m             \u001b[0;32mif\u001b[0m \u001b[0mself\u001b[0m\u001b[0;34m.\u001b[0m\u001b[0mdispatch_one_batch\u001b[0m\u001b[0;34m(\u001b[0m\u001b[0miterator\u001b[0m\u001b[0;34m)\u001b[0m\u001b[0;34m:\u001b[0m\u001b[0;34m\u001b[0m\u001b[0;34m\u001b[0m\u001b[0m\n\u001b[0m\u001b[1;32m   1030\u001b[0m                 \u001b[0mself\u001b[0m\u001b[0;34m.\u001b[0m\u001b[0m_iterating\u001b[0m \u001b[0;34m=\u001b[0m \u001b[0mself\u001b[0m\u001b[0;34m.\u001b[0m\u001b[0m_original_iterator\u001b[0m \u001b[0;32mis\u001b[0m \u001b[0;32mnot\u001b[0m \u001b[0;32mNone\u001b[0m\u001b[0;34m\u001b[0m\u001b[0;34m\u001b[0m\u001b[0m\n\u001b[1;32m   1031\u001b[0m \u001b[0;34m\u001b[0m\u001b[0m\n",
      "\u001b[0;32m/Applications/anaconda3/lib/python3.8/site-packages/joblib/parallel.py\u001b[0m in \u001b[0;36mdispatch_one_batch\u001b[0;34m(self, iterator)\u001b[0m\n\u001b[1;32m    845\u001b[0m                 \u001b[0;32mreturn\u001b[0m \u001b[0;32mFalse\u001b[0m\u001b[0;34m\u001b[0m\u001b[0;34m\u001b[0m\u001b[0m\n\u001b[1;32m    846\u001b[0m             \u001b[0;32melse\u001b[0m\u001b[0;34m:\u001b[0m\u001b[0;34m\u001b[0m\u001b[0;34m\u001b[0m\u001b[0m\n\u001b[0;32m--> 847\u001b[0;31m                 \u001b[0mself\u001b[0m\u001b[0;34m.\u001b[0m\u001b[0m_dispatch\u001b[0m\u001b[0;34m(\u001b[0m\u001b[0mtasks\u001b[0m\u001b[0;34m)\u001b[0m\u001b[0;34m\u001b[0m\u001b[0;34m\u001b[0m\u001b[0m\n\u001b[0m\u001b[1;32m    848\u001b[0m                 \u001b[0;32mreturn\u001b[0m \u001b[0;32mTrue\u001b[0m\u001b[0;34m\u001b[0m\u001b[0;34m\u001b[0m\u001b[0m\n\u001b[1;32m    849\u001b[0m \u001b[0;34m\u001b[0m\u001b[0m\n",
      "\u001b[0;32m/Applications/anaconda3/lib/python3.8/site-packages/joblib/parallel.py\u001b[0m in \u001b[0;36m_dispatch\u001b[0;34m(self, batch)\u001b[0m\n\u001b[1;32m    763\u001b[0m         \u001b[0;32mwith\u001b[0m \u001b[0mself\u001b[0m\u001b[0;34m.\u001b[0m\u001b[0m_lock\u001b[0m\u001b[0;34m:\u001b[0m\u001b[0;34m\u001b[0m\u001b[0;34m\u001b[0m\u001b[0m\n\u001b[1;32m    764\u001b[0m             \u001b[0mjob_idx\u001b[0m \u001b[0;34m=\u001b[0m \u001b[0mlen\u001b[0m\u001b[0;34m(\u001b[0m\u001b[0mself\u001b[0m\u001b[0;34m.\u001b[0m\u001b[0m_jobs\u001b[0m\u001b[0;34m)\u001b[0m\u001b[0;34m\u001b[0m\u001b[0;34m\u001b[0m\u001b[0m\n\u001b[0;32m--> 765\u001b[0;31m             \u001b[0mjob\u001b[0m \u001b[0;34m=\u001b[0m \u001b[0mself\u001b[0m\u001b[0;34m.\u001b[0m\u001b[0m_backend\u001b[0m\u001b[0;34m.\u001b[0m\u001b[0mapply_async\u001b[0m\u001b[0;34m(\u001b[0m\u001b[0mbatch\u001b[0m\u001b[0;34m,\u001b[0m \u001b[0mcallback\u001b[0m\u001b[0;34m=\u001b[0m\u001b[0mcb\u001b[0m\u001b[0;34m)\u001b[0m\u001b[0;34m\u001b[0m\u001b[0;34m\u001b[0m\u001b[0m\n\u001b[0m\u001b[1;32m    766\u001b[0m             \u001b[0;31m# A job can complete so quickly than its callback is\u001b[0m\u001b[0;34m\u001b[0m\u001b[0;34m\u001b[0m\u001b[0;34m\u001b[0m\u001b[0m\n\u001b[1;32m    767\u001b[0m             \u001b[0;31m# called before we get here, causing self._jobs to\u001b[0m\u001b[0;34m\u001b[0m\u001b[0;34m\u001b[0m\u001b[0;34m\u001b[0m\u001b[0m\n",
      "\u001b[0;32m/Applications/anaconda3/lib/python3.8/site-packages/joblib/_parallel_backends.py\u001b[0m in \u001b[0;36mapply_async\u001b[0;34m(self, func, callback)\u001b[0m\n\u001b[1;32m    206\u001b[0m     \u001b[0;32mdef\u001b[0m \u001b[0mapply_async\u001b[0m\u001b[0;34m(\u001b[0m\u001b[0mself\u001b[0m\u001b[0;34m,\u001b[0m \u001b[0mfunc\u001b[0m\u001b[0;34m,\u001b[0m \u001b[0mcallback\u001b[0m\u001b[0;34m=\u001b[0m\u001b[0;32mNone\u001b[0m\u001b[0;34m)\u001b[0m\u001b[0;34m:\u001b[0m\u001b[0;34m\u001b[0m\u001b[0;34m\u001b[0m\u001b[0m\n\u001b[1;32m    207\u001b[0m         \u001b[0;34m\"\"\"Schedule a func to be run\"\"\"\u001b[0m\u001b[0;34m\u001b[0m\u001b[0;34m\u001b[0m\u001b[0m\n\u001b[0;32m--> 208\u001b[0;31m         \u001b[0mresult\u001b[0m \u001b[0;34m=\u001b[0m \u001b[0mImmediateResult\u001b[0m\u001b[0;34m(\u001b[0m\u001b[0mfunc\u001b[0m\u001b[0;34m)\u001b[0m\u001b[0;34m\u001b[0m\u001b[0;34m\u001b[0m\u001b[0m\n\u001b[0m\u001b[1;32m    209\u001b[0m         \u001b[0;32mif\u001b[0m \u001b[0mcallback\u001b[0m\u001b[0;34m:\u001b[0m\u001b[0;34m\u001b[0m\u001b[0;34m\u001b[0m\u001b[0m\n\u001b[1;32m    210\u001b[0m             \u001b[0mcallback\u001b[0m\u001b[0;34m(\u001b[0m\u001b[0mresult\u001b[0m\u001b[0;34m)\u001b[0m\u001b[0;34m\u001b[0m\u001b[0;34m\u001b[0m\u001b[0m\n",
      "\u001b[0;32m/Applications/anaconda3/lib/python3.8/site-packages/joblib/_parallel_backends.py\u001b[0m in \u001b[0;36m__init__\u001b[0;34m(self, batch)\u001b[0m\n\u001b[1;32m    570\u001b[0m         \u001b[0;31m# Don't delay the application, to avoid keeping the input\u001b[0m\u001b[0;34m\u001b[0m\u001b[0;34m\u001b[0m\u001b[0;34m\u001b[0m\u001b[0m\n\u001b[1;32m    571\u001b[0m         \u001b[0;31m# arguments in memory\u001b[0m\u001b[0;34m\u001b[0m\u001b[0;34m\u001b[0m\u001b[0;34m\u001b[0m\u001b[0m\n\u001b[0;32m--> 572\u001b[0;31m         \u001b[0mself\u001b[0m\u001b[0;34m.\u001b[0m\u001b[0mresults\u001b[0m \u001b[0;34m=\u001b[0m \u001b[0mbatch\u001b[0m\u001b[0;34m(\u001b[0m\u001b[0;34m)\u001b[0m\u001b[0;34m\u001b[0m\u001b[0;34m\u001b[0m\u001b[0m\n\u001b[0m\u001b[1;32m    573\u001b[0m \u001b[0;34m\u001b[0m\u001b[0m\n\u001b[1;32m    574\u001b[0m     \u001b[0;32mdef\u001b[0m \u001b[0mget\u001b[0m\u001b[0;34m(\u001b[0m\u001b[0mself\u001b[0m\u001b[0;34m)\u001b[0m\u001b[0;34m:\u001b[0m\u001b[0;34m\u001b[0m\u001b[0;34m\u001b[0m\u001b[0m\n",
      "\u001b[0;32m/Applications/anaconda3/lib/python3.8/site-packages/joblib/parallel.py\u001b[0m in \u001b[0;36m__call__\u001b[0;34m(self)\u001b[0m\n\u001b[1;32m    250\u001b[0m         \u001b[0;31m# change the default number of processes to -1\u001b[0m\u001b[0;34m\u001b[0m\u001b[0;34m\u001b[0m\u001b[0;34m\u001b[0m\u001b[0m\n\u001b[1;32m    251\u001b[0m         \u001b[0;32mwith\u001b[0m \u001b[0mparallel_backend\u001b[0m\u001b[0;34m(\u001b[0m\u001b[0mself\u001b[0m\u001b[0;34m.\u001b[0m\u001b[0m_backend\u001b[0m\u001b[0;34m,\u001b[0m \u001b[0mn_jobs\u001b[0m\u001b[0;34m=\u001b[0m\u001b[0mself\u001b[0m\u001b[0;34m.\u001b[0m\u001b[0m_n_jobs\u001b[0m\u001b[0;34m)\u001b[0m\u001b[0;34m:\u001b[0m\u001b[0;34m\u001b[0m\u001b[0;34m\u001b[0m\u001b[0m\n\u001b[0;32m--> 252\u001b[0;31m             return [func(*args, **kwargs)\n\u001b[0m\u001b[1;32m    253\u001b[0m                     for func, args, kwargs in self.items]\n\u001b[1;32m    254\u001b[0m \u001b[0;34m\u001b[0m\u001b[0m\n",
      "\u001b[0;32m/Applications/anaconda3/lib/python3.8/site-packages/joblib/parallel.py\u001b[0m in \u001b[0;36m<listcomp>\u001b[0;34m(.0)\u001b[0m\n\u001b[1;32m    250\u001b[0m         \u001b[0;31m# change the default number of processes to -1\u001b[0m\u001b[0;34m\u001b[0m\u001b[0;34m\u001b[0m\u001b[0;34m\u001b[0m\u001b[0m\n\u001b[1;32m    251\u001b[0m         \u001b[0;32mwith\u001b[0m \u001b[0mparallel_backend\u001b[0m\u001b[0;34m(\u001b[0m\u001b[0mself\u001b[0m\u001b[0;34m.\u001b[0m\u001b[0m_backend\u001b[0m\u001b[0;34m,\u001b[0m \u001b[0mn_jobs\u001b[0m\u001b[0;34m=\u001b[0m\u001b[0mself\u001b[0m\u001b[0;34m.\u001b[0m\u001b[0m_n_jobs\u001b[0m\u001b[0;34m)\u001b[0m\u001b[0;34m:\u001b[0m\u001b[0;34m\u001b[0m\u001b[0;34m\u001b[0m\u001b[0m\n\u001b[0;32m--> 252\u001b[0;31m             return [func(*args, **kwargs)\n\u001b[0m\u001b[1;32m    253\u001b[0m                     for func, args, kwargs in self.items]\n\u001b[1;32m    254\u001b[0m \u001b[0;34m\u001b[0m\u001b[0m\n",
      "\u001b[0;32m/Applications/anaconda3/lib/python3.8/site-packages/sklearn/pipeline.py\u001b[0m in \u001b[0;36m_transform_one\u001b[0;34m(transformer, X, y, weight, **fit_params)\u001b[0m\n\u001b[1;32m    717\u001b[0m \u001b[0;34m\u001b[0m\u001b[0m\n\u001b[1;32m    718\u001b[0m \u001b[0;32mdef\u001b[0m \u001b[0m_transform_one\u001b[0m\u001b[0;34m(\u001b[0m\u001b[0mtransformer\u001b[0m\u001b[0;34m,\u001b[0m \u001b[0mX\u001b[0m\u001b[0;34m,\u001b[0m \u001b[0my\u001b[0m\u001b[0;34m,\u001b[0m \u001b[0mweight\u001b[0m\u001b[0;34m,\u001b[0m \u001b[0;34m**\u001b[0m\u001b[0mfit_params\u001b[0m\u001b[0;34m)\u001b[0m\u001b[0;34m:\u001b[0m\u001b[0;34m\u001b[0m\u001b[0;34m\u001b[0m\u001b[0m\n\u001b[0;32m--> 719\u001b[0;31m     \u001b[0mres\u001b[0m \u001b[0;34m=\u001b[0m \u001b[0mtransformer\u001b[0m\u001b[0;34m.\u001b[0m\u001b[0mtransform\u001b[0m\u001b[0;34m(\u001b[0m\u001b[0mX\u001b[0m\u001b[0;34m)\u001b[0m\u001b[0;34m\u001b[0m\u001b[0;34m\u001b[0m\u001b[0m\n\u001b[0m\u001b[1;32m    720\u001b[0m     \u001b[0;31m# if we have a weight for this transformer, multiply output\u001b[0m\u001b[0;34m\u001b[0m\u001b[0;34m\u001b[0m\u001b[0;34m\u001b[0m\u001b[0m\n\u001b[1;32m    721\u001b[0m     \u001b[0;32mif\u001b[0m \u001b[0mweight\u001b[0m \u001b[0;32mis\u001b[0m \u001b[0;32mNone\u001b[0m\u001b[0;34m:\u001b[0m\u001b[0;34m\u001b[0m\u001b[0;34m\u001b[0m\u001b[0m\n",
      "\u001b[0;32m/Applications/anaconda3/lib/python3.8/site-packages/sklearn/preprocessing/_encoders.py\u001b[0m in \u001b[0;36mtransform\u001b[0;34m(self, X)\u001b[0m\n\u001b[1;32m    426\u001b[0m         \u001b[0mcheck_is_fitted\u001b[0m\u001b[0;34m(\u001b[0m\u001b[0mself\u001b[0m\u001b[0;34m)\u001b[0m\u001b[0;34m\u001b[0m\u001b[0;34m\u001b[0m\u001b[0m\n\u001b[1;32m    427\u001b[0m         \u001b[0;31m# validation of X happens in _check_X called by _transform\u001b[0m\u001b[0;34m\u001b[0m\u001b[0;34m\u001b[0m\u001b[0;34m\u001b[0m\u001b[0m\n\u001b[0;32m--> 428\u001b[0;31m         \u001b[0mX_int\u001b[0m\u001b[0;34m,\u001b[0m \u001b[0mX_mask\u001b[0m \u001b[0;34m=\u001b[0m \u001b[0mself\u001b[0m\u001b[0;34m.\u001b[0m\u001b[0m_transform\u001b[0m\u001b[0;34m(\u001b[0m\u001b[0mX\u001b[0m\u001b[0;34m,\u001b[0m \u001b[0mhandle_unknown\u001b[0m\u001b[0;34m=\u001b[0m\u001b[0mself\u001b[0m\u001b[0;34m.\u001b[0m\u001b[0mhandle_unknown\u001b[0m\u001b[0;34m)\u001b[0m\u001b[0;34m\u001b[0m\u001b[0;34m\u001b[0m\u001b[0m\n\u001b[0m\u001b[1;32m    429\u001b[0m \u001b[0;34m\u001b[0m\u001b[0m\n\u001b[1;32m    430\u001b[0m         \u001b[0mn_samples\u001b[0m\u001b[0;34m,\u001b[0m \u001b[0mn_features\u001b[0m \u001b[0;34m=\u001b[0m \u001b[0mX_int\u001b[0m\u001b[0;34m.\u001b[0m\u001b[0mshape\u001b[0m\u001b[0;34m\u001b[0m\u001b[0;34m\u001b[0m\u001b[0m\n",
      "\u001b[0;32m/Applications/anaconda3/lib/python3.8/site-packages/sklearn/preprocessing/_encoders.py\u001b[0m in \u001b[0;36m_transform\u001b[0;34m(self, X, handle_unknown)\u001b[0m\n\u001b[1;32m    122\u001b[0m                     msg = (\"Found unknown categories {0} in column {1}\"\n\u001b[1;32m    123\u001b[0m                            \" during transform\".format(diff, i))\n\u001b[0;32m--> 124\u001b[0;31m                     \u001b[0;32mraise\u001b[0m \u001b[0mValueError\u001b[0m\u001b[0;34m(\u001b[0m\u001b[0mmsg\u001b[0m\u001b[0;34m)\u001b[0m\u001b[0;34m\u001b[0m\u001b[0;34m\u001b[0m\u001b[0m\n\u001b[0m\u001b[1;32m    125\u001b[0m                 \u001b[0;32melse\u001b[0m\u001b[0;34m:\u001b[0m\u001b[0;34m\u001b[0m\u001b[0;34m\u001b[0m\u001b[0m\n\u001b[1;32m    126\u001b[0m                     \u001b[0;31m# Set the problematic rows to an acceptable value and\u001b[0m\u001b[0;34m\u001b[0m\u001b[0;34m\u001b[0m\u001b[0;34m\u001b[0m\u001b[0m\n",
      "\u001b[0;31mValueError\u001b[0m: Found unknown categories ['J R Velazquez', 'R L Moore', 'O Murphy'] in column 1 during transform"
     ]
    },
    {
     "data": {
      "application/javascript": [
       "\n",
       "            setTimeout(function() {\n",
       "                var nbb_cell_id = 35;\n",
       "                var nbb_unformatted_code = \"pipeline_cv = GridSearchCV(pipeline, grid)\\npipeline_cv.fit(X_train, y_train)\\n\\nprint(f\\\"Train score: {pipeline_cv.score(X_train, y_train):.4f}\\\")\\nprint(f\\\"Test score: {pipeline_cv.score(X_test, y_test):.4f}\\\")\";\n",
       "                var nbb_formatted_code = \"pipeline_cv = GridSearchCV(pipeline, grid)\\npipeline_cv.fit(X_train, y_train)\\n\\nprint(f\\\"Train score: {pipeline_cv.score(X_train, y_train):.4f}\\\")\\nprint(f\\\"Test score: {pipeline_cv.score(X_test, y_test):.4f}\\\")\";\n",
       "                var nbb_cells = Jupyter.notebook.get_cells();\n",
       "                for (var i = 0; i < nbb_cells.length; ++i) {\n",
       "                    if (nbb_cells[i].input_prompt_number == nbb_cell_id) {\n",
       "                        if (nbb_cells[i].get_text() == nbb_unformatted_code) {\n",
       "                             nbb_cells[i].set_text(nbb_formatted_code);\n",
       "                        }\n",
       "                        break;\n",
       "                    }\n",
       "                }\n",
       "            }, 500);\n",
       "            "
      ],
      "text/plain": [
       "<IPython.core.display.Javascript object>"
      ]
     },
     "metadata": {},
     "output_type": "display_data"
    }
   ],
   "source": [
    "pipeline_cv = GridSearchCV(pipeline, grid)\n",
    "pipeline_cv.fit(X_train, y_train)\n",
    "\n",
    "print(f\"Train score: {pipeline_cv.score(X_train, y_train):.4f}\")\n",
    "print(f\"Test score: {pipeline_cv.score(X_test, y_test):.4f}\")"
   ]
  },
  {
   "cell_type": "code",
   "execution_count": null,
   "metadata": {},
   "outputs": [],
   "source": [
    "# Evaluate your model using additional appropriate metrics\n",
    "# If doing regression consider:\n",
    "# * Mean Absolute Error\n",
    "# * Mean Absolute Percent Error\n",
    "# * Fitted by Actuals scatter plot\n",
    "\n",
    "# If doing classification consider:\n",
    "# * Confusion matrix\n",
    "# * Classification report\n",
    "\n",
    "# Save to file\n",
    "best_model = pipeline_cv.best_estimator_\n",
    "with open(\"saved_model.pkl\", \"wb\") as f:\n",
    "    pickle.dump(best_model, f)\n",
    "\n",
    "\n",
    "# Load from file\n",
    "with open(\"saved_model.pkl\", \"rb\") as f:\n",
    "    loaded_model = pickle.load(f)\n",
    "\n",
    "preds = loaded_model.predict(new_data)"
   ]
  }
 ],
 "metadata": {
  "kernelspec": {
   "display_name": "Python 3",
   "language": "python",
   "name": "python3"
  },
  "language_info": {
   "codemirror_mode": {
    "name": "ipython",
    "version": 3
   },
   "file_extension": ".py",
   "mimetype": "text/x-python",
   "name": "python",
   "nbconvert_exporter": "python",
   "pygments_lexer": "ipython3",
   "version": "3.8.3"
  }
 },
 "nbformat": 4,
 "nbformat_minor": 4
}
